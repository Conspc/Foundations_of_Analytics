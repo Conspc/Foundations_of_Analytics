{
 "cells": [
  {
   "cell_type": "markdown",
   "metadata": {},
   "source": [
    "# Lecutre 02: Basic Statistics \n",
    "### Topics: Random numbers; expected value, variance, histogram of Bernoulli, Poisson and Normal Distribution"
   ]
  },
  {
   "cell_type": "code",
   "execution_count": 1,
   "metadata": {},
   "outputs": [],
   "source": [
    "## Packages used in this session\n",
    "import numpy as np\n",
    "from numpy.linalg import inv\n",
    "import matplotlib.pyplot as plt"
   ]
  },
  {
   "cell_type": "markdown",
   "metadata": {},
   "source": [
    "## 1. Random Number Generator"
   ]
  },
  {
   "cell_type": "markdown",
   "metadata": {},
   "source": [
    "### Generate Number from Normal Distribution"
   ]
  },
  {
   "cell_type": "code",
   "execution_count": 45,
   "metadata": {},
   "outputs": [
    {
     "name": "stdout",
     "output_type": "stream",
     "text": [
      "[[-0.65076339  1.54329061  0.89902248]\n",
      " [-0.05550805  1.07398626 -1.72706687]\n",
      " [-1.9666488  -0.15989579  1.27453299]]\n"
     ]
    }
   ],
   "source": [
    "msize=3\n",
    "M = np.random.randn(msize,)\n",
    "print(M)"
   ]
  },
  {
   "cell_type": "markdown",
   "metadata": {},
   "source": [
    "### Generate Number from Uniform Distribution"
   ]
  },
  {
   "cell_type": "code",
   "execution_count": 46,
   "metadata": {},
   "outputs": [
    {
     "name": "stdout",
     "output_type": "stream",
     "text": [
      "[[0.50808195 0.39873594 0.5606066 ]\n",
      " [0.29693761 0.61638924 0.11528536]\n",
      " [0.95224953 0.89996643 0.68546591]]\n"
     ]
    }
   ],
   "source": [
    "M = np.random.rand(msize,msize)\n",
    "print(M)"
   ]
  },
  {
   "cell_type": "markdown",
   "metadata": {},
   "source": [
    "## 2. Expected Value of the Rows\n",
    "\n",
    "### Calculate with Numpy Function"
   ]
  },
  {
   "cell_type": "code",
   "execution_count": 47,
   "metadata": {},
   "outputs": [
    {
     "data": {
      "text/plain": [
       "0.48914149773480337"
      ]
     },
     "execution_count": 47,
     "metadata": {},
     "output_type": "execute_result"
    }
   ],
   "source": [
    "np.mean(M[0])"
   ]
  },
  {
   "cell_type": "code",
   "execution_count": 48,
   "metadata": {},
   "outputs": [
    {
     "data": {
      "text/plain": [
       "array([0.4891415 , 0.34287074, 0.84589396])"
      ]
     },
     "execution_count": 48,
     "metadata": {},
     "output_type": "execute_result"
    }
   ],
   "source": [
    "np.mean(M, 1) # Calculate Mean by Row"
   ]
  },
  {
   "cell_type": "code",
   "execution_count": 49,
   "metadata": {},
   "outputs": [
    {
     "data": {
      "text/plain": [
       "array([0.58575637, 0.63836387, 0.45378596])"
      ]
     },
     "execution_count": 49,
     "metadata": {},
     "output_type": "execute_result"
    }
   ],
   "source": [
    "np.mean(M, 0) # Calculate Mean by Column"
   ]
  },
  {
   "cell_type": "markdown",
   "metadata": {},
   "source": [
    "### Calculate Mean by Column with Loop"
   ]
  },
  {
   "cell_type": "code",
   "execution_count": 50,
   "metadata": {},
   "outputs": [
    {
     "name": "stdout",
     "output_type": "stream",
     "text": [
      "0.48914149773480337\n",
      "0.342870738709908\n",
      "0.8458939606178487\n",
      "time: 0.0007481575012207031\n"
     ]
    }
   ],
   "source": [
    "import time\n",
    "t0=time.time()\n",
    "for i in range(M.shape[0]):\n",
    "    print (np.mean(M[i]))\n",
    "print (\"time:\", time.time()-t0)"
   ]
  },
  {
   "cell_type": "markdown",
   "metadata": {},
   "source": [
    "### Calculate Using Matrix (Vectorize)"
   ]
  },
  {
   "cell_type": "code",
   "execution_count": 56,
   "metadata": {},
   "outputs": [
    {
     "name": "stdout",
     "output_type": "stream",
     "text": [
      "mean: [0.4891415  0.34287074 0.84589396]\n",
      "time: 0.0006687641143798828\n"
     ]
    }
   ],
   "source": [
    "t0=time.time()\n",
    "expM=np.matmul(M, np.ones(msize))/msize\n",
    "print (\"mean:\", expM)\n",
    "print (\"time:\", time.time()-t0)"
   ]
  },
  {
   "cell_type": "markdown",
   "metadata": {},
   "source": [
    "## 3. Variance, Standard Deviation"
   ]
  },
  {
   "cell_type": "markdown",
   "metadata": {},
   "source": [
    "### Calculate with Numpy Function"
   ]
  },
  {
   "cell_type": "code",
   "execution_count": 59,
   "metadata": {},
   "outputs": [
    {
     "name": "stdout",
     "output_type": "stream",
     "text": [
      "0.0045463892115051715\n",
      "0.06742691755897767\n",
      "0.06742691755897767\n"
     ]
    }
   ],
   "source": [
    "print (np.var(M[0]))\n",
    "print (np.sqrt(np.var(M[0])))\n",
    "print (np.std(M[0]))"
   ]
  },
  {
   "cell_type": "code",
   "execution_count": 55,
   "metadata": {},
   "outputs": [
    {
     "data": {
      "text/plain": [
       "0.0045463892115051715"
      ]
     },
     "execution_count": 55,
     "metadata": {},
     "output_type": "execute_result"
    }
   ],
   "source": [
    "np.dot((M[0]-np.mean(M[0])), (M[0]-np.mean(M[0])))/msize"
   ]
  },
  {
   "cell_type": "code",
   "execution_count": 74,
   "metadata": {},
   "outputs": [
    {
     "data": {
      "text/plain": [
       "array([[ 0.00454639, -0.013954  , -0.00477968],\n",
       "       [-0.013954  ,  0.04290577,  0.01547188],\n",
       "       [-0.00477968,  0.01547188,  0.01332417]])"
      ]
     },
     "execution_count": 74,
     "metadata": {},
     "output_type": "execute_result"
    }
   ],
   "source": [
    "np.matmul(M-np.mean(M,1).reshape(3,1), (M-np.mean(M,1).reshape(3,1)).T)/msize"
   ]
  },
  {
   "cell_type": "code",
   "execution_count": 69,
   "metadata": {},
   "outputs": [
    {
     "data": {
      "text/plain": [
       "array([[ 0.01894046, -0.09040556,  0.0714651 ],\n",
       "       [-0.04593313,  0.2735185 , -0.22758537],\n",
       "       [ 0.10635557,  0.05407247, -0.16042805]])"
      ]
     },
     "execution_count": 69,
     "metadata": {},
     "output_type": "execute_result"
    }
   ],
   "source": [
    "M-np.mean(M,1).reshape(3,1)"
   ]
  },
  {
   "cell_type": "markdown",
   "metadata": {},
   "source": [
    "## 4. Common Random Distribution: Bernoulli, Poisson, Normal\n",
    "### Bernoulli Distribution/Binomial Distribution\n",
    "\\begin{equation}\n",
    "P(k)=\\frac{n!}{k!(n-k)!}p^k(1-p)^{n-k}\n",
    "\\end{equation}\n",
    "\n",
    "It becomes binomial distribution \n",
    "When $n=1$\n",
    "\n",
    "\\begin{equation}\n",
    "P(k)=p^k(1-p)^{1-k}, k=0 \\text{ or } 1\n",
    "\\end{equation}"
   ]
  },
  {
   "cell_type": "code",
   "execution_count": 76,
   "metadata": {},
   "outputs": [],
   "source": [
    "bernoulitrial=np.random.binomial(1, 0.3, 5000) #n=1; p=0.3"
   ]
  },
  {
   "cell_type": "code",
   "execution_count": 77,
   "metadata": {},
   "outputs": [
    {
     "data": {
      "text/plain": [
       "array([1, 0, 1, ..., 1, 0, 1])"
      ]
     },
     "execution_count": 77,
     "metadata": {},
     "output_type": "execute_result"
    }
   ],
   "source": [
    "bernoulitrial"
   ]
  },
  {
   "cell_type": "code",
   "execution_count": 85,
   "metadata": {},
   "outputs": [],
   "source": [
    "unique_elements, counts_elements=np.unique(bernoulitrial, return_counts=True)"
   ]
  },
  {
   "cell_type": "code",
   "execution_count": 84,
   "metadata": {},
   "outputs": [
    {
     "name": "stdout",
     "output_type": "stream",
     "text": [
      "unique elements:  [0 1] ; counts:  [3471 1529]\n"
     ]
    }
   ],
   "source": [
    "print ('unique elements: ', unique_elements, '; counts: ', counts_elements)"
   ]
  },
  {
   "cell_type": "markdown",
   "metadata": {},
   "source": [
    "### Mean and Variance of Bernoulli Distribution\n",
    "Expected Value: $E(X)=p$\n",
    "\n",
    "Variance: $Var(X)=p(1-p)$"
   ]
  },
  {
   "cell_type": "code",
   "execution_count": 87,
   "metadata": {},
   "outputs": [
    {
     "name": "stdout",
     "output_type": "stream",
     "text": [
      "mean:  0.3058\n",
      "variance:  0.21228635999999998\n"
     ]
    }
   ],
   "source": [
    "print('mean: ', np.mean(bernoulitrial))\n",
    "print('variance: ',np.var(bernoulitrial))"
   ]
  },
  {
   "cell_type": "markdown",
   "metadata": {},
   "source": [
    "### Histogram"
   ]
  },
  {
   "cell_type": "code",
   "execution_count": 91,
   "metadata": {},
   "outputs": [
    {
     "name": "stdout",
     "output_type": "stream",
     "text": [
      "[-0.5  0.5  1.5]\n"
     ]
    }
   ],
   "source": [
    "binblock=np.arange(-.5, 2, 1)\n",
    "print(binblock)"
   ]
  },
  {
   "cell_type": "code",
   "execution_count": 92,
   "metadata": {},
   "outputs": [
    {
     "data": {
      "image/png": "[encoded data removed]",
      "text/plain": [
       "<Figure size 432x288 with 1 Axes>"
      ]
     },
     "metadata": {
      "needs_background": "light"
     },
     "output_type": "display_data"
    }
   ],
   "source": [
    "plt.hist(bernoulitrial, bins = binblock, rwidth=0.9)\n",
    "plt.title(\"histogram\")\n",
    "plt.show()"
   ]
  },
  {
   "cell_type": "markdown",
   "metadata": {},
   "source": [
    "### Create Binomial Distribution from Bernouli Distributioni\n",
    "\n",
    "$X=X_1+X_2+...X_n$ is a binomial distribution with parameter $n$ and $p$, if $X_i$ are random variables of Bernoulli distribution of parameter $p$"
   ]
  },
  {
   "cell_type": "code",
   "execution_count": 102,
   "metadata": {},
   "outputs": [],
   "source": [
    "BernoulliNP = np.empty((5000,3))\n",
    "for i in range(3):\n",
    "    BernoulliNP[:,i]=np.random.binomial(1, 0.5, 5000)"
   ]
  },
  {
   "cell_type": "code",
   "execution_count": 103,
   "metadata": {},
   "outputs": [
    {
     "data": {
      "text/plain": [
       "(5000, 3)"
      ]
     },
     "execution_count": 103,
     "metadata": {},
     "output_type": "execute_result"
    }
   ],
   "source": [
    "BernoulliNP.shape"
   ]
  },
  {
   "cell_type": "code",
   "execution_count": 104,
   "metadata": {},
   "outputs": [
    {
     "data": {
      "text/plain": [
       "array([[0., 1., 1.],\n",
       "       [1., 0., 1.],\n",
       "       [1., 1., 0.],\n",
       "       ...,\n",
       "       [1., 1., 1.],\n",
       "       [1., 1., 1.],\n",
       "       [1., 1., 1.]])"
      ]
     },
     "execution_count": 104,
     "metadata": {},
     "output_type": "execute_result"
    }
   ],
   "source": [
    "BernoulliNP"
   ]
  },
  {
   "cell_type": "code",
   "execution_count": 105,
   "metadata": {},
   "outputs": [],
   "source": [
    "BinomialNP=np.sum(BernoulliNP, axis=1) #sum by row"
   ]
  },
  {
   "cell_type": "code",
   "execution_count": 107,
   "metadata": {},
   "outputs": [
    {
     "data": {
      "text/plain": [
       "(5000,)"
      ]
     },
     "execution_count": 107,
     "metadata": {},
     "output_type": "execute_result"
    }
   ],
   "source": [
    "BinomialNP.shape ## BinomialNP follows binomial distribution with n=3 and p=0.5"
   ]
  },
  {
   "cell_type": "code",
   "execution_count": 108,
   "metadata": {},
   "outputs": [],
   "source": [
    "unique_elements, counts_elements = np.unique(BinomialNP, return_counts=True)"
   ]
  },
  {
   "cell_type": "code",
   "execution_count": 113,
   "metadata": {},
   "outputs": [
    {
     "name": "stdout",
     "output_type": "stream",
     "text": [
      "values:  [0. 1. 2. 3.] counts:  [ 652 1844 1860  644]\n"
     ]
    }
   ],
   "source": [
    "print('values: ', unique_elements, 'counts: ', counts_elements)"
   ]
  },
  {
   "cell_type": "code",
   "execution_count": 118,
   "metadata": {},
   "outputs": [
    {
     "name": "stdout",
     "output_type": "stream",
     "text": [
      "[-0.5  0.5  1.5  2.5  3.5]\n"
     ]
    },
    {
     "data": {
      "image/png": "[encoded data removed]",
      "text/plain": [
       "<Figure size 432x288 with 1 Axes>"
      ]
     },
     "metadata": {
      "needs_background": "light"
     },
     "output_type": "display_data"
    }
   ],
   "source": [
    "binblock=np.arange(-.5, 4, 1)\n",
    "print(binblock)\n",
    "plt.hist(BinomialNP, bins = binblock, rwidth=0.9)\n",
    "plt.title(\"histogram\")\n",
    "plt.show()"
   ]
  },
  {
   "cell_type": "markdown",
   "metadata": {},
   "source": [
    "### The probability for each value can be calculated using p=0.5\n",
    "\\begin{equation*}\n",
    "X=\n",
    "\\begin{cases}\n",
    "x=0, p^3=0.125\\\\\n",
    "x=1, 3p(1-p)^2=0.375\\\\\n",
    "x=2, 3p^2(1-p) = 0.375\\\\\n",
    "x=3, (1-p)^3=0.125\\\\\n",
    "\\end{cases}\n",
    "\\end{equation*}\n"
   ]
  },
  {
   "cell_type": "code",
   "execution_count": 119,
   "metadata": {},
   "outputs": [
    {
     "data": {
      "text/plain": [
       "array([0.1304, 0.3688, 0.372 , 0.1288])"
      ]
     },
     "execution_count": 119,
     "metadata": {},
     "output_type": "execute_result"
    }
   ],
   "source": [
    "counts_elements/len(BinomialNP)"
   ]
  },
  {
   "cell_type": "markdown",
   "metadata": {},
   "source": [
    "### Poisson Distribution\n",
    "\n",
    "#### Distribution function $P(k)=\\frac{\\lambda^k}{k!}e^{-\\lambda}$, $k=0, 1, 2, ...$\n",
    "\n",
    "#### Expected Value $E(X)=\\lambda$\n",
    "\n",
    "#### Variance $Var(X)=\\lambda$"
   ]
  },
  {
   "cell_type": "code",
   "execution_count": 128,
   "metadata": {},
   "outputs": [],
   "source": [
    "poisson_trial=np.random.poisson(10, 5000) #lambda=10"
   ]
  },
  {
   "cell_type": "code",
   "execution_count": 129,
   "metadata": {},
   "outputs": [
    {
     "data": {
      "text/plain": [
       "array([17, 14, 10, ..., 12,  7, 13])"
      ]
     },
     "execution_count": 129,
     "metadata": {},
     "output_type": "execute_result"
    }
   ],
   "source": [
    "poisson_trial"
   ]
  },
  {
   "cell_type": "code",
   "execution_count": 130,
   "metadata": {},
   "outputs": [
    {
     "name": "stdout",
     "output_type": "stream",
     "text": [
      "10.041\n",
      "9.888919\n"
     ]
    }
   ],
   "source": [
    "print(np.mean(poisson_trial))\n",
    "print(np.var(poisson_trial))"
   ]
  },
  {
   "cell_type": "markdown",
   "metadata": {},
   "source": [
    "#### Histogram "
   ]
  },
  {
   "cell_type": "code",
   "execution_count": 124,
   "metadata": {},
   "outputs": [],
   "source": [
    "unique_elements, counts_elements = np.unique(poisson_trial, return_counts=True)"
   ]
  },
  {
   "cell_type": "code",
   "execution_count": 132,
   "metadata": {},
   "outputs": [
    {
     "data": {
      "text/plain": [
       "array([ 1,  2,  3,  4,  5,  6,  7,  8,  9, 10, 11, 12, 13, 14, 15, 16, 17,\n",
       "       18, 19, 20, 21, 22])"
      ]
     },
     "execution_count": 132,
     "metadata": {},
     "output_type": "execute_result"
    }
   ],
   "source": [
    "unique_elements"
   ]
  },
  {
   "cell_type": "code",
   "execution_count": 133,
   "metadata": {},
   "outputs": [
    {
     "data": {
      "text/plain": [
       "array([  3,   7,  36, 105, 194, 326, 462, 586, 636, 606, 596, 436, 372,\n",
       "       243, 154,  97,  71,  36,  13,  12,   8,   1])"
      ]
     },
     "execution_count": 133,
     "metadata": {},
     "output_type": "execute_result"
    }
   ],
   "source": [
    "counts_elements"
   ]
  },
  {
   "cell_type": "code",
   "execution_count": 134,
   "metadata": {},
   "outputs": [
    {
     "data": {
      "image/png": "[encoded data removed]",
      "text/plain": [
       "<Figure size 432x288 with 1 Axes>"
      ]
     },
     "metadata": {
      "needs_background": "light"
     },
     "output_type": "display_data"
    }
   ],
   "source": [
    "# histogram of np uniform distribution\n",
    "binblock=np.arange(-0.5, 25.5, 1)\n",
    "plt.hist(poisson_trial, bins = binblock, rwidth=0.9)\n",
    "plt.title(\"histogram\")\n",
    "plt.show()"
   ]
  },
  {
   "cell_type": "markdown",
   "metadata": {},
   "source": [
    "### Dice-Rolling"
   ]
  },
  {
   "cell_type": "code",
   "execution_count": null,
   "metadata": {},
   "outputs": [],
   "source": [
    "dice_trial=np.random.randint(1, 7, (5000, 1))"
   ]
  },
  {
   "cell_type": "code",
   "execution_count": null,
   "metadata": {},
   "outputs": [],
   "source": [
    "np.unique(dice_trial)"
   ]
  },
  {
   "cell_type": "code",
   "execution_count": null,
   "metadata": {},
   "outputs": [],
   "source": [
    "binblock=np.arange(-0.5, 7, 1)\n",
    "plt.hist(dice_trial, bins = binblock, rwidth=0.9)\n",
    "plt.title(\"histogram\")\n",
    "plt.show()"
   ]
  },
  {
   "cell_type": "code",
   "execution_count": null,
   "metadata": {},
   "outputs": [],
   "source": [
    "uniformtrial=np.random.rand(5000, 1)\n",
    "binblock=np.arange(-0.1, 1.1, 0.1 )\n",
    "plt.hist(uniformtrial, bins = binblock, rwidth=0.9)\n",
    "plt.title(\"histogram\")\n",
    "plt.show()"
   ]
  },
  {
   "cell_type": "markdown",
   "metadata": {},
   "source": [
    "### Normal Distribution\n",
    "$$f(x)=\\frac{1}{\\sqrt{2\\pi}}e^{-\\frac{x^2}{2}}$$\n",
    "$$E(X)=\\int\\limits_{-\\infty}^{\\infty}\\frac{1}{\\sqrt{2\\pi}}xe^{-\\frac{x^2}{2}}dx=0$$\n",
    "$$Var(X)=\\int\\limits_{-\\infty}^{\\infty}\\frac{1}{\\sqrt{2\\pi}}x^2e^{-\\frac{x^2}{2}}dx=1$$"
   ]
  },
  {
   "cell_type": "code",
   "execution_count": 136,
   "metadata": {},
   "outputs": [
    {
     "name": "stdout",
     "output_type": "stream",
     "text": [
      "[[ 1.42874442]\n",
      " [-2.18170562]\n",
      " [-0.13066136]\n",
      " ...\n",
      " [ 1.46575141]\n",
      " [-1.60170887]\n",
      " [-2.0744864 ]]\n"
     ]
    }
   ],
   "source": [
    "# histgram of np normal random distribution\n",
    "normaltrial=np.random.randn(5000, 1)\n",
    "print (normaltrial)"
   ]
  },
  {
   "cell_type": "code",
   "execution_count": 46,
   "metadata": {},
   "outputs": [
    {
     "data": {
      "text/plain": [
       "0.004135332082641173"
      ]
     },
     "execution_count": 46,
     "metadata": {},
     "output_type": "execute_result"
    }
   ],
   "source": [
    "np.mean(normaltrial)"
   ]
  },
  {
   "cell_type": "code",
   "execution_count": 47,
   "metadata": {},
   "outputs": [
    {
     "data": {
      "text/plain": [
       "1.005739694092676"
      ]
     },
     "execution_count": 47,
     "metadata": {},
     "output_type": "execute_result"
    }
   ],
   "source": [
    "np.var(normaltrial)"
   ]
  },
  {
   "cell_type": "code",
   "execution_count": 50,
   "metadata": {},
   "outputs": [
    {
     "data": {
      "image/png": "[encoded data removed]",
      "text/plain": [
       "<Figure size 432x288 with 1 Axes>"
      ]
     },
     "metadata": {
      "needs_background": "light"
     },
     "output_type": "display_data"
    }
   ],
   "source": [
    "binblock=np.arange(-5, 5.5, 0.5)\n",
    "plt.hist(normaltrial, bins = binblock, rwidth=0.9)\n",
    "plt.title(\"histogram\")\n",
    "plt.show()"
   ]
  },
  {
   "cell_type": "markdown",
   "metadata": {},
   "source": [
    "#### Normal Distribution of any mean $\\mu$ and variance $\\sigma$ can be generated by using the following formula\n",
    "\n",
    "$N(\\mu, \\sigma)=\\mu+\\sigma N(0,1)$"
   ]
  },
  {
   "cell_type": "code",
   "execution_count": 139,
   "metadata": {},
   "outputs": [
    {
     "data": {
      "image/png": "[encoded data removed]",
      "text/plain": [
       "<Figure size 432x288 with 1 Axes>"
      ]
     },
     "metadata": {
      "needs_background": "light"
     },
     "output_type": "display_data"
    }
   ],
   "source": [
    "# histgram of np normal random distribution\n",
    "normaltrial=2*np.random.randn(5000, 1)+5\n",
    "\n",
    "binblock=np.arange(-10, 15, 0.25)\n",
    "plt.hist(normaltrial, bins = binblock, rwidth=0.9)\n",
    "plt.title(\"histogram\")\n",
    "plt.show()"
   ]
  },
  {
   "cell_type": "code",
   "execution_count": 140,
   "metadata": {},
   "outputs": [
    {
     "data": {
      "text/plain": [
       "3.907193020860893"
      ]
     },
     "execution_count": 140,
     "metadata": {},
     "output_type": "execute_result"
    }
   ],
   "source": [
    "np.var(normaltrial)"
   ]
  },
  {
   "cell_type": "code",
   "execution_count": 141,
   "metadata": {},
   "outputs": [
    {
     "data": {
      "text/plain": [
       "4.980029659427174"
      ]
     },
     "execution_count": 141,
     "metadata": {},
     "output_type": "execute_result"
    }
   ],
   "source": [
    "np.mean(normaltrial)"
   ]
  },
  {
   "cell_type": "code",
   "execution_count": null,
   "metadata": {},
   "outputs": [],
   "source": []
  }
 ],
 "metadata": {
  "kernelspec": {
   "display_name": "Python 3",
   "language": "python",
   "name": "python3"
  },
  "language_info": {
   "codemirror_mode": {
    "name": "ipython",
    "version": 3
   },
   "file_extension": ".py",
   "mimetype": "text/x-python",
   "name": "python",
   "nbconvert_exporter": "python",
   "pygments_lexer": "ipython3",
   "version": "3.6.9"
  }
 },
 "nbformat": 4,
 "nbformat_minor": 2
}
