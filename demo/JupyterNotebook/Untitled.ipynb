{
 "cells": [
  {
   "cell_type": "code",
   "execution_count": 3,
   "metadata": {},
   "outputs": [
    {
     "data": {
      "text/plain": [
       "['/home/dlai/Projects/Foundations_of_Analytics/demo/JupyterNotebook/analyticvenv/lib/python36.zip',\n",
       " '/home/dlai/Projects/Foundations_of_Analytics/demo/JupyterNotebook/analyticvenv/lib/python3.6',\n",
       " '/home/dlai/Projects/Foundations_of_Analytics/demo/JupyterNotebook/analyticvenv/lib/python3.6/lib-dynload',\n",
       " '/usr/lib/python3.6',\n",
       " '',\n",
       " '/home/dlai/Projects/Foundations_of_Analytics/demo/JupyterNotebook/analyticvenv/lib/python3.6/site-packages',\n",
       " '/home/dlai/Projects/Foundations_of_Analytics/demo/JupyterNotebook/analyticvenv/lib/python3.6/site-packages/IPython/extensions',\n",
       " '/home/dlai/.ipython']"
      ]
     },
     "execution_count": 3,
     "metadata": {},
     "output_type": "execute_result"
    }
   ],
   "source": [
    "import sys\n",
    "sys.path"
   ]
  },
  {
   "cell_type": "code",
   "execution_count": null,
   "metadata": {},
   "outputs": [],
   "source": []
  }
 ],
 "metadata": {
  "kernelspec": {
   "display_name": "Python 3",
   "language": "python",
   "name": "python3"
  },
  "language_info": {
   "codemirror_mode": {
    "name": "ipython",
    "version": 3
   },
   "file_extension": ".py",
   "mimetype": "text/x-python",
   "name": "python",
   "nbconvert_exporter": "python",
   "pygments_lexer": "ipython3",
   "version": "3.6.9"
  }
 },
 "nbformat": 4,
 "nbformat_minor": 4
}
