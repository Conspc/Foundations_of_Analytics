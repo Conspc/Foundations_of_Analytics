{
 "cells": [
  {
   "cell_type": "markdown",
   "metadata": {},
   "source": [
    "## New package Installation\n",
    "```pip install gensim```"
   ]
  },
  {
   "cell_type": "markdown",
   "metadata": {},
   "source": [
    "## Download word2vec files\n",
    "### Source 1\n",
    "http://evexdb.org/pmresources/vec-space-models/\n",
    "\n",
    "Download File: PubMed-and-PMC-w2v.bin\n",
    "\n",
    "### Source 2\n",
    "Or a newer source\n",
    "\n",
    "https://github.com/RaRe-Technologies/gensim-data/issues/28\n",
    "\n",
    "200-dimensional: https://archive.org/download/pubmed2018_w2v_200D.tar/pubmed2018_w2v_200D.tar.gz\n",
    "\n",
    "400-dimensional: https://archive.org/download/pubmed2018_w2v_400D.tar/pubmed2018_w2v_400D.tar.gz"
   ]
  },
  {
   "cell_type": "markdown",
   "metadata": {},
   "source": [
    "## Word2vec & Similarity Measure"
   ]
  },
  {
   "cell_type": "code",
   "execution_count": 2,
   "metadata": {},
   "outputs": [
    {
     "data": {
      "text/plain": [
       "[('deoxyribonucleic', 0.7673394680023193),\n",
       " ('dnas', 0.7249159812927246),\n",
       " ('dnarna', 0.72159743309021),\n",
       " ('dsdna', 0.6866560578346252),\n",
       " ('ndna', 0.681331217288971),\n",
       " ('checkpoint-blind', 0.6774483919143677),\n",
       " ('ssdna', 0.6773141622543335),\n",
       " ('multi-dna', 0.6761660575866699),\n",
       " ('o⁶-methylguanine', 0.670427680015564),\n",
       " ('mtdna', 0.6684218049049377)]"
      ]
     },
     "execution_count": 2,
     "metadata": {},
     "output_type": "execute_result"
    }
   ],
   "source": [
    "from gensim.models import KeyedVectors\n",
    "word_vectors = KeyedVectors.load_word2vec_format('Data/pubmed2018_w2v_200D/pubmed2018_w2v_200D.bin', binary=True)\n",
    "word_vectors.most_similar(positive=['dna'])"
   ]
  },
  {
   "cell_type": "code",
   "execution_count": 5,
   "metadata": {},
   "outputs": [
    {
     "name": "stdout",
     "output_type": "stream",
     "text": [
      "0.8360397\n",
      "0.29634345\n",
      "0.1556799\n"
     ]
    }
   ],
   "source": [
    "print(word_vectors.similarity('allergy', 'allergic'))\n",
    "print(word_vectors.similarity('coronary', 'blood'))\n",
    "print(word_vectors.similarity('water', 'heart'))"
   ]
  },
  {
   "cell_type": "code",
   "execution_count": null,
   "metadata": {},
   "outputs": [],
   "source": []
  }
 ],
 "metadata": {
  "kernelspec": {
   "display_name": "Python 3",
   "language": "python",
   "name": "python3"
  },
  "language_info": {
   "codemirror_mode": {
    "name": "ipython",
    "version": 3
   },
   "file_extension": ".py",
   "mimetype": "text/x-python",
   "name": "python",
   "nbconvert_exporter": "python",
   "pygments_lexer": "ipython3",
   "version": "3.7.4"
  }
 },
 "nbformat": 4,
 "nbformat_minor": 2
}
