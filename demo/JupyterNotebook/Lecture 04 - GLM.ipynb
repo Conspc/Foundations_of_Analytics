{
 "cells": [
  {
   "cell_type": "markdown",
   "metadata": {},
   "source": [
    "## Lecture 04 - Generalized Linear Model"
   ]
  },
  {
   "cell_type": "code",
   "execution_count": 2,
   "metadata": {},
   "outputs": [],
   "source": [
    "import numpy as np\n",
    "from sklearn.linear_model import LinearRegression\n",
    "import pandas as pd\n",
    "import statsmodels.api as sm"
   ]
  },
  {
   "cell_type": "markdown",
   "metadata": {},
   "source": [
    "\n",
    "## Generalized Linear Model: Gaussian Distribution\n",
    "### Data Synthesize"
   ]
  },
  {
   "cell_type": "code",
   "execution_count": 3,
   "metadata": {},
   "outputs": [],
   "source": [
    "X=np.random.randn(5000,3)\n",
    "Y=.3*X[:,[0]]+X[:,[1]]+2*X[:,[2]]+2+np.random.randn(5000,1)"
   ]
  },
  {
   "cell_type": "code",
   "execution_count": 4,
   "metadata": {},
   "outputs": [],
   "source": [
    "X_pd=pd.DataFrame(X)\n",
    "X_pd = sm.add_constant(X_pd) # Create the [X,1] matrix\n",
    "Y_pd=pd.DataFrame(Y)"
   ]
  },
  {
   "cell_type": "markdown",
   "metadata": {},
   "source": [
    "### Build GLM in statsmodel\n",
    "\n",
    "##### Understanding p-value\n",
    "- A p-value less than 0.05 (typically ≤ 0.05) is statistically significant\n",
    "- A p-value higher than 0.05 (> 0.05) is not statistically significant "
   ]
  },
  {
   "cell_type": "code",
   "execution_count": 5,
   "metadata": {},
   "outputs": [],
   "source": [
    "# Instantiate a gaussian family model with the default link function.\n",
    "gaussian_model = sm.GLM(Y_pd, X_pd, family=sm.families.Gaussian())\n",
    "gaussian_model_results = gaussian_model.fit()"
   ]
  },
  {
   "cell_type": "code",
   "execution_count": 6,
   "metadata": {},
   "outputs": [
    {
     "name": "stdout",
     "output_type": "stream",
     "text": [
      "                 Generalized Linear Model Regression Results                  \n",
      "==============================================================================\n",
      "Dep. Variable:                      0   No. Observations:                 5000\n",
      "Model:                            GLM   Df Residuals:                     4996\n",
      "Model Family:                Gaussian   Df Model:                            3\n",
      "Link Function:               identity   Scale:                         0.99784\n",
      "Method:                          IRLS   Log-Likelihood:                -7087.3\n",
      "Date:                Wed, 18 Mar 2020   Deviance:                       4985.2\n",
      "Time:                        23:05:31   Pearson chi2:                 4.99e+03\n",
      "No. Iterations:                     3                                         \n",
      "Covariance Type:            nonrobust                                         \n",
      "==============================================================================\n",
      "                 coef    std err          z      P>|z|      [0.025      0.975]\n",
      "------------------------------------------------------------------------------\n",
      "const          2.0071      0.014    142.058      0.000       1.979       2.035\n",
      "0              0.2892      0.014     20.468      0.000       0.262       0.317\n",
      "1              1.0154      0.014     70.699      0.000       0.987       1.044\n",
      "2              2.0187      0.014    141.500      0.000       1.991       2.047\n",
      "==============================================================================\n"
     ]
    }
   ],
   "source": [
    "print(gaussian_model_results.summary())"
   ]
  },
  {
   "cell_type": "markdown",
   "metadata": {},
   "source": [
    "### Compare with LR in sklearn"
   ]
  },
  {
   "cell_type": "code",
   "execution_count": 7,
   "metadata": {},
   "outputs": [
    {
     "name": "stdout",
     "output_type": "stream",
     "text": [
      "[array([[0.2892433 , 1.01536194, 2.01873363, 0.        ]]), array([2.00707162])]\n"
     ]
    }
   ],
   "source": [
    "from sklearn.linear_model import LinearRegression\n",
    "X_1=np.column_stack([X, np.ones([5000,1])])\n",
    "reg=LinearRegression().fit(X_1, Y)\n",
    "print([reg.coef_, reg.intercept_])"
   ]
  },
  {
   "cell_type": "markdown",
   "metadata": {},
   "source": [
    "## Generalized Linear Model: Binomial Distribution\n"
   ]
  },
  {
   "cell_type": "markdown",
   "metadata": {},
   "source": [
    "### Data Synthesize"
   ]
  },
  {
   "cell_type": "code",
   "execution_count": 8,
   "metadata": {},
   "outputs": [],
   "source": [
    "X1 = 2*np.random.randn(5000, 1)\n",
    "X2 = 5*np.random.randn(5000, 1)\n",
    "X3 = np.random.randn(5000, 1)\n",
    "eta=0.5*X1+0.1*X2+1.56*X3-1\n",
    "X=np.column_stack([X1,X2, X3])\n",
    "p=1/(1+np.exp(-eta))\n",
    "y=np.random.binomial(1, p).reshape(5000,1)"
   ]
  },
  {
   "cell_type": "code",
   "execution_count": 9,
   "metadata": {},
   "outputs": [],
   "source": [
    "## X_pd=pd.DataFrame(X)\n",
    "X_pd = pd.DataFrame(X)\n",
    "X_pd = sm.add_constant(X_pd) # Create the [X,1] matrix\n",
    "Y_pd = pd.DataFrame(y)"
   ]
  },
  {
   "cell_type": "markdown",
   "metadata": {},
   "source": [
    "### Build GLM in statsmodel"
   ]
  },
  {
   "cell_type": "code",
   "execution_count": 10,
   "metadata": {},
   "outputs": [],
   "source": [
    "# Instantiate a gaussian family model with the default link function.\n",
    "binomial_model = sm.GLM(Y_pd, X_pd, family=sm.families.Binomial())\n",
    "binomial_model_results = binomial_model.fit()"
   ]
  },
  {
   "cell_type": "code",
   "execution_count": 11,
   "metadata": {},
   "outputs": [
    {
     "data": {
      "text/html": [
       "<table class=\"simpletable\">\n",
       "<caption>Generalized Linear Model Regression Results</caption>\n",
       "<tr>\n",
       "  <th>Dep. Variable:</th>           <td>0</td>        <th>  No. Observations:  </th>  <td>  5000</td> \n",
       "</tr>\n",
       "<tr>\n",
       "  <th>Model:</th>                  <td>GLM</td>       <th>  Df Residuals:      </th>  <td>  4996</td> \n",
       "</tr>\n",
       "<tr>\n",
       "  <th>Model Family:</th>        <td>Binomial</td>     <th>  Df Model:          </th>  <td>     3</td> \n",
       "</tr>\n",
       "<tr>\n",
       "  <th>Link Function:</th>         <td>logit</td>      <th>  Scale:             </th> <td>  1.0000</td>\n",
       "</tr>\n",
       "<tr>\n",
       "  <th>Method:</th>                <td>IRLS</td>       <th>  Log-Likelihood:    </th> <td> -2235.3</td>\n",
       "</tr>\n",
       "<tr>\n",
       "  <th>Date:</th>            <td>Wed, 18 Mar 2020</td> <th>  Deviance:          </th> <td>  4470.7</td>\n",
       "</tr>\n",
       "<tr>\n",
       "  <th>Time:</th>                <td>23:05:36</td>     <th>  Pearson chi2:      </th> <td>4.75e+03</td>\n",
       "</tr>\n",
       "<tr>\n",
       "  <th>No. Iterations:</th>          <td>6</td>        <th>                     </th>     <td> </td>   \n",
       "</tr>\n",
       "<tr>\n",
       "  <th>Covariance Type:</th>     <td>nonrobust</td>    <th>                     </th>     <td> </td>   \n",
       "</tr>\n",
       "</table>\n",
       "<table class=\"simpletable\">\n",
       "<tr>\n",
       "    <td></td>       <th>coef</th>     <th>std err</th>      <th>z</th>      <th>P>|z|</th>  <th>[0.025</th>    <th>0.975]</th>  \n",
       "</tr>\n",
       "<tr>\n",
       "  <th>const</th> <td>   -1.0047</td> <td>    0.041</td> <td>  -24.623</td> <td> 0.000</td> <td>   -1.085</td> <td>   -0.925</td>\n",
       "</tr>\n",
       "<tr>\n",
       "  <th>0</th>     <td>    0.4627</td> <td>    0.021</td> <td>   21.937</td> <td> 0.000</td> <td>    0.421</td> <td>    0.504</td>\n",
       "</tr>\n",
       "<tr>\n",
       "  <th>1</th>     <td>    0.1173</td> <td>    0.008</td> <td>   14.727</td> <td> 0.000</td> <td>    0.102</td> <td>    0.133</td>\n",
       "</tr>\n",
       "<tr>\n",
       "  <th>2</th>     <td>    1.5301</td> <td>    0.051</td> <td>   29.983</td> <td> 0.000</td> <td>    1.430</td> <td>    1.630</td>\n",
       "</tr>\n",
       "</table>"
      ],
      "text/plain": [
       "<class 'statsmodels.iolib.summary.Summary'>\n",
       "\"\"\"\n",
       "                 Generalized Linear Model Regression Results                  \n",
       "==============================================================================\n",
       "Dep. Variable:                      0   No. Observations:                 5000\n",
       "Model:                            GLM   Df Residuals:                     4996\n",
       "Model Family:                Binomial   Df Model:                            3\n",
       "Link Function:                  logit   Scale:                          1.0000\n",
       "Method:                          IRLS   Log-Likelihood:                -2235.3\n",
       "Date:                Wed, 18 Mar 2020   Deviance:                       4470.7\n",
       "Time:                        23:05:36   Pearson chi2:                 4.75e+03\n",
       "No. Iterations:                     6                                         \n",
       "Covariance Type:            nonrobust                                         \n",
       "==============================================================================\n",
       "                 coef    std err          z      P>|z|      [0.025      0.975]\n",
       "------------------------------------------------------------------------------\n",
       "const         -1.0047      0.041    -24.623      0.000      -1.085      -0.925\n",
       "0              0.4627      0.021     21.937      0.000       0.421       0.504\n",
       "1              0.1173      0.008     14.727      0.000       0.102       0.133\n",
       "2              1.5301      0.051     29.983      0.000       1.430       1.630\n",
       "==============================================================================\n",
       "\"\"\""
      ]
     },
     "execution_count": 11,
     "metadata": {},
     "output_type": "execute_result"
    }
   ],
   "source": [
    "binomial_model_results.summary()"
   ]
  },
  {
   "cell_type": "markdown",
   "metadata": {},
   "source": [
    "### Compare with logistic regression using sklearn"
   ]
  },
  {
   "cell_type": "code",
   "execution_count": 22,
   "metadata": {},
   "outputs": [
    {
     "name": "stderr",
     "output_type": "stream",
     "text": [
      "/home/dlai/Projects/Foundations_of_Analytics/demo/JupyterNotebook/analyticvenv/lib/python3.6/site-packages/sklearn/utils/validation.py:760: DataConversionWarning: A column-vector y was passed when a 1d array was expected. Please change the shape of y to (n_samples, ), for example using ravel().\n",
      "  y = column_or_1d(y, warn=True)\n"
     ]
    },
    {
     "data": {
      "text/plain": [
       "LogisticRegression(C=1.0, class_weight=None, dual=False, fit_intercept=True,\n",
       "                   intercept_scaling=1, l1_ratio=None, max_iter=100,\n",
       "                   multi_class='auto', n_jobs=None, penalty='none',\n",
       "                   random_state=None, solver='newton-cg', tol=0.0001, verbose=0,\n",
       "                   warm_start=False)"
      ]
     },
     "execution_count": 22,
     "metadata": {},
     "output_type": "execute_result"
    }
   ],
   "source": [
    "from sklearn.linear_model import LogisticRegression\n",
    "lr=LogisticRegression(penalty='none', solver='newton-cg')\n",
    "lr.fit(X,y)"
   ]
  },
  {
   "cell_type": "code",
   "execution_count": 20,
   "metadata": {},
   "outputs": [
    {
     "name": "stdout",
     "output_type": "stream",
     "text": [
      "[[0.46273998 0.11731559 1.53014343]] [-1.00469317]\n"
     ]
    }
   ],
   "source": [
    "print(lr.coef_, lr.intercept_)"
   ]
  },
  {
   "cell_type": "code",
   "execution_count": null,
   "metadata": {},
   "outputs": [],
   "source": []
  }
 ],
 "metadata": {
  "kernelspec": {
   "display_name": "Python 3",
   "language": "python",
   "name": "python3"
  },
  "language_info": {
   "codemirror_mode": {
    "name": "ipython",
    "version": 3
   },
   "file_extension": ".py",
   "mimetype": "text/x-python",
   "name": "python",
   "nbconvert_exporter": "python",
   "pygments_lexer": "ipython3",
   "version": "3.6.9"
  }
 },
 "nbformat": 4,
 "nbformat_minor": 2
}
