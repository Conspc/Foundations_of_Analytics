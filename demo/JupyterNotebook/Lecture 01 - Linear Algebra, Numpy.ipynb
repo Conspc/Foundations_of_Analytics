{
 "cells": [
  {
   "cell_type": "markdown",
   "metadata": {},
   "source": [
    "# Matrix, Vector, Linear Algerbra \n",
    "### Topics: Use numpy to define matrix, matrix multiplication, dot product, inverse of matrix"
   ]
  },
  {
   "cell_type": "markdown",
   "metadata": {},
   "source": [
    "```Install packages for this session```\n",
    "\n",
    "```pip install numpy``` or\n",
    "\n",
    "```pip3 install numpy``` "
   ]
  },
  {
   "cell_type": "code",
   "execution_count": 2,
   "metadata": {},
   "outputs": [],
   "source": [
    "import numpy as np #import numpy as package and refer it as np in code"
   ]
  },
  {
   "cell_type": "markdown",
   "metadata": {},
   "source": [
    "## 1. Create Matrices\n",
    "\n",
    "### Create Matrices from List\n",
    "- Use list as the basic datatype [[1, 2, 3], [4, 5, 6]]\n",
    "- Initialize a matrix using np.array()"
   ]
  },
  {
   "cell_type": "code",
   "execution_count": 4,
   "metadata": {},
   "outputs": [],
   "source": [
    "createlist4matrix=[[1, 2, 3], [4, 5, 6]]"
   ]
  },
  {
   "cell_type": "code",
   "execution_count": 5,
   "metadata": {},
   "outputs": [],
   "source": [
    "x = np.array(createlist4matrix)"
   ]
  },
  {
   "cell_type": "code",
   "execution_count": 6,
   "metadata": {},
   "outputs": [
    {
     "name": "stdout",
     "output_type": "stream",
     "text": [
      "[[1 2 3]\n",
      " [4 5 6]]\n",
      "<class 'numpy.ndarray'>\n"
     ]
    }
   ],
   "source": [
    "print(x)\n",
    "print(type(x))"
   ]
  },
  {
   "cell_type": "markdown",
   "metadata": {},
   "source": [
    "### Create Special Matrix\n",
    "\n",
    "#### Create a 2x3 matrix of all ones"
   ]
  },
  {
   "cell_type": "code",
   "execution_count": 12,
   "metadata": {},
   "outputs": [],
   "source": [
    "xones=np.ones((2,3))"
   ]
  },
  {
   "cell_type": "code",
   "execution_count": 11,
   "metadata": {},
   "outputs": [
    {
     "name": "stdout",
     "output_type": "stream",
     "text": [
      "[[1. 1. 1.]\n",
      " [1. 1. 1.]]\n"
     ]
    }
   ],
   "source": [
    "print(xones)"
   ]
  },
  {
   "cell_type": "markdown",
   "metadata": {},
   "source": [
    "#### Create a 1x100 matrix numbered between 0 and 99"
   ]
  },
  {
   "cell_type": "code",
   "execution_count": 15,
   "metadata": {},
   "outputs": [],
   "source": [
    "M100=np.arange(100)"
   ]
  },
  {
   "cell_type": "code",
   "execution_count": 16,
   "metadata": {},
   "outputs": [
    {
     "name": "stdout",
     "output_type": "stream",
     "text": [
      "[ 0  1  2  3  4  5  6  7  8  9 10 11 12 13 14 15 16 17 18 19 20 21 22 23\n",
      " 24 25 26 27 28 29 30 31 32 33 34 35 36 37 38 39 40 41 42 43 44 45 46 47\n",
      " 48 49 50 51 52 53 54 55 56 57 58 59 60 61 62 63 64 65 66 67 68 69 70 71\n",
      " 72 73 74 75 76 77 78 79 80 81 82 83 84 85 86 87 88 89 90 91 92 93 94 95\n",
      " 96 97 98 99]\n"
     ]
    }
   ],
   "source": [
    "print(M100)"
   ]
  },
  {
   "cell_type": "code",
   "execution_count": 17,
   "metadata": {},
   "outputs": [
    {
     "name": "stdout",
     "output_type": "stream",
     "text": [
      "(100,)\n"
     ]
    }
   ],
   "source": [
    "print(M100.shape)"
   ]
  },
  {
   "cell_type": "markdown",
   "metadata": {},
   "source": [
    "#### Create a matrix by reshaping from an existing matrix/vector"
   ]
  },
  {
   "cell_type": "code",
   "execution_count": 24,
   "metadata": {},
   "outputs": [],
   "source": [
    "M10_10=M100.reshape(10, 10)"
   ]
  },
  {
   "cell_type": "code",
   "execution_count": 25,
   "metadata": {},
   "outputs": [
    {
     "name": "stdout",
     "output_type": "stream",
     "text": [
      "[[ 0  1  2  3  4  5  6  7  8  9]\n",
      " [10 11 12 13 14 15 16 17 18 19]\n",
      " [20 21 22 23 24 25 26 27 28 29]\n",
      " [30 31 32 33 34 35 36 37 38 39]\n",
      " [40 41 42 43 44 45 46 47 48 49]\n",
      " [50 51 52 53 54 55 56 57 58 59]\n",
      " [60 61 62 63 64 65 66 67 68 69]\n",
      " [70 71 72 73 74 75 76 77 78 79]\n",
      " [80 81 82 83 84 85 86 87 88 89]\n",
      " [90 91 92 93 94 95 96 97 98 99]]\n"
     ]
    }
   ],
   "source": [
    "print(M10_10)"
   ]
  },
  {
   "cell_type": "markdown",
   "metadata": {},
   "source": [
    "#### Create a matrix using random numbers of uniform distribution between [0, 1)"
   ]
  },
  {
   "cell_type": "code",
   "execution_count": 47,
   "metadata": {},
   "outputs": [
    {
     "name": "stdout",
     "output_type": "stream",
     "text": [
      "[[0.96694386 0.4390844 ]\n",
      " [0.81607029 0.74170795]\n",
      " [0.84351969 0.55791591]\n",
      " [0.02716553 0.28217551]]\n"
     ]
    }
   ],
   "source": [
    "m_uniform = np.random.rand(4,2)\n",
    "print(m_uniform)"
   ]
  },
  {
   "cell_type": "markdown",
   "metadata": {},
   "source": [
    "## 2. Access Matrix Elements; Rows; Columns\n",
    "\n",
    "#### get the ith row and jth column elements; syntax ```m[i][j]```, i and j starts from 0"
   ]
  },
  {
   "cell_type": "code",
   "execution_count": 19,
   "metadata": {
    "scrolled": true
   },
   "outputs": [
    {
     "name": "stdout",
     "output_type": "stream",
     "text": [
      "[[ 0  1  2  3  4  5]\n",
      " [ 6  7  8  9 10 11]\n",
      " [12 13 14 15 16 17]\n",
      " [18 19 20 21 22 23]\n",
      " [24 25 26 27 28 29]\n",
      " [30 31 32 33 34 35]]\n"
     ]
    }
   ],
   "source": [
    "m=np.arange(36).reshape(6,6)\n",
    "print(m)"
   ]
  },
  {
   "cell_type": "code",
   "execution_count": 20,
   "metadata": {},
   "outputs": [
    {
     "name": "stdout",
     "output_type": "stream",
     "text": [
      "35\n"
     ]
    }
   ],
   "source": [
    "print(m[5][5])"
   ]
  },
  {
   "cell_type": "markdown",
   "metadata": {},
   "source": [
    "#### get the jth column from matrix m; syntax ```m[:, j]```"
   ]
  },
  {
   "cell_type": "code",
   "execution_count": 21,
   "metadata": {},
   "outputs": [
    {
     "name": "stdout",
     "output_type": "stream",
     "text": [
      "[ 1  7 13 19 25 31]\n"
     ]
    }
   ],
   "source": [
    "print(m[:, 1])"
   ]
  },
  {
   "cell_type": "markdown",
   "metadata": {},
   "source": [
    "#### get the ith row from matrix m; syntax ```m[i, :]```"
   ]
  },
  {
   "cell_type": "code",
   "execution_count": 22,
   "metadata": {},
   "outputs": [
    {
     "name": "stdout",
     "output_type": "stream",
     "text": [
      "[0 1 2 3 4 5]\n"
     ]
    }
   ],
   "source": [
    "print (m[0, :])"
   ]
  },
  {
   "cell_type": "markdown",
   "metadata": {},
   "source": [
    "## 3. Matrix Operation: Multiplication, Sum etc."
   ]
  },
  {
   "cell_type": "code",
   "execution_count": 23,
   "metadata": {},
   "outputs": [],
   "source": [
    "A = np.random.rand(4,2)\n",
    "B = np.random.rand(4,2)"
   ]
  },
  {
   "cell_type": "code",
   "execution_count": 24,
   "metadata": {},
   "outputs": [
    {
     "name": "stdout",
     "output_type": "stream",
     "text": [
      "[[0.61295755 0.81983441]\n",
      " [0.78386886 0.13947352]\n",
      " [0.4496694  0.71810273]\n",
      " [0.95697089 0.73306867]]\n",
      "[[0.22722313 0.14175761]\n",
      " [0.6731217  0.70893443]\n",
      " [0.34246002 0.52451024]\n",
      " [0.31464447 0.12978747]]\n"
     ]
    }
   ],
   "source": [
    "print(A)\n",
    "print(B)"
   ]
  },
  {
   "cell_type": "markdown",
   "metadata": {},
   "source": [
    "### Matrix Summation"
   ]
  },
  {
   "cell_type": "code",
   "execution_count": 25,
   "metadata": {},
   "outputs": [
    {
     "data": {
      "text/plain": [
       "array([[0.84018069, 0.96159202],\n",
       "       [1.45699057, 0.84840794],\n",
       "       [0.79212942, 1.24261297],\n",
       "       [1.27161537, 0.86285614]])"
      ]
     },
     "execution_count": 25,
     "metadata": {},
     "output_type": "execute_result"
    }
   ],
   "source": [
    "A+B"
   ]
  },
  {
   "cell_type": "markdown",
   "metadata": {},
   "source": [
    "### Matrix multiplication"
   ]
  },
  {
   "cell_type": "markdown",
   "metadata": {},
   "source": [
    "#### Standard matrix multiplication\n",
    "\\begin{equation}\n",
    "A_{mxn}=\\begin{bmatrix}a_{1,1} & a_{1,2} & \\dots & a_{1,n}   \\\\ a_{2,1} & a_{2,2} & \\dots & \\dots   \\\\      a_{3,1} & a_{3,2} & \\ddots & \\dots  \\\\      a_{m,1}  & \\vdots  & \\vdots & a_{m,n}     \n",
    "\\end{bmatrix}  \n",
    "\\end{equation}\n",
    "\\begin{equation}\n",
    "B_{nxp} = \\begin{bmatrix}      b_{1,1} & b_{1,2} & \\dots & b_{1,p}   \\\\       b_{2,1} & b_{2,2} & \\dots & \\dots   \\\\      b_{3,1} & b_{3,2} & \\ddots & \\dots  \\\\     b_{n,1}  & \\vdots  & \\vdots & b_{n,p}     \n",
    "\\end{bmatrix}\n",
    "\\end{equation}\n",
    "\\begin{equation}\n",
    "AB = \\begin{bmatrix}      a_{1,1}b_{1,1} + a_{1,2}b_{2,1} + \\dots + a_{1,n}b_{n,1} & \\dots  \\\\       \\vdots & a_{m,1}b_{1,p} + a_{m,2}b_{2,p} + \\dots + a_{m,n}b_{n,p}     \\end{bmatrix}\n",
    "\\end{equation}\n"
   ]
  },
  {
   "cell_type": "code",
   "execution_count": 27,
   "metadata": {},
   "outputs": [
    {
     "name": "stdout",
     "output_type": "stream",
     "text": [
      "[[0.2554959  0.99380387 0.639925   0.29926794]\n",
      " [0.19788457 0.62651672 0.34159903 0.26474192]\n",
      " [0.20397181 0.81176998 0.53064603 0.23468673]\n",
      " [0.32136399 1.1638555  0.7122263  0.39624873]]\n"
     ]
    }
   ],
   "source": [
    "print(np.matmul(A, B.T))"
   ]
  },
  {
   "cell_type": "code",
   "execution_count": 28,
   "metadata": {},
   "outputs": [
    {
     "data": {
      "text/plain": [
       "0.3415990311709295"
      ]
     },
     "execution_count": 28,
     "metadata": {},
     "output_type": "execute_result"
    }
   ],
   "source": [
    "i=1\n",
    "j=2\n",
    "np.matmul(A[i,:], B.T[:,j]) #ith row, jth column element in the outcome"
   ]
  },
  {
   "cell_type": "markdown",
   "metadata": {},
   "source": [
    "#### Alternative way to get the jth column from matrix \n",
    "#### using a selection matrix\n",
    "\\begin{equation}\n",
    "m_{sel}=\n",
    "\\begin{bmatrix}\n",
    "0\\\\\n",
    "0\\\\\n",
    "\\vdots\\\\\n",
    "\\underbrace{1}_{j_{th} \\text{ row}}\\\\\n",
    "\\vdots\\\\\n",
    "0\n",
    "\\end{bmatrix}\n",
    "\\end{equation}\n",
    "#### The $j_{th}$ column of matrix $m$ can be selected by matrix multiplication $$m[:,j]=mm_{sel}$$"
   ]
  },
  {
   "cell_type": "code",
   "execution_count": 29,
   "metadata": {},
   "outputs": [
    {
     "name": "stdout",
     "output_type": "stream",
     "text": [
      "[0. 0. 1. 0. 0. 0.]\n"
     ]
    }
   ],
   "source": [
    "m_sel=np.zeros(6)\n",
    "m_sel[j]=1\n",
    "print(m_sel)"
   ]
  },
  {
   "cell_type": "code",
   "execution_count": 30,
   "metadata": {},
   "outputs": [
    {
     "data": {
      "text/plain": [
       "array([[ 2.],\n",
       "       [ 8.],\n",
       "       [14.],\n",
       "       [20.],\n",
       "       [26.],\n",
       "       [32.]])"
      ]
     },
     "execution_count": 30,
     "metadata": {},
     "output_type": "execute_result"
    }
   ],
   "source": [
    "np.matmul(m, m_sel.reshape(6,1))"
   ]
  },
  {
   "cell_type": "markdown",
   "metadata": {},
   "source": [
    "#### Alternative way to get the ith row from matrix m:\n",
    "#### using a selection matrix\n",
    "\\begin{equation}\n",
    "m_{sel}=\n",
    "\\begin{bmatrix}\n",
    "0, 0, \\cdots,{\\underbrace{1}_{i_{th} \\text{ column}}}, \\cdots, 0\n",
    "\\end{bmatrix}\n",
    "\\end{equation}\n",
    "\n",
    "#### The $i_{th}$ row of matrix $m$ can be selected by matrix multiplication $$m[i,:]=m_{sel}m $$"
   ]
  },
  {
   "cell_type": "code",
   "execution_count": 31,
   "metadata": {},
   "outputs": [
    {
     "name": "stdout",
     "output_type": "stream",
     "text": [
      "[1. 0. 0. 0. 0. 0.]\n"
     ]
    }
   ],
   "source": [
    "i=0\n",
    "m_sel=np.zeros(6)\n",
    "m_sel[i]=1\n",
    "print(m_sel)"
   ]
  },
  {
   "cell_type": "code",
   "execution_count": 32,
   "metadata": {},
   "outputs": [
    {
     "data": {
      "text/plain": [
       "array([[0., 1., 2., 3., 4., 5.]])"
      ]
     },
     "execution_count": 32,
     "metadata": {},
     "output_type": "execute_result"
    }
   ],
   "source": [
    "np.matmul(m_sel.reshape(1,6), m)"
   ]
  },
  {
   "cell_type": "markdown",
   "metadata": {},
   "source": [
    "#### Matrix multiply by a constant\n",
    "\\begin{equation}\n",
    "cA_{mxn}=\\begin{bmatrix}c a_{1,1} & c a_{1,2} & \\dots & c a_{1,n}   \\\\ c a_{2,1} & c a_{2,2} & \\dots & \\dots   \\\\      c a_{3,1} & c a_{3,2} & \\ddots & \\dots  \\\\      c a_{m,1}  & \\vdots  & \\vdots & c a_{m,n}     \n",
    "\\end{bmatrix}  \n",
    "\\end{equation}\n"
   ]
  },
  {
   "cell_type": "code",
   "execution_count": 33,
   "metadata": {},
   "outputs": [],
   "source": [
    "A = np.arange(16).reshape(4,4)"
   ]
  },
  {
   "cell_type": "code",
   "execution_count": 34,
   "metadata": {},
   "outputs": [
    {
     "data": {
      "text/plain": [
       "array([[ 0,  2,  4,  6],\n",
       "       [ 8, 10, 12, 14],\n",
       "       [16, 18, 20, 22],\n",
       "       [24, 26, 28, 30]])"
      ]
     },
     "execution_count": 34,
     "metadata": {},
     "output_type": "execute_result"
    }
   ],
   "source": [
    "2*A"
   ]
  },
  {
   "cell_type": "markdown",
   "metadata": {},
   "source": [
    "#### Element-by-element multiplication\n",
    "\n",
    "#### Standard matrix multiplication\n",
    "\\begin{equation}\n",
    "A_{mxn}=\\begin{bmatrix}a_{1,1} & a_{1,2} & \\dots & a_{1,n}   \\\\ a_{2,1} & a_{2,2} & \\dots & \\dots   \\\\      a_{3,1} & a_{3,2} & \\ddots & \\dots  \\\\      a_{m,1}  & \\vdots  & \\vdots & a_{m,n}     \n",
    "\\end{bmatrix}  \n",
    "\\end{equation}\n",
    "\\begin{equation}\n",
    "B_{mxn} = \\begin{bmatrix}      b_{1,1} & b_{1,2} & \\dots & b_{1,n}   \\\\       b_{2,1} & b_{2,2} & \\dots & \\dots   \\\\      b_{3,1} & b_{3,2} & \\ddots & \\dots  \\\\     b_{m,1}  & \\vdots  & \\vdots & b_{m,n}     \n",
    "\\end{bmatrix}\n",
    "\\end{equation}\n",
    "\n",
    "\\begin{equation}\n",
    "A_{mxn} \\odot B_{mxn} = \\begin{bmatrix}      a_{1,1}b_{1,1} & a_{1,2} b_{1,2} & \\dots & a_{1,n}b_{1,n}   \\\\       a_{2,1}b_{2,1} & a_{2,2} b_{2,2} & \\dots & \\dots   \\\\      a_{3,1}b_{3,1} & a_{3,2}b_{3,2} & \\ddots & \\dots  \\\\     a_{m,1}b_{m,1}  & \\vdots  & \\vdots & a_{m,n}b_{m,n}     \n",
    "\\end{bmatrix}\n",
    "\\end{equation}"
   ]
  },
  {
   "cell_type": "code",
   "execution_count": 35,
   "metadata": {},
   "outputs": [
    {
     "name": "stdout",
     "output_type": "stream",
     "text": [
      "[[  0   1   4   9]\n",
      " [ 16  25  36  49]\n",
      " [ 64  81 100 121]\n",
      " [144 169 196 225]]\n"
     ]
    }
   ],
   "source": [
    "A = np.arange(16).reshape(4,4)\n",
    "B = np.arange(16).reshape(4,4)\n",
    "\n",
    "print(np.multiply(A, B))"
   ]
  },
  {
   "cell_type": "code",
   "execution_count": 37,
   "metadata": {},
   "outputs": [
    {
     "data": {
      "text/plain": [
       "25"
      ]
     },
     "execution_count": 37,
     "metadata": {},
     "output_type": "execute_result"
    }
   ],
   "source": [
    "i=1\n",
    "j=1\n",
    "(A[i][j]*B[i][j]) #ith row, jth column element in the outcome"
   ]
  },
  {
   "cell_type": "markdown",
   "metadata": {},
   "source": [
    "### 3. Dot Product for Vector\n",
    "$\\vec{v}\\cdot\\vec{w}=\\sum\\limits v_1w_1+v_2w_2+...v_nw_n$"
   ]
  },
  {
   "cell_type": "code",
   "execution_count": 38,
   "metadata": {},
   "outputs": [],
   "source": [
    "v = np.array([1, 2, 3, 1])\n",
    "w = np.array([0, 0, 1, 0])"
   ]
  },
  {
   "cell_type": "code",
   "execution_count": 39,
   "metadata": {},
   "outputs": [
    {
     "data": {
      "text/plain": [
       "3"
      ]
     },
     "execution_count": 39,
     "metadata": {},
     "output_type": "execute_result"
    }
   ],
   "source": [
    "np.dot(v, w)"
   ]
  },
  {
   "cell_type": "code",
   "execution_count": 41,
   "metadata": {},
   "outputs": [
    {
     "data": {
      "text/plain": [
       "3"
      ]
     },
     "execution_count": 41,
     "metadata": {},
     "output_type": "execute_result"
    }
   ],
   "source": [
    "np.matmul(v, w.T) #Alternative way of calculating dot product v2.T is the transpose of vector v2"
   ]
  },
  {
   "cell_type": "code",
   "execution_count": 42,
   "metadata": {},
   "outputs": [
    {
     "name": "stdout",
     "output_type": "stream",
     "text": [
      "[[ 0  1  2  3]\n",
      " [ 4  5  6  7]\n",
      " [ 8  9 10 11]\n",
      " [12 13 14 15]]\n"
     ]
    }
   ],
   "source": [
    "m=np.arange(16).reshape(4,4)\n",
    "print(m)"
   ]
  },
  {
   "cell_type": "markdown",
   "metadata": {},
   "source": [
    "## Other Useful Operations"
   ]
  },
  {
   "cell_type": "code",
   "execution_count": null,
   "metadata": {},
   "outputs": [],
   "source": [
    "print x.size"
   ]
  },
  {
   "cell_type": "code",
   "execution_count": null,
   "metadata": {},
   "outputs": [],
   "source": [
    "print cprime.shape"
   ]
  },
  {
   "cell_type": "markdown",
   "metadata": {},
   "source": [
    "## Matrix Inverse\n",
    "$M^{-1}M=I$"
   ]
  },
  {
   "cell_type": "code",
   "execution_count": 6,
   "metadata": {},
   "outputs": [],
   "source": [
    "from numpy.linalg import inv"
   ]
  },
  {
   "cell_type": "code",
   "execution_count": 11,
   "metadata": {},
   "outputs": [],
   "source": [
    "M = np.random.rand(2,2)"
   ]
  },
  {
   "cell_type": "code",
   "execution_count": 12,
   "metadata": {},
   "outputs": [
    {
     "data": {
      "text/plain": [
       "array([[ 7.85524429, -6.71851303],\n",
       "       [-6.55822182,  6.80659039]])"
      ]
     },
     "execution_count": 12,
     "metadata": {},
     "output_type": "execute_result"
    }
   ],
   "source": [
    "inv(M)"
   ]
  },
  {
   "cell_type": "code",
   "execution_count": 13,
   "metadata": {},
   "outputs": [
    {
     "data": {
      "text/plain": [
       "array([[1.00000000e+00, 6.64041729e-16],\n",
       "       [1.29401851e-16, 1.00000000e+00]])"
      ]
     },
     "execution_count": 13,
     "metadata": {},
     "output_type": "execute_result"
    }
   ],
   "source": [
    "np.matmul(inv(M), M)"
   ]
  },
  {
   "cell_type": "code",
   "execution_count": null,
   "metadata": {},
   "outputs": [],
   "source": []
  }
 ],
 "metadata": {
  "kernelspec": {
   "display_name": "Python 3",
   "language": "python",
   "name": "python3"
  },
  "language_info": {
   "codemirror_mode": {
    "name": "ipython",
    "version": 3
   },
   "file_extension": ".py",
   "mimetype": "text/x-python",
   "name": "python",
   "nbconvert_exporter": "python",
   "pygments_lexer": "ipython3",
   "version": "3.6.9"
  }
 },
 "nbformat": 4,
 "nbformat_minor": 2
}
