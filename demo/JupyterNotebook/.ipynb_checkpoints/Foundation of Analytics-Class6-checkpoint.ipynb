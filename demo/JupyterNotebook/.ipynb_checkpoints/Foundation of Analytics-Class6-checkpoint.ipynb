{
 "cells": [
  {
   "cell_type": "markdown",
   "metadata": {},
   "source": [
    "## New packages \n",
    "```pip install pydotplus```\n",
    "\n",
    "```pip install graphviz```\n",
    "\n",
    "Mac Command line\n",
    "``` brew install graphviz```\n",
    "\n",
    "For windows\n",
    "\n",
    "Install windows package from: https://graphviz.gitlab.io/_pages/Download/Download_windows.html\n",
    "\n",
    "Install python graphviz package\n",
    "\n",
    "Add C:\\Program Files (x86)\\Graphviz2.38\\bin to User path\n",
    "\n",
    "Add C:\\Program Files (x86)\\Graphviz2.38\\bin\\dot.exe to System Path\n"
   ]
  },
  {
   "cell_type": "code",
   "execution_count": null,
   "metadata": {},
   "outputs": [],
   "source": [
    "import pandas as pd\n",
    "from sklearn import tree\n",
    "from sklearn.externals.six import StringIO\n",
    "from IPython.display import Image\n",
    "from sklearn.tree import export_graphviz\n",
    "import pydotplus\n",
    "import graphviz\n",
    "import numpy as np\n"
   ]
  },
  {
   "cell_type": "code",
   "execution_count": null,
   "metadata": {},
   "outputs": [],
   "source": [
    "car = pd.read_csv(\"data/car.data\", header=None)"
   ]
  },
  {
   "cell_type": "code",
   "execution_count": null,
   "metadata": {},
   "outputs": [],
   "source": [
    "car.columns=[\"buying\", \"maint\", \"doors\", \"persons\", \"lug_root\", \"safty\", \"class\"]"
   ]
  },
  {
   "cell_type": "code",
   "execution_count": null,
   "metadata": {},
   "outputs": [],
   "source": [
    "car.head(10)"
   ]
  },
  {
   "cell_type": "code",
   "execution_count": null,
   "metadata": {},
   "outputs": [],
   "source": [
    "X=car[[\"buying\", \"maint\", \"doors\", \"persons\", \"lug_root\", \"safty\"]]\n",
    "y=car[\"class\"]"
   ]
  },
  {
   "cell_type": "code",
   "execution_count": null,
   "metadata": {},
   "outputs": [],
   "source": [
    "y.unique()"
   ]
  },
  {
   "cell_type": "code",
   "execution_count": null,
   "metadata": {},
   "outputs": [],
   "source": [
    "ybin=y.copy()\n",
    "ybin.loc[ybin!= \"unacc\"] = \"acc\" "
   ]
  },
  {
   "cell_type": "code",
   "execution_count": null,
   "metadata": {},
   "outputs": [],
   "source": [
    "ybin.unique()"
   ]
  },
  {
   "cell_type": "code",
   "execution_count": null,
   "metadata": {},
   "outputs": [],
   "source": [
    "ysimp=pd.get_dummies(ybin)[\"acc\"]"
   ]
  },
  {
   "cell_type": "code",
   "execution_count": null,
   "metadata": {},
   "outputs": [],
   "source": [
    "ysimp.describe()"
   ]
  },
  {
   "cell_type": "markdown",
   "metadata": {},
   "source": [
    "## One-hot encoding"
   ]
  },
  {
   "cell_type": "code",
   "execution_count": null,
   "metadata": {},
   "outputs": [],
   "source": [
    "buying_1hot = pd.get_dummies(X['buying'], prefix = 'buying')"
   ]
  },
  {
   "cell_type": "code",
   "execution_count": null,
   "metadata": {},
   "outputs": [],
   "source": [
    "maint_1hot = pd.get_dummies(X['maint'], prefix = 'maint')\n",
    "doors_1hot = pd.get_dummies(X['doors'], prefix = 'doors')\n",
    "persons_1hot = pd.get_dummies(X['persons'], prefix = 'persons')\n",
    "lug_root_1hot = pd.get_dummies(X['lug_root'], prefix = 'lug_root')\n",
    "safty_1hot = pd.get_dummies(X['safty'], prefix = 'safty')"
   ]
  },
  {
   "cell_type": "code",
   "execution_count": null,
   "metadata": {},
   "outputs": [],
   "source": [
    "X1hot=pd.concat([safty_1hot, maint_1hot, buying_1hot, doors_1hot, persons_1hot, lug_root_1hot], axis=1)\n",
    "X1hot.head(10)"
   ]
  },
  {
   "cell_type": "markdown",
   "metadata": {},
   "source": [
    "## Build a Single Tree"
   ]
  },
  {
   "cell_type": "code",
   "execution_count": null,
   "metadata": {},
   "outputs": [],
   "source": [
    "clf = tree.DecisionTreeClassifier(criterion=\"entropy\", max_depth=5)\n",
    "# Train Decision Tree Classifer\n",
    "clf = clf.fit(X1hot, ybin)"
   ]
  },
  {
   "cell_type": "code",
   "execution_count": null,
   "metadata": {},
   "outputs": [],
   "source": [
    "tree.plot_tree(clf)  "
   ]
  },
  {
   "cell_type": "code",
   "execution_count": null,
   "metadata": {},
   "outputs": [],
   "source": [
    "dot_data = StringIO()\n",
    "export_graphviz(clf, out_file=dot_data,\n",
    "                filled=True, rounded=True,\n",
    "                special_characters=True, feature_names = X1hot.columns, class_names=['acc', 'unacc'])\n",
    "graph = pydotplus.graph_from_dot_data(dot_data.getvalue())"
   ]
  },
  {
   "cell_type": "code",
   "execution_count": null,
   "metadata": {},
   "outputs": [],
   "source": [
    "graph.write_png('car.png')\n",
    "Image(graph.create_png())"
   ]
  },
  {
   "cell_type": "code",
   "execution_count": null,
   "metadata": {},
   "outputs": [],
   "source": [
    "np.sum(ybin[X1hot[\"safty_low\"]==1]==\"unacc\")"
   ]
  },
  {
   "cell_type": "markdown",
   "metadata": {},
   "source": [
    "## Checking the First Split"
   ]
  },
  {
   "cell_type": "code",
   "execution_count": null,
   "metadata": {},
   "outputs": [],
   "source": [
    "import numpy as np"
   ]
  },
  {
   "cell_type": "code",
   "execution_count": null,
   "metadata": {},
   "outputs": [],
   "source": [
    "def entropy(y):\n",
    "    p1 = float(y.sum())/float(len(y))+1e-20\n",
    "    return -(p1*np.log2(p1)+(1-p1)*np.log2(1-p1))"
   ]
  },
  {
   "cell_type": "code",
   "execution_count": null,
   "metadata": {},
   "outputs": [],
   "source": [
    "np.sum(ysimp)"
   ]
  },
  {
   "cell_type": "code",
   "execution_count": null,
   "metadata": {},
   "outputs": [],
   "source": [
    "entropy(ysimp)"
   ]
  },
  {
   "cell_type": "code",
   "execution_count": null,
   "metadata": {},
   "outputs": [],
   "source": [
    "-(518.0/1728.0*np.log2(518.0/1728.0)+1210/1728.0*np.log2(1210/1728))"
   ]
  },
  {
   "cell_type": "code",
   "execution_count": null,
   "metadata": {},
   "outputs": [],
   "source": [
    "def Dentropy(data, y, splitter):\n",
    "    yleft=y[data[splitter]<0.5]\n",
    "    yright=y[data[splitter]>=0.5]\n",
    "    dH=entropy(y)-(len(yleft)*entropy(yleft)+len(yright)*entropy(yright))/float(len(yleft)+len(yright))\n",
    "    return (dH, entropy(yleft), entropy(yright))"
   ]
  },
  {
   "cell_type": "code",
   "execution_count": null,
   "metadata": {},
   "outputs": [],
   "source": [
    "feature_cols=list(X1hot.columns)\n",
    "for i in feature_cols:\n",
    "    print(i+\": \"+str(Dentropy(X1hot, ysimp, i)))"
   ]
  },
  {
   "cell_type": "code",
   "execution_count": null,
   "metadata": {},
   "outputs": [],
   "source": []
  },
  {
   "cell_type": "code",
   "execution_count": null,
   "metadata": {},
   "outputs": [],
   "source": [
    "clf.predict(X1hot[0:1])"
   ]
  },
  {
   "cell_type": "code",
   "execution_count": null,
   "metadata": {},
   "outputs": [],
   "source": [
    "clf.predict_proba(X1hot[100:101])"
   ]
  },
  {
   "cell_type": "code",
   "execution_count": null,
   "metadata": {},
   "outputs": [],
   "source": [
    "clf = tree.DecisionTreeClassifier(criterion=\"entropy\", max_depth=20)\n",
    "# Train Decision Tree Classifer\n",
    "clf = clf.fit(X1hot, ybin)"
   ]
  },
  {
   "cell_type": "code",
   "execution_count": null,
   "metadata": {},
   "outputs": [],
   "source": [
    "clf.feature_importances_"
   ]
  },
  {
   "cell_type": "markdown",
   "metadata": {},
   "source": [
    "## Multi-Class Classification"
   ]
  },
  {
   "cell_type": "code",
   "execution_count": null,
   "metadata": {},
   "outputs": [],
   "source": [
    "clf = tree.DecisionTreeClassifier(criterion=\"entropy\", max_depth=2)\n",
    "# Train Decision Tree Classifer\n",
    "clf = clf.fit(X1hot, y)"
   ]
  },
  {
   "cell_type": "code",
   "execution_count": null,
   "metadata": {},
   "outputs": [],
   "source": [
    "tree.plot_tree(clf)  "
   ]
  },
  {
   "cell_type": "code",
   "execution_count": null,
   "metadata": {},
   "outputs": [],
   "source": [
    "dot_data = StringIO()\n",
    "export_graphviz(clf, out_file=dot_data,\n",
    "                filled=True, rounded=True,\n",
    "                special_characters=True, feature_names = X1hot.columns, class_names=['acc', 'unacc'])\n",
    "graph = pydotplus.graph_from_dot_data(dot_data.getvalue())"
   ]
  },
  {
   "cell_type": "code",
   "execution_count": null,
   "metadata": {},
   "outputs": [],
   "source": [
    "np.unique(y, return_counts=True)"
   ]
  },
  {
   "cell_type": "code",
   "execution_count": null,
   "metadata": {},
   "outputs": [],
   "source": [
    "p1=384.0/len(y)\n",
    "p2=69.0/len(y)\n",
    "p3=1210.0/len(y)\n",
    "p4=65.0/len(y)"
   ]
  },
  {
   "cell_type": "code",
   "execution_count": null,
   "metadata": {},
   "outputs": [],
   "source": [
    "p1*np.log2(p1)+p2*np.log2(p2)+p3*np.log2(p3)+p4*np.log2(p4)"
   ]
  },
  {
   "cell_type": "markdown",
   "metadata": {},
   "source": [
    "## Random Forest to Predict House Price"
   ]
  },
  {
   "cell_type": "code",
   "execution_count": null,
   "metadata": {},
   "outputs": [],
   "source": [
    "from sklearn.ensemble import RandomForestRegressor"
   ]
  },
  {
   "cell_type": "code",
   "execution_count": 41,
   "metadata": {},
   "outputs": [],
   "source": [
    "houseprice = pd.read_csv('Data/housetrain.csv')"
   ]
  },
  {
   "cell_type": "code",
   "execution_count": null,
   "metadata": {},
   "outputs": [],
   "source": [
    "houseprice.columns"
   ]
  },
  {
   "cell_type": "code",
   "execution_count": 43,
   "metadata": {},
   "outputs": [],
   "source": [
    "y = houseprice['SalePrice']\n",
    "predictor_cols = ['LotArea', 'OverallQual', 'OverallCond', 'YearBuilt']\n",
    "\n",
    "# Create training predictors data\n",
    "train_X = houseprice[predictor_cols]"
   ]
  },
  {
   "cell_type": "markdown",
   "metadata": {},
   "source": [
    "## In Sample Model"
   ]
  },
  {
   "cell_type": "code",
   "execution_count": 59,
   "metadata": {},
   "outputs": [],
   "source": [
    "rf = RandomForestRegressor(n_estimators = 1, max_depth=None, random_state = 42)\n",
    "# Train the model on training data\n",
    "rf.fit(train_X, y);"
   ]
  },
  {
   "cell_type": "code",
   "execution_count": null,
   "metadata": {},
   "outputs": [],
   "source": [
    "rf.feature_importances_"
   ]
  },
  {
   "cell_type": "code",
   "execution_count": 61,
   "metadata": {},
   "outputs": [],
   "source": [
    "houseprice['ypred']=rf.predict(train_X)"
   ]
  },
  {
   "cell_type": "code",
   "execution_count": null,
   "metadata": {},
   "outputs": [],
   "source": [
    "error=np.sqrt(np.dot((y-houseprice['ypred']), (y-houseprice['ypred'])))\n",
    "print(error)"
   ]
  },
  {
   "cell_type": "code",
   "execution_count": 62,
   "metadata": {},
   "outputs": [
    {
     "data": {
      "image/png": "[encoded data removed]",
      "text/plain": [
       "<Figure size 720x360 with 1 Axes>"
      ]
     },
     "metadata": {
      "needs_background": "light"
     },
     "output_type": "display_data"
    }
   ],
   "source": [
    "import matplotlib.pyplot as plt\n",
    "houseprice.plot(x='OverallQual', y=['SalePrice', 'ypred'], figsize=(10,5), grid=True, style=['o','rx'])\n",
    "plt.title('SalePrice scatter')\n",
    "plt.show()"
   ]
  },
  {
   "cell_type": "markdown",
   "metadata": {},
   "source": [
    "## Cross Validation "
   ]
  },
  {
   "cell_type": "code",
   "execution_count": 63,
   "metadata": {},
   "outputs": [],
   "source": [
    "from sklearn.model_selection import KFold\n",
    "from sklearn.utils import shuffle\n",
    "kf = KFold(n_splits=10)\n",
    "houseprice_shuffle=shuffle(houseprice)\n",
    "\n",
    "y_shuffle = houseprice_shuffle['SalePrice']\n",
    "predictor_cols = ['LotArea', 'OverallQual', 'OverallCond', 'YearBuilt']\n",
    "# Create training predictors data\n",
    "train_X_shuffle = houseprice_shuffle[predictor_cols]"
   ]
  },
  {
   "cell_type": "code",
   "execution_count": 69,
   "metadata": {},
   "outputs": [],
   "source": [
    "errorls=[]\n",
    "for ntrees in [10, 50, 100, 500, 1000]:\n",
    "    y_pred_cv= np.empty((0, 1))\n",
    "    rf = RandomForestRegressor(n_estimators = ntrees, max_depth=None,min_samples_leaf=2)\n",
    "    for train, test in kf.split(train_X_shuffle):\n",
    "        rf_modelcv=rf.fit(train_X_shuffle.iloc[train], y_shuffle.iloc[train]);\n",
    "        y_pred_cv=np.append(y_pred_cv,rf_modelcv.predict(train_X_shuffle.iloc[test]))\n",
    "    errorls.append(np.sqrt(np.dot(y_pred_cv-y_shuffle, y_pred_cv-y_shuffle)/len(y_shuffle)))"
   ]
  },
  {
   "cell_type": "code",
   "execution_count": null,
   "metadata": {},
   "outputs": [],
   "source": [
    "houseprice_shuffle['y_pred_cv']=y_pred_cv\n",
    "houseprice_shuffle['residual']=houseprice_shuffle['y_pred_cv']-houseprice_shuffle['SalePrice']"
   ]
  },
  {
   "cell_type": "code",
   "execution_count": null,
   "metadata": {},
   "outputs": [],
   "source": [
    "houseprice_shuffle.plot(x='OverallQual', y=['residual'], figsize=(10,5), grid=True, style=['o','rx'])\n",
    "plt.title('SalePrice scatter')\n",
    "plt.show()"
   ]
  },
  {
   "cell_type": "code",
   "execution_count": 70,
   "metadata": {},
   "outputs": [
    {
     "data": {
      "text/plain": [
       "[<matplotlib.lines.Line2D at 0x1189ede10>]"
      ]
     },
     "execution_count": 70,
     "metadata": {},
     "output_type": "execute_result"
    },
    {
     "data": {
      "image/png": "[encoded data removed]",
      "text/plain": [
       "<Figure size 432x288 with 1 Axes>"
      ]
     },
     "metadata": {
      "needs_background": "light"
     },
     "output_type": "display_data"
    }
   ],
   "source": [
    "plt.plot(errorls)"
   ]
  },
  {
   "cell_type": "code",
   "execution_count": 65,
   "metadata": {},
   "outputs": [
    {
     "data": {
      "text/plain": [
       "[42520.89364666028,\n",
       " 40867.110417560485,\n",
       " 41234.049931049514,\n",
       " 40915.61275770961,\n",
       " 40863.421973524666]"
      ]
     },
     "execution_count": 65,
     "metadata": {},
     "output_type": "execute_result"
    }
   ],
   "source": [
    "errorls"
   ]
  },
  {
   "cell_type": "code",
   "execution_count": null,
   "metadata": {},
   "outputs": [],
   "source": []
  }
 ],
 "metadata": {
  "kernelspec": {
   "display_name": "Python 3",
   "language": "python",
   "name": "python3"
  },
  "language_info": {
   "codemirror_mode": {
    "name": "ipython",
    "version": 3
   },
   "file_extension": ".py",
   "mimetype": "text/x-python",
   "name": "python",
   "nbconvert_exporter": "python",
   "pygments_lexer": "ipython3",
   "version": "3.7.4"
  }
 },
 "nbformat": 4,
 "nbformat_minor": 2
}
