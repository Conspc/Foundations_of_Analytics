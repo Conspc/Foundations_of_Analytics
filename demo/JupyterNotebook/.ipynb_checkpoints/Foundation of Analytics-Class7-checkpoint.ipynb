{
 "cells": [
  {
   "cell_type": "markdown",
   "metadata": {},
   "source": [
    "## Install tensorflow\n",
    "```pip install --upgrade pip```\n",
    "\n",
    "```pip install tensorflow```"
   ]
  },
  {
   "cell_type": "code",
   "execution_count": 1,
   "metadata": {},
   "outputs": [],
   "source": [
    "import numpy as np\n",
    "import pandas as pd\n",
    "import tensorflow as tf\n",
    "from tensorflow.keras import layers\n",
    "from sklearn.metrics import roc_auc_score, accuracy_score"
   ]
  },
  {
   "cell_type": "code",
   "execution_count": 2,
   "metadata": {},
   "outputs": [],
   "source": [
    "logData=pd.read_csv(\"../Data/logistic_regression_optimization.csv\")"
   ]
  },
  {
   "cell_type": "code",
   "execution_count": 3,
   "metadata": {},
   "outputs": [
    {
     "data": {
      "text/plain": [
       "Index(['# X1', ' X2', ' X3', ' Y'], dtype='object')"
      ]
     },
     "execution_count": 3,
     "metadata": {},
     "output_type": "execute_result"
    }
   ],
   "source": [
    "logData.columns"
   ]
  },
  {
   "cell_type": "code",
   "execution_count": 4,
   "metadata": {},
   "outputs": [],
   "source": [
    "x = logData.iloc[:, 0:-1].values \n",
    "y = logData.iloc[:, -1:].values "
   ]
  },
  {
   "cell_type": "code",
   "execution_count": 5,
   "metadata": {},
   "outputs": [],
   "source": [
    "from sklearn.linear_model import LogisticRegression"
   ]
  },
  {
   "cell_type": "code",
   "execution_count": 6,
   "metadata": {},
   "outputs": [
    {
     "name": "stdout",
     "output_type": "stream",
     "text": [
      "[array([[3.83389295, 1.1991905 , 4.52605611]]), array([-4.92802048])]\n"
     ]
    },
    {
     "name": "stderr",
     "output_type": "stream",
     "text": [
      "/Users/dlai/venv/JupyterNotebook/lib/python3.7/site-packages/sklearn/utils/validation.py:724: DataConversionWarning: A column-vector y was passed when a 1d array was expected. Please change the shape of y to (n_samples, ), for example using ravel().\n",
      "  y = column_or_1d(y, warn=True)\n"
     ]
    }
   ],
   "source": [
    "clf = LogisticRegression(penalty='none', solver='lbfgs').fit(x, y)\n",
    "print([clf.coef_, clf.intercept_])"
   ]
  },
  {
   "cell_type": "markdown",
   "metadata": {},
   "source": [
    "## 1-layer Neural Network"
   ]
  },
  {
   "cell_type": "code",
   "execution_count": 17,
   "metadata": {},
   "outputs": [],
   "source": [
    "model = tf.keras.Sequential()\n",
    "model.add(layers.Dense(1, input_shape=(3,),use_bias=True, activation='sigmoid'))"
   ]
  },
  {
   "cell_type": "code",
   "execution_count": 18,
   "metadata": {},
   "outputs": [],
   "source": [
    "model.compile(optimizer=tf.keras.optimizers.Adam(0.01),\n",
    "              loss='binary_crossentropy', metrics=['accuracy'])"
   ]
  },
  {
   "cell_type": "code",
   "execution_count": 19,
   "metadata": {},
   "outputs": [
    {
     "name": "stdout",
     "output_type": "stream",
     "text": [
      "Train on 4000 samples, validate on 1000 samples\n",
      "Epoch 1/50\n",
      "4000/4000 [==============================] - 1s 281us/sample - loss: 0.3731 - accuracy: 0.8815 - val_loss: 0.1687 - val_accuracy: 0.9630\n",
      "Epoch 2/50\n",
      "4000/4000 [==============================] - 1s 174us/sample - loss: 0.1606 - accuracy: 0.9482 - val_loss: 0.1329 - val_accuracy: 0.9660\n",
      "Epoch 3/50\n",
      "4000/4000 [==============================] - 1s 174us/sample - loss: 0.1384 - accuracy: 0.9485 - val_loss: 0.1165 - val_accuracy: 0.9690\n",
      "Epoch 4/50\n",
      "4000/4000 [==============================] - 1s 175us/sample - loss: 0.1286 - accuracy: 0.9505 - val_loss: 0.1108 - val_accuracy: 0.9650\n",
      "Epoch 5/50\n",
      "4000/4000 [==============================] - 1s 183us/sample - loss: 0.1232 - accuracy: 0.9500 - val_loss: 0.1041 - val_accuracy: 0.9660\n",
      "Epoch 6/50\n",
      "4000/4000 [==============================] - 1s 196us/sample - loss: 0.1201 - accuracy: 0.9498 - val_loss: 0.1007 - val_accuracy: 0.9680\n",
      "Epoch 7/50\n",
      "4000/4000 [==============================] - 1s 192us/sample - loss: 0.1183 - accuracy: 0.9498 - val_loss: 0.0976 - val_accuracy: 0.9660\n",
      "Epoch 8/50\n",
      "4000/4000 [==============================] - 1s 221us/sample - loss: 0.1171 - accuracy: 0.9480 - val_loss: 0.0960 - val_accuracy: 0.9640\n",
      "Epoch 9/50\n",
      "4000/4000 [==============================] - 1s 219us/sample - loss: 0.1163 - accuracy: 0.9498 - val_loss: 0.0945 - val_accuracy: 0.9670\n",
      "Epoch 10/50\n",
      "4000/4000 [==============================] - 1s 222us/sample - loss: 0.1161 - accuracy: 0.9498 - val_loss: 0.0933 - val_accuracy: 0.9670\n",
      "Epoch 11/50\n",
      "4000/4000 [==============================] - 1s 207us/sample - loss: 0.1148 - accuracy: 0.9480 - val_loss: 0.0965 - val_accuracy: 0.9620\n",
      "Epoch 12/50\n",
      "4000/4000 [==============================] - 1s 199us/sample - loss: 0.1149 - accuracy: 0.9505 - val_loss: 0.0924 - val_accuracy: 0.9690\n",
      "Epoch 13/50\n",
      "4000/4000 [==============================] - 1s 208us/sample - loss: 0.1147 - accuracy: 0.9500 - val_loss: 0.0917 - val_accuracy: 0.9680\n",
      "Epoch 14/50\n",
      "4000/4000 [==============================] - 1s 246us/sample - loss: 0.1148 - accuracy: 0.9492 - val_loss: 0.0928 - val_accuracy: 0.9670\n",
      "Epoch 15/50\n",
      "4000/4000 [==============================] - 1s 196us/sample - loss: 0.1143 - accuracy: 0.9498 - val_loss: 0.0913 - val_accuracy: 0.9680\n",
      "Epoch 16/50\n",
      "4000/4000 [==============================] - 1s 210us/sample - loss: 0.1142 - accuracy: 0.9495 - val_loss: 0.0905 - val_accuracy: 0.9670\n",
      "Epoch 17/50\n",
      "4000/4000 [==============================] - 1s 187us/sample - loss: 0.1136 - accuracy: 0.9498 - val_loss: 0.0906 - val_accuracy: 0.9660\n",
      "Epoch 18/50\n",
      "4000/4000 [==============================] - 1s 302us/sample - loss: 0.1145 - accuracy: 0.9495 - val_loss: 0.0901 - val_accuracy: 0.9670\n",
      "Epoch 19/50\n",
      "4000/4000 [==============================] - 1s 209us/sample - loss: 0.1138 - accuracy: 0.9495 - val_loss: 0.0919 - val_accuracy: 0.9620\n",
      "Epoch 20/50\n",
      "4000/4000 [==============================] - 1s 188us/sample - loss: 0.1134 - accuracy: 0.9490 - val_loss: 0.0903 - val_accuracy: 0.9690\n",
      "Epoch 21/50\n",
      "4000/4000 [==============================] - 1s 179us/sample - loss: 0.1138 - accuracy: 0.9495 - val_loss: 0.0909 - val_accuracy: 0.9650\n",
      "Epoch 22/50\n",
      "4000/4000 [==============================] - 1s 182us/sample - loss: 0.1141 - accuracy: 0.9490 - val_loss: 0.0904 - val_accuracy: 0.9640\n",
      "Epoch 23/50\n",
      "4000/4000 [==============================] - 1s 185us/sample - loss: 0.1138 - accuracy: 0.9500 - val_loss: 0.0902 - val_accuracy: 0.9670\n",
      "Epoch 24/50\n",
      "4000/4000 [==============================] - 1s 186us/sample - loss: 0.1135 - accuracy: 0.9513 - val_loss: 0.0913 - val_accuracy: 0.9630\n",
      "Epoch 25/50\n",
      "4000/4000 [==============================] - 1s 186us/sample - loss: 0.1141 - accuracy: 0.9492 - val_loss: 0.0898 - val_accuracy: 0.9660\n",
      "Epoch 26/50\n",
      "4000/4000 [==============================] - 1s 189us/sample - loss: 0.1129 - accuracy: 0.9510 - val_loss: 0.0905 - val_accuracy: 0.9650\n",
      "Epoch 27/50\n",
      "4000/4000 [==============================] - 1s 189us/sample - loss: 0.1134 - accuracy: 0.9498 - val_loss: 0.0901 - val_accuracy: 0.9670\n",
      "Epoch 28/50\n",
      "4000/4000 [==============================] - 1s 186us/sample - loss: 0.1140 - accuracy: 0.9505 - val_loss: 0.0904 - val_accuracy: 0.9660\n",
      "Epoch 29/50\n",
      "4000/4000 [==============================] - 1s 187us/sample - loss: 0.1132 - accuracy: 0.9500 - val_loss: 0.0918 - val_accuracy: 0.9640\n",
      "Epoch 30/50\n",
      "4000/4000 [==============================] - 1s 307us/sample - loss: 0.1144 - accuracy: 0.9470 - val_loss: 0.0901 - val_accuracy: 0.9680\n",
      "Epoch 31/50\n",
      "4000/4000 [==============================] - 1s 228us/sample - loss: 0.1137 - accuracy: 0.9485 - val_loss: 0.0911 - val_accuracy: 0.9660\n",
      "Epoch 32/50\n",
      "4000/4000 [==============================] - 1s 213us/sample - loss: 0.1139 - accuracy: 0.9482 - val_loss: 0.0925 - val_accuracy: 0.9630\n",
      "Epoch 33/50\n",
      "4000/4000 [==============================] - 1s 244us/sample - loss: 0.1140 - accuracy: 0.9500 - val_loss: 0.0895 - val_accuracy: 0.9690\n",
      "Epoch 34/50\n",
      "4000/4000 [==============================] - 1s 207us/sample - loss: 0.1135 - accuracy: 0.9488 - val_loss: 0.0896 - val_accuracy: 0.9660\n",
      "Epoch 35/50\n",
      "4000/4000 [==============================] - 1s 182us/sample - loss: 0.1129 - accuracy: 0.9482 - val_loss: 0.0892 - val_accuracy: 0.9670\n",
      "Epoch 36/50\n",
      "4000/4000 [==============================] - 1s 203us/sample - loss: 0.1138 - accuracy: 0.9490 - val_loss: 0.0929 - val_accuracy: 0.9610\n",
      "Epoch 37/50\n",
      "4000/4000 [==============================] - 1s 194us/sample - loss: 0.1136 - accuracy: 0.9488 - val_loss: 0.0898 - val_accuracy: 0.9680\n",
      "Epoch 38/50\n",
      "4000/4000 [==============================] - 1s 294us/sample - loss: 0.1141 - accuracy: 0.9500 - val_loss: 0.0909 - val_accuracy: 0.9680\n",
      "Epoch 39/50\n",
      "4000/4000 [==============================] - 1s 265us/sample - loss: 0.1140 - accuracy: 0.9495 - val_loss: 0.0896 - val_accuracy: 0.9650\n",
      "Epoch 40/50\n",
      "4000/4000 [==============================] - 1s 258us/sample - loss: 0.1132 - accuracy: 0.9498 - val_loss: 0.0930 - val_accuracy: 0.9640\n",
      "Epoch 41/50\n",
      "4000/4000 [==============================] - 1s 200us/sample - loss: 0.1148 - accuracy: 0.9485 - val_loss: 0.0899 - val_accuracy: 0.9660\n",
      "Epoch 42/50\n",
      "4000/4000 [==============================] - 1s 189us/sample - loss: 0.1139 - accuracy: 0.9473 - val_loss: 0.0893 - val_accuracy: 0.9680\n",
      "Epoch 43/50\n",
      "4000/4000 [==============================] - 1s 179us/sample - loss: 0.1138 - accuracy: 0.9488 - val_loss: 0.0891 - val_accuracy: 0.9670\n",
      "Epoch 44/50\n",
      "4000/4000 [==============================] - 1s 181us/sample - loss: 0.1139 - accuracy: 0.9492 - val_loss: 0.0894 - val_accuracy: 0.9660\n",
      "Epoch 45/50\n",
      "4000/4000 [==============================] - 1s 177us/sample - loss: 0.1138 - accuracy: 0.9490 - val_loss: 0.0890 - val_accuracy: 0.9670\n",
      "Epoch 46/50\n",
      "4000/4000 [==============================] - 1s 175us/sample - loss: 0.1141 - accuracy: 0.9500 - val_loss: 0.0905 - val_accuracy: 0.9650\n",
      "Epoch 47/50\n",
      "4000/4000 [==============================] - 1s 175us/sample - loss: 0.1140 - accuracy: 0.9485 - val_loss: 0.0902 - val_accuracy: 0.9660\n",
      "Epoch 48/50\n",
      "4000/4000 [==============================] - 1s 182us/sample - loss: 0.1136 - accuracy: 0.9485 - val_loss: 0.0893 - val_accuracy: 0.9670\n",
      "Epoch 49/50\n",
      "4000/4000 [==============================] - 1s 178us/sample - loss: 0.1132 - accuracy: 0.9498 - val_loss: 0.0912 - val_accuracy: 0.9650\n",
      "Epoch 50/50\n",
      "4000/4000 [==============================] - 1s 218us/sample - loss: 0.1138 - accuracy: 0.9510 - val_loss: 0.0892 - val_accuracy: 0.9680\n"
     ]
    },
    {
     "data": {
      "text/plain": [
       "<tensorflow.python.keras.callbacks.History at 0x1400227d0>"
      ]
     },
     "execution_count": 19,
     "metadata": {},
     "output_type": "execute_result"
    }
   ],
   "source": [
    "model.fit(x, y, epochs=50,validation_split=0.2, batch_size=10)"
   ]
  },
  {
   "cell_type": "code",
   "execution_count": 21,
   "metadata": {},
   "outputs": [
    {
     "data": {
      "text/plain": [
       "[array([[3.7445545],\n",
       "        [1.1692681],\n",
       "        [4.38912  ]], dtype=float32), array([-4.8413463], dtype=float32)]"
      ]
     },
     "execution_count": 21,
     "metadata": {},
     "output_type": "execute_result"
    }
   ],
   "source": [
    "model.get_weights()"
   ]
  },
  {
   "cell_type": "code",
   "execution_count": 22,
   "metadata": {},
   "outputs": [],
   "source": [
    "import matplotlib.pyplot as plt"
   ]
  },
  {
   "cell_type": "code",
   "execution_count": 23,
   "metadata": {},
   "outputs": [
    {
     "data": {
      "text/plain": [
       "44"
      ]
     },
     "execution_count": 23,
     "metadata": {},
     "output_type": "execute_result"
    }
   ],
   "source": [
    "np.argmin(model.history.history['val_loss'])"
   ]
  },
  {
   "cell_type": "code",
   "execution_count": 24,
   "metadata": {},
   "outputs": [
    {
     "data": {
      "text/plain": [
       "[<matplotlib.lines.Line2D at 0x140594310>]"
      ]
     },
     "execution_count": 24,
     "metadata": {},
     "output_type": "execute_result"
    },
    {
     "data": {
      "image/png": "[encoded data removed]",
      "text/plain": [
       "<Figure size 432x288 with 1 Axes>"
      ]
     },
     "metadata": {
      "needs_background": "light"
     },
     "output_type": "display_data"
    }
   ],
   "source": [
    "plt.plot(model.history.history['val_loss'])"
   ]
  },
  {
   "cell_type": "code",
   "execution_count": null,
   "metadata": {},
   "outputs": [],
   "source": []
  },
  {
   "cell_type": "code",
   "execution_count": null,
   "metadata": {},
   "outputs": [],
   "source": []
  }
 ],
 "metadata": {
  "kernelspec": {
   "display_name": "Python 3",
   "language": "python",
   "name": "python3"
  },
  "language_info": {
   "codemirror_mode": {
    "name": "ipython",
    "version": 3
   },
   "file_extension": ".py",
   "mimetype": "text/x-python",
   "name": "python",
   "nbconvert_exporter": "python",
   "pygments_lexer": "ipython3",
   "version": "3.7.4"
  }
 },
 "nbformat": 4,
 "nbformat_minor": 2
}
