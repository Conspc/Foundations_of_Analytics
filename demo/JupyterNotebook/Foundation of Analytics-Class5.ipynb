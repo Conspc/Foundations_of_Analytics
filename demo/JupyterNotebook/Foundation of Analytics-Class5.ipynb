{
 "cells": [
  {
   "cell_type": "markdown",
   "metadata": {},
   "source": [
    "## New packages \n",
    "```pip install pandas```\n",
    "\n",
    "```pip install statsmodels```"
   ]
  },
  {
   "cell_type": "code",
   "execution_count": null,
   "metadata": {},
   "outputs": [],
   "source": [
    "import numpy as np\n",
    "from sklearn.linear_model import LinearRegression\n",
    "import matplotlib.pyplot as plt\n",
    "from sklearn.metrics import mean_squared_error\n",
    "import pandas as pd"
   ]
  },
  {
   "cell_type": "code",
   "execution_count": null,
   "metadata": {},
   "outputs": [],
   "source": [
    "import statsmodels.api as sm"
   ]
  },
  {
   "cell_type": "markdown",
   "metadata": {},
   "source": [
    "## UCI Bike Sharing Dataset\n",
    "https://archive.ics.uci.edu/ml/datasets/Bike+Sharing+Dataset\n",
    "\n",
    "- instant: record index\n",
    "- dteday : date\n",
    "- season : season (1:springer, 2:summer, 3:fall, 4:winter)\n",
    "- yr : year (0: 2011, 1:2012)\n",
    "- mnth : month ( 1 to 12)\n",
    "- hr : hour (0 to 23)\n",
    "- holiday : weather day is holiday or not (extracted from [Web Link])\n",
    "- weekday : day of the week\n",
    "- workingday : if day is neither weekend nor holiday is 1, otherwise is 0.\n",
    "+ weathersit : \n",
    "- 1: Clear, Few clouds, Partly cloudy, Partly cloudy\n",
    "- 2: Mist + Cloudy, Mist + Broken clouds, Mist + Few clouds, Mist\n",
    "- 3: Light Snow, Light Rain + Thunderstorm + Scattered clouds, Light Rain + Scattered clouds\n",
    "- 4: Heavy Rain + Ice Pallets + Thunderstorm + Mist, Snow + Fog\n",
    "- temp : Normalized temperature in Celsius. The values are derived via (t-t_min)/(t_max-t_min), t_min=-8, t_max=+39 (only in hourly scale)\n",
    "- atemp: Normalized feeling temperature in Celsius. The values are derived via (t-t_min)/(t_max-t_min), t_min=-16, t_max=+50 (only in hourly scale)\n",
    "- hum: Normalized humidity. The values are divided to 100 (max)\n",
    "- windspeed: Normalized wind speed. The values are divided to 67 (max)\n",
    "- casual: count of casual users\n",
    "- registered: count of registered users\n",
    "- cnt: count of total rental bikes including both casual and registered"
   ]
  },
  {
   "cell_type": "markdown",
   "metadata": {},
   "source": [
    "## Importing Data"
   ]
  },
  {
   "cell_type": "code",
   "execution_count": null,
   "metadata": {},
   "outputs": [],
   "source": [
    "bikes = np.genfromtxt(\"Data/bikedc.csv\", delimiter=',', skip_header=1)"
   ]
  },
  {
   "cell_type": "code",
   "execution_count": null,
   "metadata": {},
   "outputs": [],
   "source": [
    "bikes=pd.read_csv(\"Data/bikedc.csv\")"
   ]
  },
  {
   "cell_type": "code",
   "execution_count": 5,
   "metadata": {},
   "outputs": [
    {
     "data": {
      "text/html": [
       "<div>\n",
       "<style scoped>\n",
       "    .dataframe tbody tr th:only-of-type {\n",
       "        vertical-align: middle;\n",
       "    }\n",
       "\n",
       "    .dataframe tbody tr th {\n",
       "        vertical-align: top;\n",
       "    }\n",
       "\n",
       "    .dataframe thead th {\n",
       "        text-align: right;\n",
       "    }\n",
       "</style>\n",
       "<table border=\"1\" class=\"dataframe\">\n",
       "  <thead>\n",
       "    <tr style=\"text-align: right;\">\n",
       "      <th></th>\n",
       "      <th>season</th>\n",
       "      <th>mnth</th>\n",
       "      <th>day</th>\n",
       "      <th>hr</th>\n",
       "      <th>holiday</th>\n",
       "      <th>weekday</th>\n",
       "      <th>workingday</th>\n",
       "      <th>weathersit</th>\n",
       "      <th>temp</th>\n",
       "      <th>atemp</th>\n",
       "      <th>hum</th>\n",
       "      <th>windspeed</th>\n",
       "      <th>casual</th>\n",
       "      <th>registered</th>\n",
       "      <th>cnt</th>\n",
       "    </tr>\n",
       "  </thead>\n",
       "  <tbody>\n",
       "    <tr>\n",
       "      <td>0</td>\n",
       "      <td>1</td>\n",
       "      <td>1</td>\n",
       "      <td>1</td>\n",
       "      <td>0</td>\n",
       "      <td>0</td>\n",
       "      <td>6</td>\n",
       "      <td>0</td>\n",
       "      <td>1</td>\n",
       "      <td>0.24</td>\n",
       "      <td>0.2879</td>\n",
       "      <td>0.81</td>\n",
       "      <td>0.0000</td>\n",
       "      <td>3</td>\n",
       "      <td>13</td>\n",
       "      <td>16</td>\n",
       "    </tr>\n",
       "    <tr>\n",
       "      <td>1</td>\n",
       "      <td>1</td>\n",
       "      <td>1</td>\n",
       "      <td>1</td>\n",
       "      <td>1</td>\n",
       "      <td>0</td>\n",
       "      <td>6</td>\n",
       "      <td>0</td>\n",
       "      <td>1</td>\n",
       "      <td>0.22</td>\n",
       "      <td>0.2727</td>\n",
       "      <td>0.80</td>\n",
       "      <td>0.0000</td>\n",
       "      <td>8</td>\n",
       "      <td>32</td>\n",
       "      <td>40</td>\n",
       "    </tr>\n",
       "    <tr>\n",
       "      <td>2</td>\n",
       "      <td>1</td>\n",
       "      <td>1</td>\n",
       "      <td>1</td>\n",
       "      <td>2</td>\n",
       "      <td>0</td>\n",
       "      <td>6</td>\n",
       "      <td>0</td>\n",
       "      <td>1</td>\n",
       "      <td>0.22</td>\n",
       "      <td>0.2727</td>\n",
       "      <td>0.80</td>\n",
       "      <td>0.0000</td>\n",
       "      <td>5</td>\n",
       "      <td>27</td>\n",
       "      <td>32</td>\n",
       "    </tr>\n",
       "    <tr>\n",
       "      <td>3</td>\n",
       "      <td>1</td>\n",
       "      <td>1</td>\n",
       "      <td>1</td>\n",
       "      <td>3</td>\n",
       "      <td>0</td>\n",
       "      <td>6</td>\n",
       "      <td>0</td>\n",
       "      <td>1</td>\n",
       "      <td>0.24</td>\n",
       "      <td>0.2879</td>\n",
       "      <td>0.75</td>\n",
       "      <td>0.0000</td>\n",
       "      <td>3</td>\n",
       "      <td>10</td>\n",
       "      <td>13</td>\n",
       "    </tr>\n",
       "    <tr>\n",
       "      <td>4</td>\n",
       "      <td>1</td>\n",
       "      <td>1</td>\n",
       "      <td>1</td>\n",
       "      <td>4</td>\n",
       "      <td>0</td>\n",
       "      <td>6</td>\n",
       "      <td>0</td>\n",
       "      <td>1</td>\n",
       "      <td>0.24</td>\n",
       "      <td>0.2879</td>\n",
       "      <td>0.75</td>\n",
       "      <td>0.0000</td>\n",
       "      <td>0</td>\n",
       "      <td>1</td>\n",
       "      <td>1</td>\n",
       "    </tr>\n",
       "    <tr>\n",
       "      <td>...</td>\n",
       "      <td>...</td>\n",
       "      <td>...</td>\n",
       "      <td>...</td>\n",
       "      <td>...</td>\n",
       "      <td>...</td>\n",
       "      <td>...</td>\n",
       "      <td>...</td>\n",
       "      <td>...</td>\n",
       "      <td>...</td>\n",
       "      <td>...</td>\n",
       "      <td>...</td>\n",
       "      <td>...</td>\n",
       "      <td>...</td>\n",
       "      <td>...</td>\n",
       "      <td>...</td>\n",
       "    </tr>\n",
       "    <tr>\n",
       "      <td>8640</td>\n",
       "      <td>1</td>\n",
       "      <td>12</td>\n",
       "      <td>365</td>\n",
       "      <td>19</td>\n",
       "      <td>0</td>\n",
       "      <td>6</td>\n",
       "      <td>0</td>\n",
       "      <td>1</td>\n",
       "      <td>0.42</td>\n",
       "      <td>0.4242</td>\n",
       "      <td>0.54</td>\n",
       "      <td>0.2239</td>\n",
       "      <td>19</td>\n",
       "      <td>73</td>\n",
       "      <td>92</td>\n",
       "    </tr>\n",
       "    <tr>\n",
       "      <td>8641</td>\n",
       "      <td>1</td>\n",
       "      <td>12</td>\n",
       "      <td>365</td>\n",
       "      <td>20</td>\n",
       "      <td>0</td>\n",
       "      <td>6</td>\n",
       "      <td>0</td>\n",
       "      <td>1</td>\n",
       "      <td>0.42</td>\n",
       "      <td>0.4242</td>\n",
       "      <td>0.54</td>\n",
       "      <td>0.2239</td>\n",
       "      <td>8</td>\n",
       "      <td>63</td>\n",
       "      <td>71</td>\n",
       "    </tr>\n",
       "    <tr>\n",
       "      <td>8642</td>\n",
       "      <td>1</td>\n",
       "      <td>12</td>\n",
       "      <td>365</td>\n",
       "      <td>21</td>\n",
       "      <td>0</td>\n",
       "      <td>6</td>\n",
       "      <td>0</td>\n",
       "      <td>1</td>\n",
       "      <td>0.40</td>\n",
       "      <td>0.4091</td>\n",
       "      <td>0.58</td>\n",
       "      <td>0.1940</td>\n",
       "      <td>2</td>\n",
       "      <td>50</td>\n",
       "      <td>52</td>\n",
       "    </tr>\n",
       "    <tr>\n",
       "      <td>8643</td>\n",
       "      <td>1</td>\n",
       "      <td>12</td>\n",
       "      <td>365</td>\n",
       "      <td>22</td>\n",
       "      <td>0</td>\n",
       "      <td>6</td>\n",
       "      <td>0</td>\n",
       "      <td>1</td>\n",
       "      <td>0.38</td>\n",
       "      <td>0.3939</td>\n",
       "      <td>0.62</td>\n",
       "      <td>0.1343</td>\n",
       "      <td>2</td>\n",
       "      <td>36</td>\n",
       "      <td>38</td>\n",
       "    </tr>\n",
       "    <tr>\n",
       "      <td>8644</td>\n",
       "      <td>1</td>\n",
       "      <td>12</td>\n",
       "      <td>365</td>\n",
       "      <td>23</td>\n",
       "      <td>0</td>\n",
       "      <td>6</td>\n",
       "      <td>0</td>\n",
       "      <td>1</td>\n",
       "      <td>0.36</td>\n",
       "      <td>0.3788</td>\n",
       "      <td>0.66</td>\n",
       "      <td>0.0000</td>\n",
       "      <td>4</td>\n",
       "      <td>27</td>\n",
       "      <td>31</td>\n",
       "    </tr>\n",
       "  </tbody>\n",
       "</table>\n",
       "<p>8645 rows × 15 columns</p>\n",
       "</div>"
      ],
      "text/plain": [
       "      season  mnth  day  hr  holiday  weekday  workingday  weathersit  temp  \\\n",
       "0          1     1    1   0        0        6           0           1  0.24   \n",
       "1          1     1    1   1        0        6           0           1  0.22   \n",
       "2          1     1    1   2        0        6           0           1  0.22   \n",
       "3          1     1    1   3        0        6           0           1  0.24   \n",
       "4          1     1    1   4        0        6           0           1  0.24   \n",
       "...      ...   ...  ...  ..      ...      ...         ...         ...   ...   \n",
       "8640       1    12  365  19        0        6           0           1  0.42   \n",
       "8641       1    12  365  20        0        6           0           1  0.42   \n",
       "8642       1    12  365  21        0        6           0           1  0.40   \n",
       "8643       1    12  365  22        0        6           0           1  0.38   \n",
       "8644       1    12  365  23        0        6           0           1  0.36   \n",
       "\n",
       "       atemp   hum  windspeed  casual  registered  cnt  \n",
       "0     0.2879  0.81     0.0000       3          13   16  \n",
       "1     0.2727  0.80     0.0000       8          32   40  \n",
       "2     0.2727  0.80     0.0000       5          27   32  \n",
       "3     0.2879  0.75     0.0000       3          10   13  \n",
       "4     0.2879  0.75     0.0000       0           1    1  \n",
       "...      ...   ...        ...     ...         ...  ...  \n",
       "8640  0.4242  0.54     0.2239      19          73   92  \n",
       "8641  0.4242  0.54     0.2239       8          63   71  \n",
       "8642  0.4091  0.58     0.1940       2          50   52  \n",
       "8643  0.3939  0.62     0.1343       2          36   38  \n",
       "8644  0.3788  0.66     0.0000       4          27   31  \n",
       "\n",
       "[8645 rows x 15 columns]"
      ]
     },
     "execution_count": 5,
     "metadata": {},
     "output_type": "execute_result"
    }
   ],
   "source": [
    "bikes"
   ]
  },
  {
   "cell_type": "code",
   "execution_count": 6,
   "metadata": {},
   "outputs": [
    {
     "data": {
      "text/plain": [
       "array([ 1,  2,  3,  4,  5,  6,  7,  8,  9, 10, 11, 12])"
      ]
     },
     "execution_count": 6,
     "metadata": {},
     "output_type": "execute_result"
    }
   ],
   "source": [
    "np.unique(bikes[\"mnth\"])"
   ]
  },
  {
   "cell_type": "markdown",
   "metadata": {},
   "source": [
    "## Data Wrangling"
   ]
  },
  {
   "cell_type": "code",
   "execution_count": null,
   "metadata": {},
   "outputs": [],
   "source": [
    "print(bikes.head())"
   ]
  },
  {
   "cell_type": "code",
   "execution_count": 7,
   "metadata": {},
   "outputs": [
    {
     "name": "stdout",
     "output_type": "stream",
     "text": [
      "            season         mnth         day           hr      holiday  \\\n",
      "count  8645.000000  8645.000000  8645.00000  8645.000000  8645.000000   \n",
      "mean      2.513592     6.573973   184.39572    11.573626     0.027646   \n",
      "std       1.105477     3.428147   104.82334     6.907822     0.163966   \n",
      "min       1.000000     1.000000     1.00000     0.000000     0.000000   \n",
      "25%       2.000000     4.000000    94.00000     6.000000     0.000000   \n",
      "50%       3.000000     7.000000   185.00000    12.000000     0.000000   \n",
      "75%       3.000000    10.000000   275.00000    18.000000     0.000000   \n",
      "max       4.000000    12.000000   365.00000    23.000000     1.000000   \n",
      "\n",
      "           weekday   workingday   weathersit         temp       atemp  \\\n",
      "count  8645.000000  8645.000000  8645.000000  8645.000000  8645.00000   \n",
      "mean      3.012724     0.683748     1.437594     0.489069     0.46900   \n",
      "std       2.006370     0.465040     0.653859     0.197943     0.17676   \n",
      "min       0.000000     0.000000     1.000000     0.020000     0.00000   \n",
      "25%       1.000000     0.000000     1.000000     0.320000     0.31820   \n",
      "50%       3.000000     1.000000     1.000000     0.500000     0.48480   \n",
      "75%       5.000000     1.000000     2.000000     0.660000     0.62120   \n",
      "max       6.000000     1.000000     4.000000     0.960000     1.00000   \n",
      "\n",
      "               hum    windspeed       casual   registered          cnt  \n",
      "count  8645.000000  8645.000000  8645.000000  8645.000000  8645.000000  \n",
      "mean      0.643430     0.191172    28.600578   115.193869   143.794448  \n",
      "std       0.196293     0.123191    38.840789   109.461014   133.797854  \n",
      "min       0.000000     0.000000     0.000000     0.000000     1.000000  \n",
      "25%       0.490000     0.104500     3.000000    26.000000    31.000000  \n",
      "50%       0.650000     0.194000    14.000000    90.000000   109.000000  \n",
      "75%       0.810000     0.283600    38.000000   168.000000   211.000000  \n",
      "max       1.000000     0.850700   272.000000   567.000000   651.000000  \n"
     ]
    }
   ],
   "source": [
    "print(bikes.describe())"
   ]
  },
  {
   "cell_type": "code",
   "execution_count": 8,
   "metadata": {},
   "outputs": [
    {
     "data": {
      "text/plain": [
       "array([  1,   2,   3,   4,   5,   6,   7,   8,   9,  10,  11,  12,  13,\n",
       "        14,  15,  16,  17,  18,  19,  20,  21,  22,  23,  24,  25,  26,\n",
       "        27,  28,  29,  30,  31,  32,  33,  34,  35,  36,  37,  38,  39,\n",
       "        40,  41,  42,  43,  44,  45,  46,  47,  48,  49,  50,  51,  52,\n",
       "        53,  54,  55,  56,  57,  58,  59,  60,  61,  62,  63,  64,  65,\n",
       "        66,  67,  68,  69,  70,  71,  72,  73,  74,  75,  76,  77,  78,\n",
       "        79,  80,  81,  82,  83,  84,  85,  86,  87,  88,  89,  90,  91,\n",
       "        92,  93,  94,  95,  96,  97,  98,  99, 100, 101, 102, 103, 104,\n",
       "       105, 106, 107, 108, 109, 110, 111, 112, 113, 114, 115, 116, 117,\n",
       "       118, 119, 120, 121, 122, 123, 124, 125, 126, 127, 128, 129, 130,\n",
       "       131, 132, 133, 134, 135, 136, 137, 138, 139, 140, 141, 142, 143,\n",
       "       144, 145, 146, 147, 148, 149, 150, 151, 152, 153, 154, 155, 156,\n",
       "       157, 158, 159, 160, 161, 162, 163, 164, 165, 166, 167, 168, 169,\n",
       "       170, 171, 172, 173, 174, 175, 176, 177, 178, 179, 180, 181, 182,\n",
       "       183, 184, 185, 186, 187, 188, 189, 190, 191, 192, 193, 194, 195,\n",
       "       196, 197, 198, 199, 200, 201, 202, 203, 204, 205, 206, 207, 208,\n",
       "       209, 210, 211, 212, 213, 214, 215, 216, 217, 218, 219, 220, 221,\n",
       "       222, 223, 224, 225, 226, 227, 228, 229, 230, 231, 232, 233, 234,\n",
       "       235, 236, 237, 238, 239, 240, 241, 242, 243, 244, 245, 246, 247,\n",
       "       248, 249, 250, 251, 252, 253, 254, 255, 256, 257, 258, 259, 260,\n",
       "       261, 262, 263, 264, 265, 266, 267, 268, 269, 270, 271, 272, 273,\n",
       "       274, 275, 276, 277, 278, 279, 280, 281, 282, 283, 284, 285, 286,\n",
       "       287, 288, 289, 290, 291, 292, 293, 294, 295, 296, 297, 298, 299,\n",
       "       300, 301, 302, 303, 304, 305, 306, 307, 308, 309, 310, 311, 312,\n",
       "       313, 314, 315, 316, 317, 318, 319, 320, 321, 322, 323, 324, 325,\n",
       "       326, 327, 328, 329, 330, 331, 332, 333, 334, 335, 336, 337, 338,\n",
       "       339, 340, 341, 342, 343, 344, 345, 346, 347, 348, 349, 350, 351,\n",
       "       352, 353, 354, 355, 356, 357, 358, 359, 360, 361, 362, 363, 364,\n",
       "       365, 366, 367, 368, 369, 370, 371, 372, 373, 374, 375, 376, 377,\n",
       "       378, 379, 380, 381, 382, 383, 384, 385, 386, 387, 388, 389, 390,\n",
       "       391, 392, 393, 394, 395, 396, 397, 398, 399, 400, 401, 402, 403,\n",
       "       404, 405, 406, 407, 408, 409, 410, 411, 412, 413, 414, 415, 416,\n",
       "       417, 418, 419, 420, 421, 422, 423, 424, 425, 426, 427, 428, 429,\n",
       "       430, 431, 432, 433, 434, 435, 436, 437, 438, 439, 440, 441, 442,\n",
       "       443, 444, 445, 446, 447, 449, 450, 451, 452, 453, 454, 455, 456,\n",
       "       457, 459, 460, 461, 462, 463, 464, 465, 466, 467, 468, 469, 470,\n",
       "       471, 472, 473, 475, 476, 477, 478, 479, 480, 481, 482, 483, 484,\n",
       "       485, 486, 487, 488, 489, 491, 492, 493, 494, 495, 496, 497, 498,\n",
       "       499, 500, 502, 504, 505, 506, 508, 511, 513, 514, 516, 517, 518,\n",
       "       519, 520, 521, 523, 524, 525, 527, 528, 529, 530, 531, 532, 533,\n",
       "       536, 537, 538, 539, 540, 541, 543, 544, 545, 546, 547, 548, 550,\n",
       "       551, 552, 553, 554, 555, 556, 557, 558, 559, 562, 563, 564, 565,\n",
       "       566, 567, 568, 569, 570, 571, 572, 576, 578, 579, 582, 584, 585,\n",
       "       586, 587, 588, 589, 590, 591, 593, 594, 595, 596, 598, 599, 600,\n",
       "       601, 604, 607, 608, 609, 611, 614, 620, 621, 625, 628, 638, 651])"
      ]
     },
     "execution_count": 8,
     "metadata": {},
     "output_type": "execute_result"
    }
   ],
   "source": [
    "np.unique(bikes['cnt'])"
   ]
  },
  {
   "cell_type": "code",
   "execution_count": 9,
   "metadata": {},
   "outputs": [
    {
     "data": {
      "image/png": "[encoded data removed]",
      "text/plain": [
       "<Figure size 432x288 with 1 Axes>"
      ]
     },
     "metadata": {
      "needs_background": "light"
     },
     "output_type": "display_data"
    }
   ],
   "source": [
    "binblock=np.arange(0, 1000, 30)\n",
    "plt.hist(bikes['cnt'], bins = binblock, rwidth=0.9)\n",
    "plt.title(\"histogram\")\n",
    "plt.show()"
   ]
  },
  {
   "cell_type": "code",
   "execution_count": 10,
   "metadata": {},
   "outputs": [
    {
     "data": {
      "image/png": "[encoded data removed]",
      "text/plain": [
       "<Figure size 432x288 with 1 Axes>"
      ]
     },
     "metadata": {
      "needs_background": "light"
     },
     "output_type": "display_data"
    }
   ],
   "source": [
    "np.unique(bikes['season'])\n",
    "binblock=np.arange(-0.5, 5, 1)\n",
    "plt.hist(bikes['season'], bins = binblock, rwidth=0.9)\n",
    "plt.title(\"histogram\")\n",
    "plt.show()"
   ]
  },
  {
   "cell_type": "code",
   "execution_count": null,
   "metadata": {},
   "outputs": [],
   "source": [
    "np.unique(bikes['season'])\n",
    "binblock=np.arange(-0.5, 5, 1)\n",
    "plt.hist(bikes['season'], bins = binblock, rwidth=0.9)\n",
    "plt.title(\"histogram\")\n",
    "plt.show()"
   ]
  },
  {
   "cell_type": "code",
   "execution_count": 11,
   "metadata": {},
   "outputs": [
    {
     "data": {
      "image/png": "[encoded data removed]",
      "text/plain": [
       "<Figure size 432x288 with 1 Axes>"
      ]
     },
     "metadata": {
      "needs_background": "light"
     },
     "output_type": "display_data"
    }
   ],
   "source": [
    "np.unique(bikes['windspeed'])\n",
    "binblock=np.arange(-0.5, 2, 0.1)\n",
    "plt.hist(bikes['windspeed'], bins = binblock, rwidth=0.9)\n",
    "plt.title(\"histogram\")\n",
    "plt.show()"
   ]
  },
  {
   "cell_type": "code",
   "execution_count": 12,
   "metadata": {},
   "outputs": [
    {
     "data": {
      "image/png": "[encoded data removed]",
      "text/plain": [
       "<Figure size 432x288 with 1 Axes>"
      ]
     },
     "metadata": {
      "needs_background": "light"
     },
     "output_type": "display_data"
    }
   ],
   "source": [
    "binblock=np.arange(0, 1.5, 0.05)\n",
    "plt.hist(bikes['temp'], bins = binblock, rwidth=0.9)\n",
    "plt.title(\"histogram\")\n",
    "plt.show()"
   ]
  },
  {
   "cell_type": "markdown",
   "metadata": {},
   "source": [
    "# Data Visualization "
   ]
  },
  {
   "cell_type": "markdown",
   "metadata": {},
   "source": [
    "### Scatter Plots & Data Aggregation"
   ]
  },
  {
   "cell_type": "markdown",
   "metadata": {},
   "source": [
    "- ### Weekday"
   ]
  },
  {
   "cell_type": "code",
   "execution_count": 13,
   "metadata": {},
   "outputs": [
    {
     "data": {
      "image/png": "[encoded data removed]",
      "text/plain": [
       "<Figure size 432x288 with 1 Axes>"
      ]
     },
     "metadata": {
      "needs_background": "light"
     },
     "output_type": "display_data"
    }
   ],
   "source": [
    "plt.scatter(bikes['weekday'], bikes['cnt'])\n",
    "plt.title('Scatter plot')\n",
    "plt.show()"
   ]
  },
  {
   "cell_type": "code",
   "execution_count": 14,
   "metadata": {},
   "outputs": [
    {
     "data": {
      "text/html": [
       "<div>\n",
       "<style scoped>\n",
       "    .dataframe tbody tr th:only-of-type {\n",
       "        vertical-align: middle;\n",
       "    }\n",
       "\n",
       "    .dataframe tbody tr th {\n",
       "        vertical-align: top;\n",
       "    }\n",
       "\n",
       "    .dataframe thead th {\n",
       "        text-align: right;\n",
       "    }\n",
       "</style>\n",
       "<table border=\"1\" class=\"dataframe\">\n",
       "  <thead>\n",
       "    <tr style=\"text-align: right;\">\n",
       "      <th></th>\n",
       "      <th>weekday</th>\n",
       "      <th>cnt</th>\n",
       "    </tr>\n",
       "  </thead>\n",
       "  <tbody>\n",
       "    <tr>\n",
       "      <td>0</td>\n",
       "      <td>0</td>\n",
       "      <td>143.845654</td>\n",
       "    </tr>\n",
       "    <tr>\n",
       "      <td>1</td>\n",
       "      <td>1</td>\n",
       "      <td>145.927935</td>\n",
       "    </tr>\n",
       "    <tr>\n",
       "      <td>2</td>\n",
       "      <td>2</td>\n",
       "      <td>147.576105</td>\n",
       "    </tr>\n",
       "    <tr>\n",
       "      <td>3</td>\n",
       "      <td>3</td>\n",
       "      <td>137.647681</td>\n",
       "    </tr>\n",
       "    <tr>\n",
       "      <td>4</td>\n",
       "      <td>4</td>\n",
       "      <td>142.491429</td>\n",
       "    </tr>\n",
       "    <tr>\n",
       "      <td>5</td>\n",
       "      <td>5</td>\n",
       "      <td>146.897498</td>\n",
       "    </tr>\n",
       "    <tr>\n",
       "      <td>6</td>\n",
       "      <td>6</td>\n",
       "      <td>142.201741</td>\n",
       "    </tr>\n",
       "  </tbody>\n",
       "</table>\n",
       "</div>"
      ],
      "text/plain": [
       "   weekday         cnt\n",
       "0        0  143.845654\n",
       "1        1  145.927935\n",
       "2        2  147.576105\n",
       "3        3  137.647681\n",
       "4        4  142.491429\n",
       "5        5  146.897498\n",
       "6        6  142.201741"
      ]
     },
     "execution_count": 14,
     "metadata": {},
     "output_type": "execute_result"
    }
   ],
   "source": [
    "bikes_weekday=bikes[['cnt','weekday']].groupby('weekday').mean().reset_index()\n",
    "bikes_weekday"
   ]
  },
  {
   "cell_type": "code",
   "execution_count": 15,
   "metadata": {},
   "outputs": [
    {
     "data": {
      "image/png": "[encoded data removed]",
      "text/plain": [
       "<Figure size 432x288 with 1 Axes>"
      ]
     },
     "metadata": {
      "needs_background": "light"
     },
     "output_type": "display_data"
    }
   ],
   "source": [
    "plt.scatter(bikes_weekday['weekday'], bikes_weekday['cnt'])\n",
    "plt.title('Scatter plot')\n",
    "plt.show()"
   ]
  },
  {
   "cell_type": "markdown",
   "metadata": {},
   "source": [
    "- ### Weathersit"
   ]
  },
  {
   "cell_type": "code",
   "execution_count": 16,
   "metadata": {},
   "outputs": [
    {
     "data": {
      "image/png": "[encoded data removed]",
      "text/plain": [
       "<Figure size 432x288 with 1 Axes>"
      ]
     },
     "metadata": {
      "needs_background": "light"
     },
     "output_type": "display_data"
    }
   ],
   "source": [
    "plt.scatter(bikes['weathersit'], bikes['cnt'])\n",
    "plt.title('Scatter plot')\n",
    "plt.show()"
   ]
  },
  {
   "cell_type": "code",
   "execution_count": 17,
   "metadata": {},
   "outputs": [
    {
     "data": {
      "image/png": "[encoded data removed]",
      "text/plain": [
       "<Figure size 432x288 with 1 Axes>"
      ]
     },
     "metadata": {
      "needs_background": "light"
     },
     "output_type": "display_data"
    }
   ],
   "source": [
    "bikes_weekday=bikes[['cnt','weathersit']].groupby('weathersit').mean().reset_index()\n",
    "plt.scatter(bikes_weekday['weathersit'], bikes_weekday['cnt'])\n",
    "plt.title('Scatter plot')\n",
    "plt.show()"
   ]
  },
  {
   "cell_type": "code",
   "execution_count": null,
   "metadata": {},
   "outputs": [],
   "source": [
    "bikes_weekday=bikes[['cnt','weathersit']].groupby('weathersit').mean().reset_index()\n",
    "plt.scatter(bikes_weekday['weathersit'], bikes_weekday['cnt'])\n",
    "plt.title('Scatter plot')\n",
    "plt.show()"
   ]
  },
  {
   "cell_type": "markdown",
   "metadata": {},
   "source": [
    "- ### Holiday"
   ]
  },
  {
   "cell_type": "code",
   "execution_count": 18,
   "metadata": {},
   "outputs": [
    {
     "data": {
      "image/png": "[encoded data removed]",
      "text/plain": [
       "<Figure size 432x288 with 1 Axes>"
      ]
     },
     "metadata": {
      "needs_background": "light"
     },
     "output_type": "display_data"
    }
   ],
   "source": [
    "bikes_weekday=bikes[['cnt','holiday']].groupby('holiday').mean().reset_index()\n",
    "plt.scatter(bikes_weekday['holiday'], bikes_weekday['cnt'])\n",
    "plt.title('holiday')\n",
    "plt.show()"
   ]
  },
  {
   "cell_type": "code",
   "execution_count": 19,
   "metadata": {},
   "outputs": [
    {
     "data": {
      "image/png": "[encoded data removed]",
      "text/plain": [
       "<Figure size 432x288 with 1 Axes>"
      ]
     },
     "metadata": {
      "needs_background": "light"
     },
     "output_type": "display_data"
    }
   ],
   "source": [
    "bikes_weekday=bikes[['casual','holiday']].groupby('holiday').mean().reset_index()\n",
    "plt.scatter(bikes_weekday['holiday'], bikes_weekday['casual'])\n",
    "plt.title('holiday')\n",
    "plt.show()"
   ]
  },
  {
   "cell_type": "markdown",
   "metadata": {},
   "source": [
    "- ### Workingday"
   ]
  },
  {
   "cell_type": "code",
   "execution_count": 20,
   "metadata": {},
   "outputs": [
    {
     "data": {
      "image/png": "[encoded data removed]",
      "text/plain": [
       "<Figure size 432x288 with 1 Axes>"
      ]
     },
     "metadata": {
      "needs_background": "light"
     },
     "output_type": "display_data"
    }
   ],
   "source": [
    "bikes_weekday=bikes[['cnt','workingday']].groupby('workingday').mean().reset_index()\n",
    "plt.scatter(bikes_weekday['workingday'], bikes_weekday['cnt'])\n",
    "plt.title('workingday')\n",
    "plt.show()"
   ]
  },
  {
   "cell_type": "markdown",
   "metadata": {},
   "source": [
    "- ### temp"
   ]
  },
  {
   "cell_type": "code",
   "execution_count": 21,
   "metadata": {},
   "outputs": [
    {
     "data": {
      "image/png": "[encoded data removed]",
      "text/plain": [
       "<Figure size 432x288 with 1 Axes>"
      ]
     },
     "metadata": {
      "needs_background": "light"
     },
     "output_type": "display_data"
    }
   ],
   "source": [
    "bikes_weekday=bikes[['cnt','temp']].groupby('temp').mean().reset_index()\n",
    "plt.scatter(bikes_weekday['temp'], bikes_weekday['cnt'])\n",
    "plt.title('temp')\n",
    "plt.show()"
   ]
  },
  {
   "cell_type": "markdown",
   "metadata": {},
   "source": [
    "## Modeling"
   ]
  },
  {
   "cell_type": "markdown",
   "metadata": {},
   "source": [
    "- ## First try"
   ]
  },
  {
   "cell_type": "code",
   "execution_count": null,
   "metadata": {},
   "outputs": [],
   "source": [
    "X=bikes[['season', 'mnth', 'day', 'hr', 'holiday', 'weekday', 'workingday',\n",
    "       'weathersit', 'temp', 'atemp', 'hum', 'windspeed']]\n",
    "y=bikes['cnt']\n",
    "\n",
    "X=sm.add_constant(X)"
   ]
  },
  {
   "cell_type": "code",
   "execution_count": null,
   "metadata": {},
   "outputs": [],
   "source": [
    "X"
   ]
  },
  {
   "cell_type": "code",
   "execution_count": null,
   "metadata": {},
   "outputs": [],
   "source": [
    "bike_model = sm.GLM(y, X, family=sm.families.Poisson()).fit()\n",
    "print (bike_model.summary())"
   ]
  },
  {
   "cell_type": "markdown",
   "metadata": {},
   "source": [
    "## Model Interpretation\n",
    "\n",
    "- #### How do you interpreting the $\\beta$s?\n",
    "- #### p-value and statistic significance"
   ]
  },
  {
   "cell_type": "code",
   "execution_count": null,
   "metadata": {},
   "outputs": [],
   "source": [
    "np.exp(np.dot(bike_model.params,X.iloc[0]))"
   ]
  },
  {
   "cell_type": "code",
   "execution_count": null,
   "metadata": {},
   "outputs": [],
   "source": [
    "bike_model.params"
   ]
  },
  {
   "cell_type": "code",
   "execution_count": null,
   "metadata": {},
   "outputs": [],
   "source": [
    "ypred1st=bike_model.predict(X)\n",
    "bikes['ypred1st']=ypred1st"
   ]
  },
  {
   "cell_type": "code",
   "execution_count": null,
   "metadata": {},
   "outputs": [],
   "source": [
    "bikes['ypred1st']"
   ]
  },
  {
   "cell_type": "code",
   "execution_count": null,
   "metadata": {},
   "outputs": [],
   "source": [
    "X[0:1]"
   ]
  },
  {
   "cell_type": "markdown",
   "metadata": {},
   "source": [
    "#### Interpreting $\\beta_{temp}=0.3238$"
   ]
  },
  {
   "cell_type": "code",
   "execution_count": null,
   "metadata": {},
   "outputs": [],
   "source": [
    "bikes.plot(x='temp', y=['cnt', 'ypred1st'], figsize=(10,5), grid=True, style=['o','rx'])\n",
    "plt.title('temp scatter')\n",
    "plt.show()"
   ]
  },
  {
   "cell_type": "code",
   "execution_count": null,
   "metadata": {},
   "outputs": [],
   "source": [
    "bikes_agg=bikes[['ypred1st','cnt', 'temp']].groupby('temp').mean().reset_index()\n",
    "\n",
    "bikes_agg.plot(x='temp', y=['cnt', 'ypred1st'], figsize=(10,5), grid=True, style=['o','rx'])\n",
    "plt.title('temp')\n",
    "plt.show()"
   ]
  },
  {
   "cell_type": "markdown",
   "metadata": {},
   "source": [
    "#### Interpreting $\\beta_{holiday}=-0.1220$"
   ]
  },
  {
   "cell_type": "code",
   "execution_count": null,
   "metadata": {},
   "outputs": [],
   "source": [
    "bikes.plot(x='holiday', y=['cnt', 'ypred1st'], figsize=(10,5), grid=True, style=['o','rx'])\n",
    "plt.title('holiday scatter')\n",
    "plt.xlim([-0.5,1.5])\n",
    "plt.show()"
   ]
  },
  {
   "cell_type": "code",
   "execution_count": null,
   "metadata": {},
   "outputs": [],
   "source": [
    "bikes_agg=bikes[['ypred1st','cnt', 'holiday']].groupby('holiday').mean().reset_index()\n",
    "bikes_agg.plot(x='holiday', y=['cnt', 'ypred1st'], figsize=(10,5), grid=True, style=['o','rx'])\n",
    "plt.xlim([-0.5,1.5])\n",
    "plt.title('holiday')\n",
    "plt.show()"
   ]
  },
  {
   "cell_type": "markdown",
   "metadata": {},
   "source": [
    "#### Interpreting $\\beta_{mnth}=0.0573$"
   ]
  },
  {
   "cell_type": "code",
   "execution_count": null,
   "metadata": {},
   "outputs": [],
   "source": [
    "bikes_agg=bikes[['ypred1st','cnt', 'mnth']].groupby('mnth').mean().reset_index()\n",
    "bikes_agg.plot(x='mnth', y=['cnt', 'ypred1st'], figsize=(10,5), grid=True, style=['o','rx'])\n",
    "plt.xlim([-0.5,12.5])\n",
    "plt.title('mnth')\n",
    "plt.show()"
   ]
  },
  {
   "cell_type": "code",
   "execution_count": null,
   "metadata": {},
   "outputs": [],
   "source": [
    "bikes_agg=bikes[['ypred1st','cnt', 'weekday']].groupby('weekday').mean().reset_index()\n",
    "bikes_agg.plot(x='weekday', y=['cnt', 'ypred1st'], figsize=(10,5), grid=True, style=['o','rx'])\n",
    "plt.xlim([-0.5,12.5])\n",
    "plt.title('weekday')\n",
    "plt.show()"
   ]
  },
  {
   "cell_type": "markdown",
   "metadata": {},
   "source": [
    "## Second Try with Feature Engineering"
   ]
  },
  {
   "cell_type": "markdown",
   "metadata": {},
   "source": [
    "- ### Polynomial transformation"
   ]
  },
  {
   "cell_type": "code",
   "execution_count": null,
   "metadata": {},
   "outputs": [],
   "source": [
    "bikes['tempsquare']=np.power(bikes['temp'], 6)"
   ]
  },
  {
   "cell_type": "code",
   "execution_count": null,
   "metadata": {},
   "outputs": [],
   "source": [
    "X=bikes[['season', 'mnth', 'day', 'hr', 'holiday', 'weekday', 'workingday',\n",
    "       'weathersit', 'temp', 'atemp', 'hum', 'windspeed', 'tempsquare']]\n",
    "y=bikes['cnt']"
   ]
  },
  {
   "cell_type": "code",
   "execution_count": null,
   "metadata": {},
   "outputs": [],
   "source": [
    "X=sm.add_constant(X)\n",
    "bike_model2 = sm.GLM(y, X, family=sm.families.Poisson()).fit()\n",
    "print (bike_model2.summary())"
   ]
  },
  {
   "cell_type": "code",
   "execution_count": null,
   "metadata": {},
   "outputs": [],
   "source": [
    "ypred2nd=bike_model2.predict(X)\n",
    "bikes['ypred2nd']=ypred2nd"
   ]
  },
  {
   "cell_type": "code",
   "execution_count": null,
   "metadata": {},
   "outputs": [],
   "source": [
    "bikes_agg=bikes[['ypred2nd','cnt', 'temp']].groupby('temp').mean().reset_index()\n",
    "\n",
    "bikes_agg.plot(x='temp', y=['cnt', 'ypred2nd'], figsize=(10,5), grid=True, style=['o','rx'])\n",
    "plt.title('temp')\n",
    "plt.show()"
   ]
  },
  {
   "cell_type": "code",
   "execution_count": null,
   "metadata": {},
   "outputs": [],
   "source": [
    "bikes_agg=bikes[['ypred2nd','cnt', 'weekday']].groupby('weekday').mean().reset_index()\n",
    "bikes_agg.plot(x='weekday', y=['cnt', 'ypred2nd'], figsize=(10,5), grid=True, style=['o','rx'])\n",
    "plt.title('weekday')\n",
    "plt.show()"
   ]
  },
  {
   "cell_type": "markdown",
   "metadata": {},
   "source": [
    "- ### One Hot Encoding"
   ]
  },
  {
   "cell_type": "code",
   "execution_count": null,
   "metadata": {},
   "outputs": [],
   "source": [
    "bikes.columns"
   ]
  },
  {
   "cell_type": "code",
   "execution_count": null,
   "metadata": {},
   "outputs": [],
   "source": [
    "bikes['weekdaystr']=bikes['weekday'].astype(str)"
   ]
  },
  {
   "cell_type": "code",
   "execution_count": null,
   "metadata": {},
   "outputs": [],
   "source": [
    "one_hot = pd.get_dummies(bikes['weekdaystr'])"
   ]
  },
  {
   "cell_type": "code",
   "execution_count": null,
   "metadata": {},
   "outputs": [],
   "source": [
    "bikes = bikes.drop('weekdaystr',axis = 1)\n",
    "bikes = bikes.join(one_hot)"
   ]
  },
  {
   "cell_type": "code",
   "execution_count": null,
   "metadata": {},
   "outputs": [],
   "source": [
    "bikes"
   ]
  },
  {
   "cell_type": "code",
   "execution_count": null,
   "metadata": {},
   "outputs": [],
   "source": [
    "X=bikes[['season', 'mnth', 'day', 'hr', 'holiday', 'workingday', 'weathersit',\n",
    "       'temp', 'atemp', 'hum', 'windspeed', 'tempsquare', '0',\n",
    "       '1', '2', '3', '4', '5', '6']]\n",
    "y=bikes['cnt']\n",
    "X=sm.add_constant(X)\n",
    "bike_model3 = sm.GLM(y, X, family=sm.families.Poisson()).fit()\n",
    "print (bike_model3.summary())"
   ]
  },
  {
   "cell_type": "code",
   "execution_count": null,
   "metadata": {},
   "outputs": [],
   "source": [
    "ypred3rd=bike_model3.predict(X)\n",
    "bikes['ypred3rd']=ypred3rd"
   ]
  },
  {
   "cell_type": "code",
   "execution_count": null,
   "metadata": {},
   "outputs": [],
   "source": [
    "bikes_agg=bikes[['ypred3rd','cnt', 'weekday']].groupby('weekday').mean().reset_index()\n",
    "bikes_agg.plot(x='weekday', y=['cnt', 'ypred3rd'], figsize=(10,5), grid=True, style=['o','rx'])\n",
    "plt.title('weekday')\n",
    "plt.show()"
   ]
  },
  {
   "cell_type": "code",
   "execution_count": null,
   "metadata": {},
   "outputs": [],
   "source": [
    "bikes_agg=bikes[['ypred2nd','cnt', 'weekday']].groupby('weekday').mean().reset_index()\n",
    "bikes_agg.plot(x='weekday', y=['cnt', 'ypred2nd'], figsize=(10,5), grid=True, style=['o','rx'])\n",
    "plt.title('weekday')\n",
    "plt.show()"
   ]
  },
  {
   "cell_type": "code",
   "execution_count": null,
   "metadata": {},
   "outputs": [],
   "source": [
    "bikes_agg=bikes[['ypred3rd','cnt', 'temp']].groupby('temp').mean().reset_index()\n",
    "bikes_agg.plot(x='temp', y=['cnt', 'ypred3rd'], figsize=(10,5), grid=True, style=['o','rx'])\n",
    "plt.title('temp')\n",
    "plt.show()"
   ]
  },
  {
   "cell_type": "markdown",
   "metadata": {},
   "source": [
    "## Model Evaulation"
   ]
  },
  {
   "cell_type": "markdown",
   "metadata": {},
   "source": [
    "- ### Log likelihood\n",
    "\n",
    "$\\log f(y_i, \\theta_i, \\phi)=y_i \\log(\\lambda_i)-\\lambda_i-log(y_i!)$\n",
    "\n",
    "Using Stirling's formula to approximate $log(y_i!)=y_ilog(y_i)-y_i$\n",
    "\n",
    "$\\log f(y_i, \\theta_i, \\phi)=y_i \\log(\\lambda_i)-y_ilog(y_i)+y_i-\\lambda_i$"
   ]
  },
  {
   "cell_type": "code",
   "execution_count": null,
   "metadata": {},
   "outputs": [],
   "source": [
    "from scipy.special import gamma, factorial\n",
    "facsum=0\n",
    "for i in y:\n",
    "    if np.isinf(factorial(i)):\n",
    "        facsum+=i*np.log(i)-i\n",
    "    else:\n",
    "        facsum+=np.log(factorial(i))\n",
    "\n",
    "np.dot(y, np.log(bikes[\"ypred1st\"]))-np.sum(bikes[\"ypred1st\"])-facsum"
   ]
  },
  {
   "cell_type": "code",
   "execution_count": null,
   "metadata": {},
   "outputs": [],
   "source": [
    "np.dot(y, np.log(bikes[\"ypred1st\"]))-np.dot(y, np.log(y))+np.sum(y)-np.sum(bikes[\"ypred1st\"])"
   ]
  },
  {
   "cell_type": "code",
   "execution_count": null,
   "metadata": {},
   "outputs": [],
   "source": [
    "bike_model.llf"
   ]
  },
  {
   "cell_type": "code",
   "execution_count": null,
   "metadata": {},
   "outputs": [],
   "source": [
    "bike_model2.llf"
   ]
  },
  {
   "cell_type": "code",
   "execution_count": null,
   "metadata": {},
   "outputs": [],
   "source": [
    "bike_model3.llf"
   ]
  },
  {
   "cell_type": "code",
   "execution_count": null,
   "metadata": {},
   "outputs": [],
   "source": [
    "bike_model.deviance"
   ]
  },
  {
   "cell_type": "code",
   "execution_count": null,
   "metadata": {},
   "outputs": [],
   "source": [
    "bike_model2.deviance"
   ]
  },
  {
   "cell_type": "code",
   "execution_count": null,
   "metadata": {},
   "outputs": [],
   "source": [
    "bike_model3.deviance"
   ]
  },
  {
   "cell_type": "markdown",
   "metadata": {},
   "source": [
    "- ### ${\\displaystyle \\mathrm {AIC} \\,=\\,2k-2log(L)}$"
   ]
  },
  {
   "cell_type": "code",
   "execution_count": null,
   "metadata": {},
   "outputs": [],
   "source": [
    "2*13-2*bike_model.llf"
   ]
  },
  {
   "cell_type": "code",
   "execution_count": null,
   "metadata": {},
   "outputs": [],
   "source": [
    "bike_model.aic"
   ]
  },
  {
   "cell_type": "code",
   "execution_count": null,
   "metadata": {},
   "outputs": [],
   "source": [
    "bike_model2.aic"
   ]
  },
  {
   "cell_type": "code",
   "execution_count": null,
   "metadata": {},
   "outputs": [],
   "source": [
    "bike_model3.aic"
   ]
  },
  {
   "cell_type": "markdown",
   "metadata": {},
   "source": [
    "## Cross Validation and Model Comparison"
   ]
  },
  {
   "cell_type": "code",
   "execution_count": null,
   "metadata": {},
   "outputs": [],
   "source": [
    "import numpy as np\n",
    "from sklearn.utils import shuffle\n",
    "bikes_shuffle=shuffle(bikes)"
   ]
  },
  {
   "cell_type": "code",
   "execution_count": null,
   "metadata": {},
   "outputs": [],
   "source": [
    "bikes.head(5)"
   ]
  },
  {
   "cell_type": "code",
   "execution_count": null,
   "metadata": {},
   "outputs": [],
   "source": [
    "bikes_shuffle.head(5)"
   ]
  },
  {
   "cell_type": "code",
   "execution_count": null,
   "metadata": {},
   "outputs": [],
   "source": [
    "X_shuffle=bikes_shuffle[['season', 'mnth', 'day', 'hr', 'holiday', 'workingday', 'weathersit',\n",
    "       'temp', 'atemp', 'hum', 'windspeed']]\n",
    "y_shuffle=bikes_shuffle['cnt']\n",
    "\n",
    "X_shuffle=bikes_shuffle[['season', 'mnth', 'day', 'hr', 'holiday', 'workingday', 'weathersit',\n",
    "       'temp', 'atemp', 'hum', 'windspeed', 'tempsquare', '0','1', '2', '3', '4', '5', '6']]"
   ]
  },
  {
   "cell_type": "code",
   "execution_count": null,
   "metadata": {},
   "outputs": [],
   "source": [
    "from sklearn.model_selection import KFold\n",
    "kf = KFold(n_splits=10)"
   ]
  },
  {
   "cell_type": "code",
   "execution_count": null,
   "metadata": {},
   "outputs": [],
   "source": [
    "for train, test in kf.split(X_shuffle):\n",
    "    print(\"%s %s\" % (train, test))"
   ]
  },
  {
   "cell_type": "code",
   "execution_count": null,
   "metadata": {},
   "outputs": [],
   "source": [
    "y_pred_cv= np.empty((0, 1))\n",
    "for train, test in kf.split(X_shuffle):\n",
    "    bike_modelcv = sm.GLM(y_shuffle.iloc[train], X_shuffle.iloc[train], family=sm.families.Poisson()).fit()\n",
    "    y_pred_cv=np.append(y_pred_cv,bike_modelcv.predict(X_shuffle.iloc[test]))"
   ]
  },
  {
   "cell_type": "code",
   "execution_count": null,
   "metadata": {},
   "outputs": [],
   "source": [
    "bikes_shuffle['y_pred_cv']=y_pred_cv"
   ]
  },
  {
   "cell_type": "code",
   "execution_count": null,
   "metadata": {},
   "outputs": [],
   "source": [
    "bikes_shuffle"
   ]
  },
  {
   "cell_type": "code",
   "execution_count": null,
   "metadata": {},
   "outputs": [],
   "source": [
    "bikes_agg=bikes_shuffle[['y_pred_cv','cnt', 'weekday']].groupby('weekday').mean().reset_index()\n",
    "bikes_agg.plot(x='weekday', y=['cnt', 'y_pred_cv'], figsize=(10,5), grid=True, style=['o','rx'])\n",
    "plt.title('weekday')\n",
    "plt.show()"
   ]
  },
  {
   "cell_type": "code",
   "execution_count": null,
   "metadata": {},
   "outputs": [],
   "source": [
    "np.dot(y_shuffle, np.log(bikes_shuffle[\"y_pred_cv\"]))-np.dot(y_shuffle, np.log(y_shuffle))+np.sum(y_shuffle)-np.sum(bikes_shuffle[\"y_pred_cv\"])"
   ]
  },
  {
   "cell_type": "code",
   "execution_count": null,
   "metadata": {},
   "outputs": [],
   "source": [
    "np.dot(y, np.log(bikes[\"ypred3rd\"]))-np.dot(y, np.log(y))+np.sum(y)-np.sum(bikes[\"ypred3rd\"])"
   ]
  },
  {
   "cell_type": "code",
   "execution_count": null,
   "metadata": {},
   "outputs": [],
   "source": [
    "bike_model3.llf"
   ]
  },
  {
   "cell_type": "code",
   "execution_count": null,
   "metadata": {},
   "outputs": [],
   "source": []
  }
 ],
 "metadata": {
  "kernelspec": {
   "display_name": "Python 3",
   "language": "python",
   "name": "python3"
  },
  "language_info": {
   "codemirror_mode": {
    "name": "ipython",
    "version": 3
   },
   "file_extension": ".py",
   "mimetype": "text/x-python",
   "name": "python",
   "nbconvert_exporter": "python",
   "pygments_lexer": "ipython3",
   "version": "3.7.4"
  }
 },
 "nbformat": 4,
 "nbformat_minor": 2
}
