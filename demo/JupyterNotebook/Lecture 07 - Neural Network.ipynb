{
 "cells": [
  {
   "cell_type": "markdown",
   "metadata": {},
   "source": [
    "## Install tensorflow\n",
    "```pip install --upgrade pip```\n",
    "\n",
    "```pip install tensorflow```"
   ]
  },
  {
   "cell_type": "code",
   "execution_count": null,
   "metadata": {},
   "outputs": [],
   "source": [
    "import numpy as np\n",
    "import pandas as pd\n",
    "import tensorflow as tf\n",
    "from tensorflow.keras import layers\n",
    "from sklearn.metrics import roc_auc_score, accuracy_score"
   ]
  },
  {
   "cell_type": "code",
   "execution_count": 3,
   "metadata": {},
   "outputs": [],
   "source": [
    "logData=pd.read_csv(\"./Data/logistic_regression_optimization.csv\")"
   ]
  },
  {
   "cell_type": "code",
   "execution_count": 4,
   "metadata": {},
   "outputs": [
    {
     "data": {
      "text/plain": [
       "Index(['# X1', ' X2', ' X3', ' Y'], dtype='object')"
      ]
     },
     "execution_count": 4,
     "metadata": {},
     "output_type": "execute_result"
    }
   ],
   "source": [
    "logData.columns"
   ]
  },
  {
   "cell_type": "code",
   "execution_count": 5,
   "metadata": {},
   "outputs": [],
   "source": [
    "x = logData.iloc[:, 0:-1].values \n",
    "y = logData.iloc[:, -1:].values "
   ]
  },
  {
   "cell_type": "code",
   "execution_count": 7,
   "metadata": {},
   "outputs": [
    {
     "data": {
      "text/plain": [
       "array([[1.],\n",
       "       [1.],\n",
       "       [0.],\n",
       "       ...,\n",
       "       [0.],\n",
       "       [0.],\n",
       "       [0.]])"
      ]
     },
     "execution_count": 7,
     "metadata": {},
     "output_type": "execute_result"
    }
   ],
   "source": [
    "y"
   ]
  },
  {
   "cell_type": "code",
   "execution_count": 8,
   "metadata": {},
   "outputs": [],
   "source": [
    "from sklearn.linear_model import LogisticRegression"
   ]
  },
  {
   "cell_type": "code",
   "execution_count": 9,
   "metadata": {},
   "outputs": [
    {
     "name": "stdout",
     "output_type": "stream",
     "text": [
      "[array([[3.83389295, 1.1991905 , 4.52605611]]), array([-4.92802048])]\n"
     ]
    },
    {
     "name": "stderr",
     "output_type": "stream",
     "text": [
      "/Users/dlai/venv/JupyterNotebook/lib/python3.7/site-packages/sklearn/utils/validation.py:724: DataConversionWarning: A column-vector y was passed when a 1d array was expected. Please change the shape of y to (n_samples, ), for example using ravel().\n",
      "  y = column_or_1d(y, warn=True)\n"
     ]
    }
   ],
   "source": [
    "clf = LogisticRegression(penalty='none', solver='lbfgs').fit(x, y)\n",
    "print([clf.coef_, clf.intercept_])"
   ]
  },
  {
   "cell_type": "markdown",
   "metadata": {},
   "source": [
    "## Logistic regression with a single neuron Neural Network"
   ]
  },
  {
   "cell_type": "code",
   "execution_count": 22,
   "metadata": {},
   "outputs": [],
   "source": [
    "model = tf.keras.Sequential()\n",
    "model.add(layers.Dense(1, input_shape=(3,),use_bias=True, activation='sigmoid'))"
   ]
  },
  {
   "cell_type": "code",
   "execution_count": 23,
   "metadata": {},
   "outputs": [],
   "source": [
    "model.compile(optimizer=tf.keras.optimizers.Adam(0.01),\n",
    "              loss='binary_crossentropy', metrics=['accuracy'])"
   ]
  },
  {
   "cell_type": "code",
   "execution_count": 24,
   "metadata": {},
   "outputs": [
    {
     "name": "stdout",
     "output_type": "stream",
     "text": [
      "Train on 4000 samples, validate on 1000 samples\n",
      "Epoch 1/200\n",
      "4000/4000 [==============================] - 1s 181us/sample - loss: 0.8097 - accuracy: 0.6568 - val_loss: 0.4685 - val_accuracy: 0.7660\n",
      "Epoch 2/200\n",
      "4000/4000 [==============================] - 0s 42us/sample - loss: 0.3683 - accuracy: 0.8525 - val_loss: 0.2830 - val_accuracy: 0.9190\n",
      "Epoch 3/200\n",
      "4000/4000 [==============================] - 0s 52us/sample - loss: 0.2594 - accuracy: 0.9310 - val_loss: 0.2223 - val_accuracy: 0.9500\n",
      "Epoch 4/200\n",
      "4000/4000 [==============================] - 0s 61us/sample - loss: 0.2158 - accuracy: 0.9433 - val_loss: 0.1900 - val_accuracy: 0.9590\n",
      "Epoch 5/200\n",
      "4000/4000 [==============================] - 0s 61us/sample - loss: 0.1913 - accuracy: 0.9470 - val_loss: 0.1704 - val_accuracy: 0.9590\n",
      "Epoch 6/200\n",
      "4000/4000 [==============================] - 0s 62us/sample - loss: 0.1752 - accuracy: 0.9492 - val_loss: 0.1565 - val_accuracy: 0.9620\n",
      "Epoch 7/200\n",
      "4000/4000 [==============================] - 0s 60us/sample - loss: 0.1640 - accuracy: 0.9490 - val_loss: 0.1464 - val_accuracy: 0.9620\n",
      "Epoch 8/200\n",
      "4000/4000 [==============================] - 0s 71us/sample - loss: 0.1553 - accuracy: 0.9492 - val_loss: 0.1391 - val_accuracy: 0.9650\n",
      "Epoch 9/200\n",
      "4000/4000 [==============================] - 0s 62us/sample - loss: 0.1489 - accuracy: 0.9480 - val_loss: 0.1329 - val_accuracy: 0.9650\n",
      "Epoch 10/200\n",
      "4000/4000 [==============================] - 0s 64us/sample - loss: 0.1436 - accuracy: 0.9490 - val_loss: 0.1271 - val_accuracy: 0.9650\n",
      "Epoch 11/200\n",
      "4000/4000 [==============================] - 0s 40us/sample - loss: 0.1394 - accuracy: 0.9495 - val_loss: 0.1228 - val_accuracy: 0.9650\n",
      "Epoch 12/200\n",
      "4000/4000 [==============================] - 0s 39us/sample - loss: 0.1360 - accuracy: 0.9495 - val_loss: 0.1194 - val_accuracy: 0.9660\n",
      "Epoch 13/200\n",
      "4000/4000 [==============================] - 0s 41us/sample - loss: 0.1330 - accuracy: 0.9488 - val_loss: 0.1159 - val_accuracy: 0.9640\n",
      "Epoch 14/200\n",
      "4000/4000 [==============================] - 0s 52us/sample - loss: 0.1306 - accuracy: 0.9490 - val_loss: 0.1138 - val_accuracy: 0.9670\n",
      "Epoch 15/200\n",
      "4000/4000 [==============================] - 0s 43us/sample - loss: 0.1284 - accuracy: 0.9488 - val_loss: 0.1117 - val_accuracy: 0.9670\n",
      "Epoch 16/200\n",
      "4000/4000 [==============================] - 0s 41us/sample - loss: 0.1267 - accuracy: 0.9500 - val_loss: 0.1092 - val_accuracy: 0.9660\n",
      "Epoch 17/200\n",
      "4000/4000 [==============================] - 0s 40us/sample - loss: 0.1250 - accuracy: 0.9488 - val_loss: 0.1072 - val_accuracy: 0.9660\n",
      "Epoch 18/200\n",
      "4000/4000 [==============================] - 0s 41us/sample - loss: 0.1238 - accuracy: 0.9505 - val_loss: 0.1067 - val_accuracy: 0.9650\n",
      "Epoch 19/200\n",
      "4000/4000 [==============================] - 0s 41us/sample - loss: 0.1225 - accuracy: 0.9492 - val_loss: 0.1049 - val_accuracy: 0.9670\n",
      "Epoch 20/200\n",
      "4000/4000 [==============================] - 0s 41us/sample - loss: 0.1214 - accuracy: 0.9488 - val_loss: 0.1045 - val_accuracy: 0.9650\n",
      "Epoch 21/200\n",
      "4000/4000 [==============================] - 0s 41us/sample - loss: 0.1208 - accuracy: 0.9488 - val_loss: 0.1024 - val_accuracy: 0.9670\n",
      "Epoch 22/200\n",
      "4000/4000 [==============================] - 0s 41us/sample - loss: 0.1197 - accuracy: 0.9492 - val_loss: 0.1015 - val_accuracy: 0.9660\n",
      "Epoch 23/200\n",
      "4000/4000 [==============================] - 0s 41us/sample - loss: 0.1191 - accuracy: 0.9490 - val_loss: 0.0999 - val_accuracy: 0.9670\n",
      "Epoch 24/200\n",
      "4000/4000 [==============================] - 0s 40us/sample - loss: 0.1183 - accuracy: 0.9498 - val_loss: 0.0992 - val_accuracy: 0.9660\n",
      "Epoch 25/200\n",
      "4000/4000 [==============================] - 0s 44us/sample - loss: 0.1180 - accuracy: 0.9485 - val_loss: 0.0986 - val_accuracy: 0.9670\n",
      "Epoch 26/200\n",
      "4000/4000 [==============================] - 0s 69us/sample - loss: 0.1175 - accuracy: 0.9492 - val_loss: 0.0979 - val_accuracy: 0.9670\n",
      "Epoch 27/200\n",
      "4000/4000 [==============================] - 0s 70us/sample - loss: 0.1169 - accuracy: 0.9490 - val_loss: 0.0972 - val_accuracy: 0.9660\n",
      "Epoch 28/200\n",
      "4000/4000 [==============================] - 0s 59us/sample - loss: 0.1165 - accuracy: 0.9503 - val_loss: 0.0964 - val_accuracy: 0.9670\n",
      "Epoch 29/200\n",
      "4000/4000 [==============================] - 0s 54us/sample - loss: 0.1164 - accuracy: 0.9477 - val_loss: 0.0960 - val_accuracy: 0.9670\n",
      "Epoch 30/200\n",
      "4000/4000 [==============================] - 0s 43us/sample - loss: 0.1159 - accuracy: 0.9505 - val_loss: 0.0957 - val_accuracy: 0.9680\n",
      "Epoch 31/200\n",
      "4000/4000 [==============================] - 0s 45us/sample - loss: 0.1159 - accuracy: 0.9510 - val_loss: 0.0958 - val_accuracy: 0.9670\n",
      "Epoch 32/200\n",
      "4000/4000 [==============================] - 0s 65us/sample - loss: 0.1151 - accuracy: 0.9498 - val_loss: 0.0948 - val_accuracy: 0.9680\n",
      "Epoch 33/200\n",
      "4000/4000 [==============================] - 0s 54us/sample - loss: 0.1149 - accuracy: 0.9503 - val_loss: 0.0944 - val_accuracy: 0.9670\n",
      "Epoch 34/200\n",
      "4000/4000 [==============================] - 0s 61us/sample - loss: 0.1147 - accuracy: 0.9492 - val_loss: 0.0953 - val_accuracy: 0.9660\n",
      "Epoch 35/200\n",
      "4000/4000 [==============================] - 0s 68us/sample - loss: 0.1143 - accuracy: 0.9517 - val_loss: 0.0937 - val_accuracy: 0.9660\n",
      "Epoch 36/200\n",
      "4000/4000 [==============================] - 0s 64us/sample - loss: 0.1145 - accuracy: 0.9480 - val_loss: 0.0936 - val_accuracy: 0.9660\n",
      "Epoch 37/200\n",
      "4000/4000 [==============================] - 0s 48us/sample - loss: 0.1141 - accuracy: 0.9498 - val_loss: 0.0933 - val_accuracy: 0.9670\n",
      "Epoch 38/200\n",
      "4000/4000 [==============================] - 0s 66us/sample - loss: 0.1140 - accuracy: 0.9507 - val_loss: 0.0936 - val_accuracy: 0.9660\n",
      "Epoch 39/200\n",
      "4000/4000 [==============================] - 0s 59us/sample - loss: 0.1140 - accuracy: 0.9517 - val_loss: 0.0927 - val_accuracy: 0.9680\n",
      "Epoch 40/200\n",
      "4000/4000 [==============================] - 0s 55us/sample - loss: 0.1142 - accuracy: 0.9492 - val_loss: 0.0926 - val_accuracy: 0.9670\n",
      "Epoch 41/200\n",
      "4000/4000 [==============================] - 0s 36us/sample - loss: 0.1135 - accuracy: 0.9515 - val_loss: 0.0949 - val_accuracy: 0.9640\n",
      "Epoch 42/200\n",
      "4000/4000 [==============================] - 0s 64us/sample - loss: 0.1141 - accuracy: 0.9510 - val_loss: 0.0922 - val_accuracy: 0.9680\n",
      "Epoch 43/200\n",
      "4000/4000 [==============================] - 0s 54us/sample - loss: 0.1136 - accuracy: 0.9480 - val_loss: 0.0920 - val_accuracy: 0.9680\n",
      "Epoch 44/200\n",
      "4000/4000 [==============================] - 0s 41us/sample - loss: 0.1139 - accuracy: 0.9498 - val_loss: 0.0920 - val_accuracy: 0.9670\n",
      "Epoch 45/200\n",
      "4000/4000 [==============================] - 0s 52us/sample - loss: 0.1138 - accuracy: 0.9498 - val_loss: 0.0921 - val_accuracy: 0.9680\n",
      "Epoch 46/200\n",
      "4000/4000 [==============================] - 0s 51us/sample - loss: 0.1131 - accuracy: 0.9488 - val_loss: 0.0913 - val_accuracy: 0.9670\n",
      "Epoch 47/200\n",
      "4000/4000 [==============================] - 0s 60us/sample - loss: 0.1136 - accuracy: 0.9498 - val_loss: 0.0919 - val_accuracy: 0.9650\n",
      "Epoch 48/200\n",
      "4000/4000 [==============================] - 0s 62us/sample - loss: 0.1133 - accuracy: 0.9498 - val_loss: 0.0917 - val_accuracy: 0.9680\n",
      "Epoch 49/200\n",
      "4000/4000 [==============================] - 0s 52us/sample - loss: 0.1131 - accuracy: 0.9495 - val_loss: 0.0910 - val_accuracy: 0.9670\n",
      "Epoch 50/200\n",
      "4000/4000 [==============================] - 0s 60us/sample - loss: 0.1132 - accuracy: 0.9488 - val_loss: 0.0912 - val_accuracy: 0.9670\n",
      "Epoch 51/200\n",
      "4000/4000 [==============================] - 0s 56us/sample - loss: 0.1130 - accuracy: 0.9482 - val_loss: 0.0921 - val_accuracy: 0.9660\n",
      "Epoch 52/200\n",
      "4000/4000 [==============================] - 0s 56us/sample - loss: 0.1133 - accuracy: 0.9488 - val_loss: 0.0909 - val_accuracy: 0.9670\n",
      "Epoch 53/200\n",
      "4000/4000 [==============================] - 0s 50us/sample - loss: 0.1129 - accuracy: 0.9492 - val_loss: 0.0907 - val_accuracy: 0.9660\n",
      "Epoch 54/200\n",
      "4000/4000 [==============================] - 0s 42us/sample - loss: 0.1130 - accuracy: 0.9488 - val_loss: 0.0911 - val_accuracy: 0.9650\n",
      "Epoch 55/200\n",
      "4000/4000 [==============================] - 0s 58us/sample - loss: 0.1131 - accuracy: 0.9495 - val_loss: 0.0905 - val_accuracy: 0.9670\n"
     ]
    },
    {
     "name": "stdout",
     "output_type": "stream",
     "text": [
      "Epoch 56/200\n",
      "4000/4000 [==============================] - 0s 57us/sample - loss: 0.1129 - accuracy: 0.9492 - val_loss: 0.0906 - val_accuracy: 0.9670\n",
      "Epoch 57/200\n",
      "4000/4000 [==============================] - 0s 51us/sample - loss: 0.1128 - accuracy: 0.9498 - val_loss: 0.0912 - val_accuracy: 0.9660\n",
      "Epoch 58/200\n",
      "4000/4000 [==============================] - 0s 53us/sample - loss: 0.1132 - accuracy: 0.9498 - val_loss: 0.0909 - val_accuracy: 0.9660\n",
      "Epoch 59/200\n",
      "4000/4000 [==============================] - 0s 36us/sample - loss: 0.1129 - accuracy: 0.9492 - val_loss: 0.0906 - val_accuracy: 0.9670\n",
      "Epoch 60/200\n",
      "4000/4000 [==============================] - 0s 45us/sample - loss: 0.1131 - accuracy: 0.9490 - val_loss: 0.0904 - val_accuracy: 0.9670\n",
      "Epoch 61/200\n",
      "4000/4000 [==============================] - 0s 60us/sample - loss: 0.1130 - accuracy: 0.9503 - val_loss: 0.0902 - val_accuracy: 0.9680\n",
      "Epoch 62/200\n",
      "4000/4000 [==============================] - 0s 63us/sample - loss: 0.1130 - accuracy: 0.9490 - val_loss: 0.0903 - val_accuracy: 0.9670\n",
      "Epoch 63/200\n",
      "4000/4000 [==============================] - 0s 38us/sample - loss: 0.1129 - accuracy: 0.9505 - val_loss: 0.0903 - val_accuracy: 0.9680\n",
      "Epoch 64/200\n",
      "4000/4000 [==============================] - 0s 39us/sample - loss: 0.1131 - accuracy: 0.9492 - val_loss: 0.0902 - val_accuracy: 0.9670\n",
      "Epoch 65/200\n",
      "4000/4000 [==============================] - 0s 41us/sample - loss: 0.1131 - accuracy: 0.9490 - val_loss: 0.0913 - val_accuracy: 0.9660\n",
      "Epoch 66/200\n",
      "4000/4000 [==============================] - 0s 44us/sample - loss: 0.1128 - accuracy: 0.9507 - val_loss: 0.0899 - val_accuracy: 0.9670\n",
      "Epoch 67/200\n",
      "4000/4000 [==============================] - 0s 42us/sample - loss: 0.1135 - accuracy: 0.9492 - val_loss: 0.0901 - val_accuracy: 0.9660\n",
      "Epoch 68/200\n",
      "4000/4000 [==============================] - 0s 57us/sample - loss: 0.1130 - accuracy: 0.9492 - val_loss: 0.0901 - val_accuracy: 0.9660\n",
      "Epoch 69/200\n",
      "4000/4000 [==============================] - 0s 39us/sample - loss: 0.1128 - accuracy: 0.9495 - val_loss: 0.0899 - val_accuracy: 0.9670\n",
      "Epoch 70/200\n",
      "4000/4000 [==============================] - 0s 44us/sample - loss: 0.1131 - accuracy: 0.9492 - val_loss: 0.0911 - val_accuracy: 0.9640\n",
      "Epoch 71/200\n",
      "4000/4000 [==============================] - 0s 43us/sample - loss: 0.1132 - accuracy: 0.9490 - val_loss: 0.0903 - val_accuracy: 0.9650\n",
      "Epoch 72/200\n",
      "4000/4000 [==============================] - 0s 54us/sample - loss: 0.1128 - accuracy: 0.9488 - val_loss: 0.0898 - val_accuracy: 0.9660\n",
      "Epoch 73/200\n",
      "4000/4000 [==============================] - 0s 42us/sample - loss: 0.1130 - accuracy: 0.9485 - val_loss: 0.0898 - val_accuracy: 0.9670\n",
      "Epoch 74/200\n",
      "4000/4000 [==============================] - 0s 40us/sample - loss: 0.1128 - accuracy: 0.9498 - val_loss: 0.0897 - val_accuracy: 0.9670\n",
      "Epoch 75/200\n",
      "4000/4000 [==============================] - 0s 71us/sample - loss: 0.1130 - accuracy: 0.9492 - val_loss: 0.0898 - val_accuracy: 0.9680\n",
      "Epoch 76/200\n",
      "4000/4000 [==============================] - 0s 62us/sample - loss: 0.1132 - accuracy: 0.9495 - val_loss: 0.0911 - val_accuracy: 0.9650\n",
      "Epoch 77/200\n",
      "4000/4000 [==============================] - 0s 48us/sample - loss: 0.1129 - accuracy: 0.9500 - val_loss: 0.0899 - val_accuracy: 0.9670\n",
      "Epoch 78/200\n",
      "4000/4000 [==============================] - 0s 37us/sample - loss: 0.1130 - accuracy: 0.9490 - val_loss: 0.0898 - val_accuracy: 0.9680\n",
      "Epoch 79/200\n",
      "4000/4000 [==============================] - 0s 40us/sample - loss: 0.1129 - accuracy: 0.9492 - val_loss: 0.0895 - val_accuracy: 0.9680\n",
      "Epoch 80/200\n",
      "4000/4000 [==============================] - 0s 40us/sample - loss: 0.1130 - accuracy: 0.9498 - val_loss: 0.0898 - val_accuracy: 0.9670\n",
      "Epoch 81/200\n",
      "4000/4000 [==============================] - 0s 42us/sample - loss: 0.1128 - accuracy: 0.9503 - val_loss: 0.0898 - val_accuracy: 0.9670\n",
      "Epoch 82/200\n",
      "4000/4000 [==============================] - 0s 40us/sample - loss: 0.1130 - accuracy: 0.9492 - val_loss: 0.0901 - val_accuracy: 0.9670\n",
      "Epoch 83/200\n",
      "4000/4000 [==============================] - 0s 54us/sample - loss: 0.1128 - accuracy: 0.9492 - val_loss: 0.0900 - val_accuracy: 0.9660\n",
      "Epoch 84/200\n",
      "4000/4000 [==============================] - 0s 35us/sample - loss: 0.1131 - accuracy: 0.9485 - val_loss: 0.0897 - val_accuracy: 0.9670\n",
      "Epoch 85/200\n",
      "4000/4000 [==============================] - 0s 41us/sample - loss: 0.1133 - accuracy: 0.9495 - val_loss: 0.0897 - val_accuracy: 0.9670\n",
      "Epoch 86/200\n",
      "4000/4000 [==============================] - 0s 39us/sample - loss: 0.1129 - accuracy: 0.9498 - val_loss: 0.0895 - val_accuracy: 0.9670\n",
      "Epoch 87/200\n",
      "4000/4000 [==============================] - 0s 44us/sample - loss: 0.1129 - accuracy: 0.9490 - val_loss: 0.0897 - val_accuracy: 0.9670\n",
      "Epoch 88/200\n",
      "4000/4000 [==============================] - 0s 43us/sample - loss: 0.1131 - accuracy: 0.9490 - val_loss: 0.0903 - val_accuracy: 0.9670\n",
      "Epoch 89/200\n",
      "4000/4000 [==============================] - 0s 35us/sample - loss: 0.1129 - accuracy: 0.9490 - val_loss: 0.0895 - val_accuracy: 0.9660\n",
      "Epoch 90/200\n",
      "4000/4000 [==============================] - 0s 35us/sample - loss: 0.1133 - accuracy: 0.9492 - val_loss: 0.0898 - val_accuracy: 0.9670\n",
      "Epoch 91/200\n",
      "4000/4000 [==============================] - 0s 34us/sample - loss: 0.1131 - accuracy: 0.9492 - val_loss: 0.0897 - val_accuracy: 0.9660\n",
      "Epoch 92/200\n",
      "4000/4000 [==============================] - 0s 35us/sample - loss: 0.1127 - accuracy: 0.9495 - val_loss: 0.0899 - val_accuracy: 0.9660\n",
      "Epoch 93/200\n",
      "4000/4000 [==============================] - 0s 37us/sample - loss: 0.1128 - accuracy: 0.9488 - val_loss: 0.0897 - val_accuracy: 0.9670\n",
      "Epoch 94/200\n",
      "4000/4000 [==============================] - 0s 35us/sample - loss: 0.1129 - accuracy: 0.9495 - val_loss: 0.0897 - val_accuracy: 0.9670\n",
      "Epoch 95/200\n",
      "4000/4000 [==============================] - 0s 35us/sample - loss: 0.1135 - accuracy: 0.9500 - val_loss: 0.0899 - val_accuracy: 0.9670\n",
      "Epoch 96/200\n",
      "4000/4000 [==============================] - 0s 35us/sample - loss: 0.1133 - accuracy: 0.9505 - val_loss: 0.0897 - val_accuracy: 0.9660\n",
      "Epoch 97/200\n",
      "4000/4000 [==============================] - 0s 36us/sample - loss: 0.1129 - accuracy: 0.9500 - val_loss: 0.0897 - val_accuracy: 0.9670\n",
      "Epoch 98/200\n",
      "4000/4000 [==============================] - 0s 36us/sample - loss: 0.1130 - accuracy: 0.9490 - val_loss: 0.0901 - val_accuracy: 0.9660\n",
      "Epoch 99/200\n",
      "4000/4000 [==============================] - 0s 40us/sample - loss: 0.1128 - accuracy: 0.9503 - val_loss: 0.0898 - val_accuracy: 0.9660\n",
      "Epoch 100/200\n",
      "4000/4000 [==============================] - 0s 35us/sample - loss: 0.1129 - accuracy: 0.9500 - val_loss: 0.0896 - val_accuracy: 0.9680\n",
      "Epoch 101/200\n",
      "4000/4000 [==============================] - 0s 36us/sample - loss: 0.1133 - accuracy: 0.9510 - val_loss: 0.0898 - val_accuracy: 0.9670\n",
      "Epoch 102/200\n",
      "4000/4000 [==============================] - 0s 35us/sample - loss: 0.1133 - accuracy: 0.9480 - val_loss: 0.0909 - val_accuracy: 0.9650\n",
      "Epoch 103/200\n",
      "4000/4000 [==============================] - 0s 36us/sample - loss: 0.1136 - accuracy: 0.9492 - val_loss: 0.0898 - val_accuracy: 0.9670\n",
      "Epoch 104/200\n",
      "4000/4000 [==============================] - 0s 41us/sample - loss: 0.1126 - accuracy: 0.9492 - val_loss: 0.0895 - val_accuracy: 0.9660\n",
      "Epoch 105/200\n",
      "4000/4000 [==============================] - 0s 36us/sample - loss: 0.1132 - accuracy: 0.9492 - val_loss: 0.0897 - val_accuracy: 0.9650\n",
      "Epoch 106/200\n",
      "4000/4000 [==============================] - 0s 36us/sample - loss: 0.1133 - accuracy: 0.9492 - val_loss: 0.0897 - val_accuracy: 0.9670\n",
      "Epoch 107/200\n",
      "4000/4000 [==============================] - 0s 45us/sample - loss: 0.1130 - accuracy: 0.9490 - val_loss: 0.0899 - val_accuracy: 0.9670\n",
      "Epoch 108/200\n",
      "4000/4000 [==============================] - 0s 48us/sample - loss: 0.1131 - accuracy: 0.9490 - val_loss: 0.0898 - val_accuracy: 0.9660\n",
      "Epoch 109/200\n",
      "4000/4000 [==============================] - 0s 46us/sample - loss: 0.1130 - accuracy: 0.9488 - val_loss: 0.0898 - val_accuracy: 0.9670\n",
      "Epoch 110/200\n",
      "4000/4000 [==============================] - 0s 35us/sample - loss: 0.1133 - accuracy: 0.9498 - val_loss: 0.0900 - val_accuracy: 0.9650\n"
     ]
    },
    {
     "name": "stdout",
     "output_type": "stream",
     "text": [
      "Epoch 111/200\n",
      "4000/4000 [==============================] - 0s 36us/sample - loss: 0.1131 - accuracy: 0.9495 - val_loss: 0.0903 - val_accuracy: 0.9660\n",
      "Epoch 112/200\n",
      "4000/4000 [==============================] - 0s 36us/sample - loss: 0.1133 - accuracy: 0.9498 - val_loss: 0.0898 - val_accuracy: 0.9670\n",
      "Epoch 113/200\n",
      "4000/4000 [==============================] - 0s 42us/sample - loss: 0.1128 - accuracy: 0.9495 - val_loss: 0.0899 - val_accuracy: 0.9670\n",
      "Epoch 114/200\n",
      "4000/4000 [==============================] - 0s 38us/sample - loss: 0.1127 - accuracy: 0.9500 - val_loss: 0.0893 - val_accuracy: 0.9660\n",
      "Epoch 115/200\n",
      "4000/4000 [==============================] - 0s 35us/sample - loss: 0.1129 - accuracy: 0.9492 - val_loss: 0.0910 - val_accuracy: 0.9670\n",
      "Epoch 116/200\n",
      "4000/4000 [==============================] - 0s 34us/sample - loss: 0.1125 - accuracy: 0.9505 - val_loss: 0.0893 - val_accuracy: 0.9670\n",
      "Epoch 117/200\n",
      "4000/4000 [==============================] - 0s 35us/sample - loss: 0.1130 - accuracy: 0.9492 - val_loss: 0.0897 - val_accuracy: 0.9670\n",
      "Epoch 118/200\n",
      "4000/4000 [==============================] - 0s 35us/sample - loss: 0.1127 - accuracy: 0.9500 - val_loss: 0.0919 - val_accuracy: 0.9650\n",
      "Epoch 119/200\n",
      "4000/4000 [==============================] - 0s 35us/sample - loss: 0.1131 - accuracy: 0.9495 - val_loss: 0.0892 - val_accuracy: 0.9680\n",
      "Epoch 120/200\n",
      "4000/4000 [==============================] - 0s 34us/sample - loss: 0.1128 - accuracy: 0.9505 - val_loss: 0.0894 - val_accuracy: 0.9670\n",
      "Epoch 121/200\n",
      "4000/4000 [==============================] - 0s 35us/sample - loss: 0.1128 - accuracy: 0.9490 - val_loss: 0.0899 - val_accuracy: 0.9670\n",
      "Epoch 122/200\n",
      "4000/4000 [==============================] - 0s 35us/sample - loss: 0.1135 - accuracy: 0.9498 - val_loss: 0.0897 - val_accuracy: 0.9670\n",
      "Epoch 123/200\n",
      "4000/4000 [==============================] - 0s 35us/sample - loss: 0.1127 - accuracy: 0.9498 - val_loss: 0.0892 - val_accuracy: 0.9680\n",
      "Epoch 124/200\n",
      "4000/4000 [==============================] - 0s 35us/sample - loss: 0.1129 - accuracy: 0.9485 - val_loss: 0.0897 - val_accuracy: 0.9670\n",
      "Epoch 125/200\n",
      "4000/4000 [==============================] - 0s 35us/sample - loss: 0.1128 - accuracy: 0.9495 - val_loss: 0.0905 - val_accuracy: 0.9650\n",
      "Epoch 126/200\n",
      "4000/4000 [==============================] - 0s 35us/sample - loss: 0.1131 - accuracy: 0.9485 - val_loss: 0.0897 - val_accuracy: 0.9660\n",
      "Epoch 127/200\n",
      "4000/4000 [==============================] - 0s 34us/sample - loss: 0.1130 - accuracy: 0.9492 - val_loss: 0.0893 - val_accuracy: 0.9670\n",
      "Epoch 128/200\n",
      "4000/4000 [==============================] - 0s 34us/sample - loss: 0.1132 - accuracy: 0.9485 - val_loss: 0.0896 - val_accuracy: 0.9670\n",
      "Epoch 129/200\n",
      "4000/4000 [==============================] - 0s 35us/sample - loss: 0.1129 - accuracy: 0.9500 - val_loss: 0.0896 - val_accuracy: 0.9670\n",
      "Epoch 130/200\n",
      "4000/4000 [==============================] - 0s 35us/sample - loss: 0.1129 - accuracy: 0.9503 - val_loss: 0.0897 - val_accuracy: 0.9680\n",
      "Epoch 131/200\n",
      "4000/4000 [==============================] - 0s 35us/sample - loss: 0.1128 - accuracy: 0.9495 - val_loss: 0.0911 - val_accuracy: 0.9650\n",
      "Epoch 132/200\n",
      "4000/4000 [==============================] - 0s 38us/sample - loss: 0.1130 - accuracy: 0.9498 - val_loss: 0.0903 - val_accuracy: 0.9660\n",
      "Epoch 133/200\n",
      "4000/4000 [==============================] - 0s 35us/sample - loss: 0.1132 - accuracy: 0.9488 - val_loss: 0.0901 - val_accuracy: 0.9670\n",
      "Epoch 134/200\n",
      "4000/4000 [==============================] - 0s 35us/sample - loss: 0.1132 - accuracy: 0.9492 - val_loss: 0.0900 - val_accuracy: 0.9650\n",
      "Epoch 135/200\n",
      "4000/4000 [==============================] - 0s 35us/sample - loss: 0.1127 - accuracy: 0.9490 - val_loss: 0.0895 - val_accuracy: 0.9670\n",
      "Epoch 136/200\n",
      "4000/4000 [==============================] - 0s 35us/sample - loss: 0.1129 - accuracy: 0.9500 - val_loss: 0.0895 - val_accuracy: 0.9670\n",
      "Epoch 137/200\n",
      "4000/4000 [==============================] - 0s 35us/sample - loss: 0.1126 - accuracy: 0.9490 - val_loss: 0.0900 - val_accuracy: 0.9650\n",
      "Epoch 138/200\n",
      "4000/4000 [==============================] - 0s 35us/sample - loss: 0.1128 - accuracy: 0.9495 - val_loss: 0.0901 - val_accuracy: 0.9650\n",
      "Epoch 139/200\n",
      "4000/4000 [==============================] - 0s 35us/sample - loss: 0.1130 - accuracy: 0.9492 - val_loss: 0.0896 - val_accuracy: 0.9670\n",
      "Epoch 140/200\n",
      "4000/4000 [==============================] - 0s 35us/sample - loss: 0.1130 - accuracy: 0.9500 - val_loss: 0.0897 - val_accuracy: 0.9670\n",
      "Epoch 141/200\n",
      "4000/4000 [==============================] - 0s 35us/sample - loss: 0.1127 - accuracy: 0.9505 - val_loss: 0.0896 - val_accuracy: 0.9670\n",
      "Epoch 142/200\n",
      "4000/4000 [==============================] - 0s 35us/sample - loss: 0.1130 - accuracy: 0.9505 - val_loss: 0.0901 - val_accuracy: 0.9650\n",
      "Epoch 143/200\n",
      "4000/4000 [==============================] - 0s 35us/sample - loss: 0.1126 - accuracy: 0.9482 - val_loss: 0.0904 - val_accuracy: 0.9650\n",
      "Epoch 144/200\n",
      "4000/4000 [==============================] - 0s 35us/sample - loss: 0.1135 - accuracy: 0.9482 - val_loss: 0.0898 - val_accuracy: 0.9670\n",
      "Epoch 145/200\n",
      "4000/4000 [==============================] - 0s 35us/sample - loss: 0.1130 - accuracy: 0.9480 - val_loss: 0.0896 - val_accuracy: 0.9670\n",
      "Epoch 146/200\n",
      "4000/4000 [==============================] - 0s 36us/sample - loss: 0.1128 - accuracy: 0.9475 - val_loss: 0.0894 - val_accuracy: 0.9660\n",
      "Epoch 147/200\n",
      "4000/4000 [==============================] - 0s 35us/sample - loss: 0.1130 - accuracy: 0.9507 - val_loss: 0.0894 - val_accuracy: 0.9660\n",
      "Epoch 148/200\n",
      "4000/4000 [==============================] - 0s 35us/sample - loss: 0.1133 - accuracy: 0.9492 - val_loss: 0.0894 - val_accuracy: 0.9660\n",
      "Epoch 149/200\n",
      "4000/4000 [==============================] - 0s 35us/sample - loss: 0.1130 - accuracy: 0.9495 - val_loss: 0.0895 - val_accuracy: 0.9680\n",
      "Epoch 150/200\n",
      "4000/4000 [==============================] - 0s 35us/sample - loss: 0.1134 - accuracy: 0.9492 - val_loss: 0.0898 - val_accuracy: 0.9670\n",
      "Epoch 151/200\n",
      "4000/4000 [==============================] - 0s 35us/sample - loss: 0.1138 - accuracy: 0.9505 - val_loss: 0.0906 - val_accuracy: 0.9660\n",
      "Epoch 152/200\n",
      "4000/4000 [==============================] - 0s 35us/sample - loss: 0.1130 - accuracy: 0.9503 - val_loss: 0.0896 - val_accuracy: 0.9670\n",
      "Epoch 153/200\n",
      "4000/4000 [==============================] - 0s 35us/sample - loss: 0.1132 - accuracy: 0.9495 - val_loss: 0.0895 - val_accuracy: 0.9670\n",
      "Epoch 154/200\n",
      "4000/4000 [==============================] - 0s 35us/sample - loss: 0.1130 - accuracy: 0.9500 - val_loss: 0.0897 - val_accuracy: 0.9660\n",
      "Epoch 155/200\n",
      "4000/4000 [==============================] - 0s 35us/sample - loss: 0.1134 - accuracy: 0.9495 - val_loss: 0.0894 - val_accuracy: 0.9660\n",
      "Epoch 156/200\n",
      "4000/4000 [==============================] - 0s 35us/sample - loss: 0.1133 - accuracy: 0.9492 - val_loss: 0.0896 - val_accuracy: 0.9670\n",
      "Epoch 157/200\n",
      "4000/4000 [==============================] - 0s 36us/sample - loss: 0.1128 - accuracy: 0.9488 - val_loss: 0.0893 - val_accuracy: 0.9670\n",
      "Epoch 158/200\n",
      "4000/4000 [==============================] - 0s 35us/sample - loss: 0.1128 - accuracy: 0.9492 - val_loss: 0.0894 - val_accuracy: 0.9660\n",
      "Epoch 159/200\n",
      "4000/4000 [==============================] - 0s 35us/sample - loss: 0.1128 - accuracy: 0.9498 - val_loss: 0.0895 - val_accuracy: 0.9670\n",
      "Epoch 160/200\n",
      "4000/4000 [==============================] - 0s 36us/sample - loss: 0.1131 - accuracy: 0.9482 - val_loss: 0.0897 - val_accuracy: 0.9670\n",
      "Epoch 161/200\n",
      "4000/4000 [==============================] - 0s 35us/sample - loss: 0.1137 - accuracy: 0.9498 - val_loss: 0.0898 - val_accuracy: 0.9670\n",
      "Epoch 162/200\n",
      "4000/4000 [==============================] - 0s 35us/sample - loss: 0.1134 - accuracy: 0.9498 - val_loss: 0.0896 - val_accuracy: 0.9670\n",
      "Epoch 163/200\n",
      "4000/4000 [==============================] - 0s 36us/sample - loss: 0.1131 - accuracy: 0.9498 - val_loss: 0.0893 - val_accuracy: 0.9680\n",
      "Epoch 164/200\n",
      "4000/4000 [==============================] - 0s 36us/sample - loss: 0.1131 - accuracy: 0.9488 - val_loss: 0.0898 - val_accuracy: 0.9670\n",
      "Epoch 165/200\n",
      "4000/4000 [==============================] - 0s 35us/sample - loss: 0.1132 - accuracy: 0.9495 - val_loss: 0.0897 - val_accuracy: 0.9670\n",
      "Epoch 166/200\n",
      "4000/4000 [==============================] - 0s 33us/sample - loss: 0.1131 - accuracy: 0.9500 - val_loss: 0.0896 - val_accuracy: 0.9670\n",
      "Epoch 167/200\n",
      "4000/4000 [==============================] - 0s 34us/sample - loss: 0.1130 - accuracy: 0.9498 - val_loss: 0.0902 - val_accuracy: 0.9650\n",
      "Epoch 168/200\n",
      "4000/4000 [==============================] - 0s 35us/sample - loss: 0.1127 - accuracy: 0.9498 - val_loss: 0.0892 - val_accuracy: 0.9670\n",
      "Epoch 169/200\n",
      "4000/4000 [==============================] - 0s 34us/sample - loss: 0.1128 - accuracy: 0.9492 - val_loss: 0.0900 - val_accuracy: 0.9660\n",
      "Epoch 170/200\n",
      "4000/4000 [==============================] - 0s 34us/sample - loss: 0.1133 - accuracy: 0.9500 - val_loss: 0.0894 - val_accuracy: 0.9660\n",
      "Epoch 171/200\n",
      "4000/4000 [==============================] - 0s 35us/sample - loss: 0.1127 - accuracy: 0.9492 - val_loss: 0.0900 - val_accuracy: 0.9650\n",
      "Epoch 172/200\n",
      "4000/4000 [==============================] - 0s 35us/sample - loss: 0.1128 - accuracy: 0.9495 - val_loss: 0.0895 - val_accuracy: 0.9670\n",
      "Epoch 173/200\n",
      "4000/4000 [==============================] - 0s 35us/sample - loss: 0.1127 - accuracy: 0.9498 - val_loss: 0.0906 - val_accuracy: 0.9660\n",
      "Epoch 174/200\n",
      "4000/4000 [==============================] - 0s 36us/sample - loss: 0.1132 - accuracy: 0.9488 - val_loss: 0.0900 - val_accuracy: 0.9650\n",
      "Epoch 175/200\n",
      "4000/4000 [==============================] - 0s 36us/sample - loss: 0.1130 - accuracy: 0.9500 - val_loss: 0.0894 - val_accuracy: 0.9650\n",
      "Epoch 176/200\n",
      "4000/4000 [==============================] - 0s 35us/sample - loss: 0.1126 - accuracy: 0.9490 - val_loss: 0.0898 - val_accuracy: 0.9660\n",
      "Epoch 177/200\n",
      "4000/4000 [==============================] - 0s 36us/sample - loss: 0.1129 - accuracy: 0.9500 - val_loss: 0.0894 - val_accuracy: 0.9670\n",
      "Epoch 178/200\n",
      "4000/4000 [==============================] - 0s 35us/sample - loss: 0.1130 - accuracy: 0.9495 - val_loss: 0.0893 - val_accuracy: 0.9680\n",
      "Epoch 179/200\n",
      "4000/4000 [==============================] - 0s 35us/sample - loss: 0.1129 - accuracy: 0.9505 - val_loss: 0.0895 - val_accuracy: 0.9670\n",
      "Epoch 180/200\n",
      "4000/4000 [==============================] - 0s 35us/sample - loss: 0.1127 - accuracy: 0.9492 - val_loss: 0.0899 - val_accuracy: 0.9650\n",
      "Epoch 181/200\n",
      "4000/4000 [==============================] - 0s 35us/sample - loss: 0.1129 - accuracy: 0.9503 - val_loss: 0.0900 - val_accuracy: 0.9650\n",
      "Epoch 182/200\n",
      "4000/4000 [==============================] - 0s 35us/sample - loss: 0.1138 - accuracy: 0.9495 - val_loss: 0.0896 - val_accuracy: 0.9670\n",
      "Epoch 183/200\n",
      "4000/4000 [==============================] - 0s 35us/sample - loss: 0.1132 - accuracy: 0.9498 - val_loss: 0.0893 - val_accuracy: 0.9670\n",
      "Epoch 184/200\n",
      "4000/4000 [==============================] - 0s 35us/sample - loss: 0.1132 - accuracy: 0.9488 - val_loss: 0.0893 - val_accuracy: 0.9670\n",
      "Epoch 185/200\n",
      "4000/4000 [==============================] - 0s 35us/sample - loss: 0.1128 - accuracy: 0.9490 - val_loss: 0.0893 - val_accuracy: 0.9680\n",
      "Epoch 186/200\n",
      "4000/4000 [==============================] - 0s 35us/sample - loss: 0.1129 - accuracy: 0.9498 - val_loss: 0.0895 - val_accuracy: 0.9650\n",
      "Epoch 187/200\n",
      "4000/4000 [==============================] - 0s 35us/sample - loss: 0.1130 - accuracy: 0.9495 - val_loss: 0.0896 - val_accuracy: 0.9660\n",
      "Epoch 188/200\n",
      "4000/4000 [==============================] - 0s 35us/sample - loss: 0.1128 - accuracy: 0.9513 - val_loss: 0.0893 - val_accuracy: 0.9670\n",
      "Epoch 189/200\n",
      "4000/4000 [==============================] - 0s 35us/sample - loss: 0.1131 - accuracy: 0.9513 - val_loss: 0.0892 - val_accuracy: 0.9670\n",
      "Epoch 190/200\n",
      "4000/4000 [==============================] - 0s 35us/sample - loss: 0.1126 - accuracy: 0.9495 - val_loss: 0.0892 - val_accuracy: 0.9670\n",
      "Epoch 191/200\n",
      "4000/4000 [==============================] - 0s 35us/sample - loss: 0.1132 - accuracy: 0.9500 - val_loss: 0.0895 - val_accuracy: 0.9680\n",
      "Epoch 192/200\n",
      "4000/4000 [==============================] - 0s 35us/sample - loss: 0.1128 - accuracy: 0.9490 - val_loss: 0.0894 - val_accuracy: 0.9660\n",
      "Epoch 193/200\n",
      "4000/4000 [==============================] - 0s 35us/sample - loss: 0.1130 - accuracy: 0.9490 - val_loss: 0.0897 - val_accuracy: 0.9670\n",
      "Epoch 194/200\n",
      "4000/4000 [==============================] - 0s 35us/sample - loss: 0.1132 - accuracy: 0.9492 - val_loss: 0.0896 - val_accuracy: 0.9660\n",
      "Epoch 195/200\n",
      "4000/4000 [==============================] - 0s 35us/sample - loss: 0.1129 - accuracy: 0.9492 - val_loss: 0.0894 - val_accuracy: 0.9660\n",
      "Epoch 196/200\n",
      "4000/4000 [==============================] - 0s 35us/sample - loss: 0.1130 - accuracy: 0.9500 - val_loss: 0.0894 - val_accuracy: 0.9660\n",
      "Epoch 197/200\n",
      "4000/4000 [==============================] - 0s 35us/sample - loss: 0.1128 - accuracy: 0.9490 - val_loss: 0.0905 - val_accuracy: 0.9650\n",
      "Epoch 198/200\n",
      "4000/4000 [==============================] - 0s 35us/sample - loss: 0.1128 - accuracy: 0.9488 - val_loss: 0.0901 - val_accuracy: 0.9660\n",
      "Epoch 199/200\n",
      "4000/4000 [==============================] - 0s 35us/sample - loss: 0.1132 - accuracy: 0.9492 - val_loss: 0.0897 - val_accuracy: 0.9660\n",
      "Epoch 200/200\n",
      "4000/4000 [==============================] - 0s 34us/sample - loss: 0.1130 - accuracy: 0.9490 - val_loss: 0.0895 - val_accuracy: 0.9670\n"
     ]
    },
    {
     "data": {
      "text/plain": [
       "<tensorflow.python.keras.callbacks.History at 0x13d8a2510>"
      ]
     },
     "execution_count": 24,
     "metadata": {},
     "output_type": "execute_result"
    }
   ],
   "source": [
    "model.fit(x, y, epochs=200,validation_split=0.2, batch_size=50)"
   ]
  },
  {
   "cell_type": "code",
   "execution_count": 15,
   "metadata": {},
   "outputs": [
    {
     "data": {
      "text/plain": [
       "[array([[3.8575535],\n",
       "        [1.1853145],\n",
       "        [4.5324993]], dtype=float32), array([-4.941648], dtype=float32)]"
      ]
     },
     "execution_count": 15,
     "metadata": {},
     "output_type": "execute_result"
    }
   ],
   "source": [
    "model.get_weights()"
   ]
  },
  {
   "cell_type": "code",
   "execution_count": 19,
   "metadata": {},
   "outputs": [],
   "source": [
    "import matplotlib.pyplot as plt"
   ]
  },
  {
   "cell_type": "code",
   "execution_count": 27,
   "metadata": {},
   "outputs": [
    {
     "data": {
      "text/plain": [
       "167"
      ]
     },
     "execution_count": 27,
     "metadata": {},
     "output_type": "execute_result"
    }
   ],
   "source": [
    "np.argmin(model.history.history['val_loss'])"
   ]
  },
  {
   "cell_type": "code",
   "execution_count": 26,
   "metadata": {},
   "outputs": [
    {
     "data": {
      "text/plain": [
       "[<matplotlib.lines.Line2D at 0x13dd75fd0>]"
      ]
     },
     "execution_count": 26,
     "metadata": {},
     "output_type": "execute_result"
    },
    {
     "data": {
      "image/png": "[encoded data removed]",
      "text/plain": [
       "<Figure size 432x288 with 1 Axes>"
      ]
     },
     "metadata": {
      "needs_background": "light"
     },
     "output_type": "display_data"
    }
   ],
   "source": [
    "plt.plot(model.history.history['val_loss'][50:200])"
   ]
  },
  {
   "cell_type": "code",
   "execution_count": null,
   "metadata": {},
   "outputs": [],
   "source": []
  },
  {
   "cell_type": "markdown",
   "metadata": {},
   "source": [
    "## Final Model "
   ]
  },
  {
   "cell_type": "code",
   "execution_count": null,
   "metadata": {},
   "outputs": [],
   "source": [
    "model.fit(x, y, epochs=124, batch_size=50)"
   ]
  },
  {
   "cell_type": "code",
   "execution_count": null,
   "metadata": {},
   "outputs": [],
   "source": [
    "model.get_weights()"
   ]
  },
  {
   "cell_type": "markdown",
   "metadata": {},
   "source": [
    "## Fashion MNIST classification model"
   ]
  },
  {
   "cell_type": "code",
   "execution_count": 28,
   "metadata": {},
   "outputs": [],
   "source": [
    "from tensorflow import keras\n",
    "fashion_mnist = keras.datasets.fashion_mnist"
   ]
  },
  {
   "cell_type": "markdown",
   "metadata": {},
   "source": [
    "In Mac Run the following command first\n",
    "\n",
    "```open /Applications/Python\\ 3.7/Install\\ Certificates.command```\n",
    "\n",
    "Example URL: https://www.tensorflow.org/tutorials/keras/classification"
   ]
  },
  {
   "cell_type": "code",
   "execution_count": 29,
   "metadata": {},
   "outputs": [],
   "source": [
    "fashion_mnist = keras.datasets.fashion_mnist\n",
    "\n",
    "(train_images, train_labels), (test_images, test_labels) = fashion_mnist.load_data()"
   ]
  },
  {
   "cell_type": "code",
   "execution_count": 30,
   "metadata": {},
   "outputs": [
    {
     "data": {
      "text/plain": [
       "(60000, 28, 28)"
      ]
     },
     "execution_count": 30,
     "metadata": {},
     "output_type": "execute_result"
    }
   ],
   "source": [
    "train_images.shape"
   ]
  },
  {
   "cell_type": "code",
   "execution_count": 31,
   "metadata": {},
   "outputs": [
    {
     "data": {
      "text/plain": [
       "array([0, 1, 2, 3, 4, 5, 6, 7, 8, 9], dtype=uint8)"
      ]
     },
     "execution_count": 31,
     "metadata": {},
     "output_type": "execute_result"
    }
   ],
   "source": [
    "np.unique(train_labels)"
   ]
  },
  {
   "cell_type": "code",
   "execution_count": 53,
   "metadata": {},
   "outputs": [
    {
     "data": {
      "image/png": "[encoded data removed]",
      "text/plain": [
       "<Figure size 432x288 with 2 Axes>"
      ]
     },
     "metadata": {
      "needs_background": "light"
     },
     "output_type": "display_data"
    }
   ],
   "source": [
    "import numpy as np\n",
    "import matplotlib.pyplot as plt\n",
    "plt.figure()\n",
    "plt.imshow(train_images[0])\n",
    "plt.colorbar()\n",
    "plt.grid(False)\n",
    "plt.show()"
   ]
  },
  {
   "cell_type": "code",
   "execution_count": 54,
   "metadata": {},
   "outputs": [
    {
     "data": {
      "text/plain": [
       "'2.0.0'"
      ]
     },
     "execution_count": 54,
     "metadata": {},
     "output_type": "execute_result"
    }
   ],
   "source": [
    "tf.__version__"
   ]
  },
  {
   "cell_type": "code",
   "execution_count": 50,
   "metadata": {},
   "outputs": [],
   "source": [
    "model = keras.Sequential([\n",
    "    keras.layers.Flatten(input_shape=(28, 28)),\n",
    "    keras.layers.Dense(128, activation='relu'),\n",
    "    keras.layers.Dense(10, activation='softmax')\n",
    "])"
   ]
  },
  {
   "cell_type": "code",
   "execution_count": 51,
   "metadata": {},
   "outputs": [],
   "source": [
    "model.compile(optimizer='adam',\n",
    "              loss='sparse_categorical_crossentropy',\n",
    "              metrics=['accuracy'])"
   ]
  },
  {
   "cell_type": "code",
   "execution_count": 52,
   "metadata": {},
   "outputs": [
    {
     "name": "stdout",
     "output_type": "stream",
     "text": [
      "Train on 48000 samples, validate on 12000 samples\n",
      "Epoch 1/10\n",
      "48000/48000 [==============================] - 12s 250us/sample - loss: 2.4171 - accuracy: 0.6381 - val_loss: 0.9620 - val_accuracy: 0.6542\n",
      "Epoch 2/10\n",
      "48000/48000 [==============================] - 12s 242us/sample - loss: 0.8050 - accuracy: 0.7007 - val_loss: 0.8097 - val_accuracy: 0.6859\n",
      "Epoch 3/10\n",
      "48000/48000 [==============================] - 12s 240us/sample - loss: 0.7418 - accuracy: 0.7160 - val_loss: 0.8124 - val_accuracy: 0.7028\n",
      "Epoch 4/10\n",
      "48000/48000 [==============================] - 12s 247us/sample - loss: 0.7235 - accuracy: 0.7190 - val_loss: 0.7489 - val_accuracy: 0.7243\n",
      "Epoch 5/10\n",
      "48000/48000 [==============================] - 12s 245us/sample - loss: 0.7021 - accuracy: 0.7275 - val_loss: 0.7313 - val_accuracy: 0.7263\n",
      "Epoch 6/10\n",
      "48000/48000 [==============================] - 12s 243us/sample - loss: 0.7070 - accuracy: 0.7263 - val_loss: 0.8545 - val_accuracy: 0.7152\n",
      "Epoch 7/10\n",
      "48000/48000 [==============================] - 12s 247us/sample - loss: 0.7218 - accuracy: 0.7176 - val_loss: 0.7117 - val_accuracy: 0.7395\n",
      "Epoch 8/10\n",
      "48000/48000 [==============================] - 12s 242us/sample - loss: 0.6892 - accuracy: 0.7299 - val_loss: 0.7187 - val_accuracy: 0.7326\n",
      "Epoch 9/10\n",
      "48000/48000 [==============================] - 12s 240us/sample - loss: 0.6898 - accuracy: 0.7287 - val_loss: 0.7154 - val_accuracy: 0.7263\n",
      "Epoch 10/10\n",
      "48000/48000 [==============================] - 12s 243us/sample - loss: 0.6901 - accuracy: 0.7303 - val_loss: 0.7199 - val_accuracy: 0.7124\n"
     ]
    },
    {
     "data": {
      "text/plain": [
       "<tensorflow.python.keras.callbacks.History at 0x14519e510>"
      ]
     },
     "execution_count": 52,
     "metadata": {},
     "output_type": "execute_result"
    }
   ],
   "source": [
    "model.fit(train_images, train_labels, epochs=10,validation_split=0.2, batch_size=10)"
   ]
  },
  {
   "cell_type": "code",
   "execution_count": 49,
   "metadata": {},
   "outputs": [
    {
     "data": {
      "text/plain": [
       "[<matplotlib.lines.Line2D at 0x14134de50>]"
      ]
     },
     "execution_count": 49,
     "metadata": {},
     "output_type": "execute_result"
    },
    {
     "data": {
      "image/png": "[encoded data removed]",
      "text/plain": [
       "<Figure size 432x288 with 1 Axes>"
      ]
     },
     "metadata": {
      "needs_background": "light"
     },
     "output_type": "display_data"
    }
   ],
   "source": [
    "plt.plot(model.history.history[''])"
   ]
  },
  {
   "cell_type": "code",
   "execution_count": 43,
   "metadata": {},
   "outputs": [
    {
     "name": "stdout",
     "output_type": "stream",
     "text": [
      "10000/1 - 1s - loss: 0.5338 - accuracy: 0.7199\n",
      "\n",
      "Test accuracy: 0.7199\n"
     ]
    }
   ],
   "source": [
    "test_loss, test_acc = model.evaluate(test_images,  test_labels, verbose=2)\n",
    "print('\\nTest accuracy:', test_acc)"
   ]
  },
  {
   "cell_type": "code",
   "execution_count": 44,
   "metadata": {},
   "outputs": [
    {
     "data": {
      "image/png": "[encoded data removed]",
      "text/plain": [
       "<Figure size 432x288 with 2 Axes>"
      ]
     },
     "metadata": {
      "needs_background": "light"
     },
     "output_type": "display_data"
    }
   ],
   "source": [
    "plt.figure()\n",
    "plt.imshow(test_images[1])\n",
    "plt.colorbar()\n",
    "plt.grid(False)\n",
    "plt.show()"
   ]
  },
  {
   "cell_type": "code",
   "execution_count": null,
   "metadata": {},
   "outputs": [],
   "source": [
    " model.evaluate(test_images[1:2], test_labels[1:2], verbose=2)"
   ]
  },
  {
   "cell_type": "code",
   "execution_count": null,
   "metadata": {},
   "outputs": [],
   "source": [
    "test_labels[1:2]"
   ]
  },
  {
   "cell_type": "code",
   "execution_count": 47,
   "metadata": {},
   "outputs": [
    {
     "data": {
      "text/plain": [
       "2"
      ]
     },
     "execution_count": 47,
     "metadata": {},
     "output_type": "execute_result"
    }
   ],
   "source": [
    "np.argmax(model.predict(test_images[1:2]))"
   ]
  },
  {
   "cell_type": "code",
   "execution_count": 46,
   "metadata": {},
   "outputs": [
    {
     "data": {
      "text/plain": [
       "array([[4.5464061e-02, 2.0148396e-03, 3.7667459e-01, 6.5513183e-03,\n",
       "        2.9386184e-01, 7.4106891e-04, 2.6682428e-01, 1.3198457e-05,\n",
       "        7.7676433e-03, 8.7165827e-05]], dtype=float32)"
      ]
     },
     "execution_count": 46,
     "metadata": {},
     "output_type": "execute_result"
    }
   ],
   "source": [
    "model.predict(test_images[1:2])\n",
    "\n"
   ]
  },
  {
   "cell_type": "code",
   "execution_count": null,
   "metadata": {},
   "outputs": [],
   "source": []
  }
 ],
 "metadata": {
  "kernelspec": {
   "display_name": "Python 3",
   "language": "python",
   "name": "python3"
  },
  "language_info": {
   "codemirror_mode": {
    "name": "ipython",
    "version": 3
   },
   "file_extension": ".py",
   "mimetype": "text/x-python",
   "name": "python",
   "nbconvert_exporter": "python",
   "pygments_lexer": "ipython3",
   "version": "3.6.9"
  }
 },
 "nbformat": 4,
 "nbformat_minor": 2
}
