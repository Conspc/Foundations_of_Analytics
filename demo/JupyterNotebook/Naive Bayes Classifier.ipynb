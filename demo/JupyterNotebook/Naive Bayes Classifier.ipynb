{
 "cells": [
  {
   "cell_type": "markdown",
   "metadata": {},
   "source": [
    "### Reference \n",
    "\n",
    "https://www.saedsayad.com/naive_bayesian.htm\n",
    "\n",
    "### New Package Installation\n",
    "\n",
    "```pip install mixed-naive-bayes```"
   ]
  },
  {
   "cell_type": "code",
   "execution_count": null,
   "metadata": {},
   "outputs": [],
   "source": [
    "from sklearn import datasets\n",
    "import pandas as pd\n",
    "from mixed_naive_bayes import MixedNB"
   ]
  },
  {
   "cell_type": "code",
   "execution_count": null,
   "metadata": {},
   "outputs": [],
   "source": [
    "GolfData=pd.read_csv('Data/golfplay.csv')"
   ]
  },
  {
   "cell_type": "code",
   "execution_count": 3,
   "metadata": {},
   "outputs": [
    {
     "data": {
      "text/html": [
       "<div>\n",
       "<style scoped>\n",
       "    .dataframe tbody tr th:only-of-type {\n",
       "        vertical-align: middle;\n",
       "    }\n",
       "\n",
       "    .dataframe tbody tr th {\n",
       "        vertical-align: top;\n",
       "    }\n",
       "\n",
       "    .dataframe thead th {\n",
       "        text-align: right;\n",
       "    }\n",
       "</style>\n",
       "<table border=\"1\" class=\"dataframe\">\n",
       "  <thead>\n",
       "    <tr style=\"text-align: right;\">\n",
       "      <th></th>\n",
       "      <th>Rain</th>\n",
       "      <th>Temp</th>\n",
       "      <th>Windy</th>\n",
       "      <th>Play</th>\n",
       "    </tr>\n",
       "  </thead>\n",
       "  <tbody>\n",
       "    <tr>\n",
       "      <td>0</td>\n",
       "      <td>1</td>\n",
       "      <td>2</td>\n",
       "      <td>0</td>\n",
       "      <td>0</td>\n",
       "    </tr>\n",
       "    <tr>\n",
       "      <td>1</td>\n",
       "      <td>1</td>\n",
       "      <td>2</td>\n",
       "      <td>1</td>\n",
       "      <td>0</td>\n",
       "    </tr>\n",
       "    <tr>\n",
       "      <td>2</td>\n",
       "      <td>0</td>\n",
       "      <td>1</td>\n",
       "      <td>0</td>\n",
       "      <td>1</td>\n",
       "    </tr>\n",
       "    <tr>\n",
       "      <td>3</td>\n",
       "      <td>0</td>\n",
       "      <td>1</td>\n",
       "      <td>0</td>\n",
       "      <td>1</td>\n",
       "    </tr>\n",
       "    <tr>\n",
       "      <td>4</td>\n",
       "      <td>0</td>\n",
       "      <td>0</td>\n",
       "      <td>0</td>\n",
       "      <td>1</td>\n",
       "    </tr>\n",
       "    <tr>\n",
       "      <td>5</td>\n",
       "      <td>0</td>\n",
       "      <td>0</td>\n",
       "      <td>1</td>\n",
       "      <td>0</td>\n",
       "    </tr>\n",
       "    <tr>\n",
       "      <td>6</td>\n",
       "      <td>1</td>\n",
       "      <td>1</td>\n",
       "      <td>0</td>\n",
       "      <td>1</td>\n",
       "    </tr>\n",
       "    <tr>\n",
       "      <td>7</td>\n",
       "      <td>0</td>\n",
       "      <td>2</td>\n",
       "      <td>0</td>\n",
       "      <td>1</td>\n",
       "    </tr>\n",
       "    <tr>\n",
       "      <td>8</td>\n",
       "      <td>0</td>\n",
       "      <td>2</td>\n",
       "      <td>1</td>\n",
       "      <td>1</td>\n",
       "    </tr>\n",
       "    <tr>\n",
       "      <td>9</td>\n",
       "      <td>0</td>\n",
       "      <td>1</td>\n",
       "      <td>0</td>\n",
       "      <td>0</td>\n",
       "    </tr>\n",
       "  </tbody>\n",
       "</table>\n",
       "</div>"
      ],
      "text/plain": [
       "   Rain  Temp  Windy  Play\n",
       "0     1     2      0     0\n",
       "1     1     2      1     0\n",
       "2     0     1      0     1\n",
       "3     0     1      0     1\n",
       "4     0     0      0     1\n",
       "5     0     0      1     0\n",
       "6     1     1      0     1\n",
       "7     0     2      0     1\n",
       "8     0     2      1     1\n",
       "9     0     1      0     0"
      ]
     },
     "execution_count": 3,
     "metadata": {},
     "output_type": "execute_result"
    }
   ],
   "source": [
    "GolfData"
   ]
  },
  {
   "cell_type": "markdown",
   "metadata": {},
   "source": [
    "### Naive Bayes Classifer\n",
    "$X_1$: Rain, $X_2$: Temp, $X_3$: Windy\n",
    "\n",
    "$P(Y|X_1,X_2, X_3)=\\frac{P(X_1, X_2, X_3|Y)P(Y)}{P(X_1, X_2, X_3)}=\\frac{P(X_1|Y)P(X_2|Y)P(X_3|Y)P(Y)}{P(X_1, X_2, X_3)}$\n",
    "\n",
    "The term after the second \"=\" is due to the indpendent assumption of Naive Bayes Classifier"
   ]
  },
  {
   "cell_type": "markdown",
   "metadata": {},
   "source": [
    "### Calculate $P(X_1|Y)$ \n",
    "$X_1$: Rain\n",
    "\n",
    "\n",
    "\n",
    "We need to know the following likelihood\n",
    "\n",
    "$P(sunny|y=0)=\\frac{CNT(sunny|y=0)}{CNT(y=0)}$\n",
    "\n",
    "$P(rainy|y=0)=\\frac{CNT(rainy|y=0)}{CNT(y=0)}$\n",
    "\n",
    "\n",
    "$P(sunny|y=1)=\\frac{CNT(sunny|y=1)}{CNT(y=1)}$\n",
    "\n",
    "\n",
    "$P(rainy|y=1)=\\frac{CNT(rainy|y=1)}{CNT(y=1)}$\n",
    "\n",
    "|   | $X_1=0$ (sunny)  |  $X_1=1$ (rainy)  |   |   | \n",
    "|---|---|---|---|---|\n",
    "|  y=0 | CNT(sunny\\|y=0) | CNT(rainny\\|y=0)  |   |   |\n",
    "|  y=1 | CNT( sunny\\|y=1) | CNT(rainy\\|y=1)  |   |   |\n"
   ]
  },
  {
   "cell_type": "code",
   "execution_count": 6,
   "metadata": {},
   "outputs": [
    {
     "name": "stdout",
     "output_type": "stream",
     "text": [
      "0.6\n",
      "0.4\n"
     ]
    }
   ],
   "source": [
    "GolfData_y1=GolfData[GolfData[\"Play\"]==1]\n",
    "GolfData_y0=GolfData[GolfData[\"Play\"]==0]\n",
    "CNT_y1=GolfData_y1.shape[0]\n",
    "CNT_y0=GolfData_y0.shape[0]\n",
    "P_y1=CNT_y1/(CNT_y1+CNT_y0)\n",
    "P_y0=CNT_y0/(CNT_y1+CNT_y0)\n",
    "print(P_y1)\n",
    "print(P_y0)"
   ]
  },
  {
   "cell_type": "code",
   "execution_count": 7,
   "metadata": {},
   "outputs": [],
   "source": [
    "CNT_rainy_y1=sum(GolfData_y1[\"Rain\"]==1)\n",
    "CNT_sunny_y1=sum(GolfData_y1[\"Rain\"]==0)\n",
    "CNT_rainy_y0=sum(GolfData_y0[\"Rain\"]==1)\n",
    "CNT_sunny_y0=sum(GolfData_y0[\"Rain\"]==0)\n",
    "P_rainy_y1=CNT_rainy_y1/CNT_y1\n",
    "P_sunny_y1=CNT_sunny_y1/CNT_y1\n",
    "P_rainy_y0=CNT_rainy_y0/CNT_y0\n",
    "P_sunny_y0=CNT_sunny_y0/CNT_y0"
   ]
  },
  {
   "cell_type": "code",
   "execution_count": 8,
   "metadata": {},
   "outputs": [
    {
     "name": "stdout",
     "output_type": "stream",
     "text": [
      "0.16666666666666666\n",
      "0.8333333333333334\n",
      "0.5\n",
      "0.5\n"
     ]
    }
   ],
   "source": [
    "print(P_rainy_y1)\n",
    "print(P_sunny_y1)\n",
    "print(P_rainy_y0)\n",
    "print(P_sunny_y0)"
   ]
  },
  {
   "cell_type": "markdown",
   "metadata": {},
   "source": [
    "### Calculate $P(X_2|Y)$\n",
    "\n",
    "$X_2$: Temp\n",
    "\n",
    "We need to know the following likelihood\n",
    "\n",
    "$P(Low|y=0)=\\frac{CNT(Low|y=0)}{CNT(y=0)}$\n",
    "\n",
    "$P(Med|y=0)=\\frac{CNT(Med|y=0)}{CNT(y=0)}$\n",
    "\n",
    "$P(High|y=0)=\\frac{CNT(Med|y=0)}{CNT(y=0)}$\n",
    "\n",
    "\n",
    "\n",
    "$P(Low|y=1)=\\frac{CNT(Low|y=1)}{CNT(y=1)}$\n",
    "\n",
    "$P(Med|y=1)=\\frac{CNT(Med|y=1)}{CNT(y=1)}$\n",
    "\n",
    "$P(High|y=1)=\\frac{CNT(High|y=1)}{CNT(y=1)}$\n",
    "\n",
    "\n",
    "\n",
    "|   | $X_2=0$ (Low)  |  $X_2=1$ (Med)  |  $X_2=2$ (High)  |   | \n",
    "|---|---|---|---|---|\n",
    "|  y=0 | CNT(Low\\|y=0) | CNT(Med\\|y=0)  |CNT(High\\|y=0)  |   |\n",
    "|  y=1 | CNT( Low\\|y=1) | CNT(Med\\|y=1)  | CNT(High \\|y=1)  |   |\n",
    "\n"
   ]
  },
  {
   "cell_type": "code",
   "execution_count": 9,
   "metadata": {},
   "outputs": [],
   "source": [
    "CNT_Low_y1=sum(GolfData_y1[\"Temp\"]==0)\n",
    "CNT_Med_y1=sum(GolfData_y1[\"Temp\"]==1)\n",
    "CNT_High_y1=sum(GolfData_y1[\"Temp\"]==2)\n",
    "CNT_Low_y0=sum(GolfData_y0[\"Temp\"]==0)\n",
    "CNT_Med_y0=sum(GolfData_y0[\"Temp\"]==1)\n",
    "CNT_High_y0=sum(GolfData_y0[\"Temp\"]==2)\n",
    "\n",
    "P_Low_y1=CNT_Low_y1/CNT_y1\n",
    "P_Med_y1=CNT_Med_y1/CNT_y1\n",
    "P_High_y1=CNT_High_y1/CNT_y1\n",
    "\n",
    "P_Low_y0=CNT_Low_y0/CNT_y0\n",
    "P_Med_y0=CNT_Med_y0/CNT_y0\n",
    "P_High_y0=CNT_High_y0/CNT_y0"
   ]
  },
  {
   "cell_type": "code",
   "execution_count": 22,
   "metadata": {},
   "outputs": [
    {
     "data": {
      "text/plain": [
       "0    2\n",
       "1    2\n",
       "5    0\n",
       "9    1\n",
       "Name: Temp, dtype: int64"
      ]
     },
     "execution_count": 22,
     "metadata": {},
     "output_type": "execute_result"
    }
   ],
   "source": [
    "GolfData_y0[\"Temp\"]"
   ]
  },
  {
   "cell_type": "code",
   "execution_count": 23,
   "metadata": {},
   "outputs": [
    {
     "name": "stdout",
     "output_type": "stream",
     "text": [
      "0.16666666666666666\n",
      "0.5\n",
      "0.3333333333333333\n",
      "0.25\n",
      "0.25\n",
      "0.5\n"
     ]
    }
   ],
   "source": [
    "print(P_Low_y1)\n",
    "print(P_Med_y1)\n",
    "print(P_High_y1)\n",
    "\n",
    "print(P_Low_y0)\n",
    "print(P_Med_y0)\n",
    "print(P_High_y0)"
   ]
  },
  {
   "cell_type": "markdown",
   "metadata": {},
   "source": [
    "### Calculate $P(X_3|Y)$ \n",
    "$X_3$: Windy\n",
    "\n",
    "We need to know the following likelihood\n",
    "\n",
    "$P(wind|y=0)=\\frac{CNT(wind|y=0)}{CNT(y=0)}$\n",
    "\n",
    "$P(nowind|y=0)=\\frac{CNT(nowind|y=0)}{CNT(y=0)}$\n",
    "\n",
    "\n",
    "$P(wind|y=1)=\\frac{CNT(wind|y=1)}{CNT(y=1)}$\n",
    "\n",
    "\n",
    "$P(nowind|y=1)=\\frac{CNT(nowind|y=1)}{CNT(y=1)}$\n",
    "\n",
    "|   | $X_3=0$ (nowind)  |  $X_3=1$ (wind)  |   |   | \n",
    "|---|---|---|---|---|\n",
    "|  y=0 | CNT(nowind\\|y=0) | CNT(wind\\|y=0)  |   |   |\n",
    "|  y=1 | CNT( nowind\\|y=1) | CNT(wind\\|y=1)  |   |   |"
   ]
  },
  {
   "cell_type": "code",
   "execution_count": 24,
   "metadata": {},
   "outputs": [],
   "source": [
    "CNT_wind_y1=sum(GolfData_y1[\"Windy\"]==1)\n",
    "CNT_nowind_y1=sum(GolfData_y1[\"Windy\"]==0)\n",
    "CNT_wind_y0=sum(GolfData_y0[\"Windy\"]==1)\n",
    "CNT_nowind_y0=sum(GolfData_y0[\"Windy\"]==0)\n",
    "\n",
    "P_wind_y1=CNT_wind_y1/CNT_y1\n",
    "P_nowind_y1=CNT_nowind_y1/CNT_y1\n",
    "P_wind_y0=CNT_wind_y0/CNT_y0\n",
    "P_nowind_y0=CNT_nowind_y0/CNT_y0"
   ]
  },
  {
   "cell_type": "code",
   "execution_count": 25,
   "metadata": {},
   "outputs": [
    {
     "data": {
      "text/plain": [
       "0    0\n",
       "1    1\n",
       "5    1\n",
       "9    0\n",
       "Name: Windy, dtype: int64"
      ]
     },
     "execution_count": 25,
     "metadata": {},
     "output_type": "execute_result"
    }
   ],
   "source": [
    "GolfData_y0[\"Windy\"]"
   ]
  },
  {
   "cell_type": "code",
   "execution_count": 26,
   "metadata": {},
   "outputs": [
    {
     "name": "stdout",
     "output_type": "stream",
     "text": [
      "0.16666666666666666\n",
      "0.8333333333333334\n",
      "0.5\n",
      "0.5\n"
     ]
    }
   ],
   "source": [
    "print(P_wind_y1)\n",
    "print(P_nowind_y1)\n",
    "print(P_wind_y0)\n",
    "print(P_nowind_y0)"
   ]
  },
  {
   "cell_type": "code",
   "execution_count": 27,
   "metadata": {},
   "outputs": [
    {
     "ename": "NameError",
     "evalue": "name 'X' is not defined",
     "output_type": "error",
     "traceback": [
      "\u001b[0;31m---------------------------------------------------------------------------\u001b[0m",
      "\u001b[0;31mNameError\u001b[0m                                 Traceback (most recent call last)",
      "\u001b[0;32m<ipython-input-27-8ea635197c89>\u001b[0m in \u001b[0;36m<module>\u001b[0;34m\u001b[0m\n\u001b[0;32m----> 1\u001b[0;31m \u001b[0mX\u001b[0m\u001b[0;34m.\u001b[0m\u001b[0miloc\u001b[0m\u001b[0;34m[\u001b[0m\u001b[0;36m0\u001b[0m\u001b[0;34m]\u001b[0m\u001b[0;34m\u001b[0m\u001b[0;34m\u001b[0m\u001b[0m\n\u001b[0m",
      "\u001b[0;31mNameError\u001b[0m: name 'X' is not defined"
     ]
    }
   ],
   "source": [
    "X.iloc[0]"
   ]
  },
  {
   "cell_type": "markdown",
   "metadata": {},
   "source": [
    " $P(y=1|Rain=1, Temp=2, Windy=0) \\sim  P(Rain=1|y=1)P(Temp=2|y=1)P(Windy=0|y=1)P(y=1)$\n",
    " $P(y=0|Rain=1, Temp=2, Windy=0) \\sim P(Rain=1|y=0)P(Temp=2|y=0)P(Windy=0|y=0)P(y=0)$"
   ]
  },
  {
   "cell_type": "code",
   "execution_count": 28,
   "metadata": {},
   "outputs": [
    {
     "name": "stdout",
     "output_type": "stream",
     "text": [
      "0.3571428571428571\n"
     ]
    }
   ],
   "source": [
    "P_y1_x=P_rainy_y1*P_High_y1*P_nowind_y1*P_y1\n",
    "P_y0_x=P_rainy_y0*P_High_y0*P_nowind_y0*P_y0\n",
    "print(P_y1_x/(P_y1_x+P_y0_x))"
   ]
  },
  {
   "cell_type": "code",
   "execution_count": null,
   "metadata": {},
   "outputs": [],
   "source": [
    "X.iloc[2]"
   ]
  },
  {
   "cell_type": "code",
   "execution_count": null,
   "metadata": {},
   "outputs": [],
   "source": [
    "P_y1_x=P_sunny_y1*P_Med_y1*P_nowind_y1*P_y1\n",
    "P_y0_x=P_sunny_y0*P_Med_y0*P_nowind_y0*P_y0\n",
    "print(P_y1_x/(P_y1_x+P_y0_x))"
   ]
  },
  {
   "cell_type": "markdown",
   "metadata": {},
   "source": [
    "## Using Package mixed_naive_bayes"
   ]
  },
  {
   "cell_type": "code",
   "execution_count": null,
   "metadata": {},
   "outputs": [],
   "source": [
    "from mixed_naive_bayes import MixedNB\n",
    "X=GolfData[[\"Rain\", \"Temp\", \"Windy\"]]\n",
    "Y=GolfData[\"Play\"]"
   ]
  },
  {
   "cell_type": "code",
   "execution_count": null,
   "metadata": {},
   "outputs": [],
   "source": [
    "clf = MixedNB(categorical_features='all',  alpha=1e-9)\n",
    "clf.fit(X,Y)\n",
    "clf.predict_proba(X)"
   ]
  },
  {
   "cell_type": "code",
   "execution_count": null,
   "metadata": {},
   "outputs": [],
   "source": []
  }
 ],
 "metadata": {
  "kernelspec": {
   "display_name": "Python 3",
   "language": "python",
   "name": "python3"
  },
  "language_info": {
   "codemirror_mode": {
    "name": "ipython",
    "version": 3
   },
   "file_extension": ".py",
   "mimetype": "text/x-python",
   "name": "python",
   "nbconvert_exporter": "python",
   "pygments_lexer": "ipython3",
   "version": "3.7.4"
  }
 },
 "nbformat": 4,
 "nbformat_minor": 2
}
