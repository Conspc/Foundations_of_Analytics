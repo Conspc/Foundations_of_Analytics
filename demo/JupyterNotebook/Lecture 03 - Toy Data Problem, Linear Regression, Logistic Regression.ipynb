{
 "cells": [
  {
   "cell_type": "markdown",
   "metadata": {},
   "source": [
    "# Lecture 03 - Toy Problem, Linear Regression, Logistic Regression"
   ]
  },
  {
   "cell_type": "code",
   "execution_count": 1,
   "metadata": {},
   "outputs": [
    {
     "ename": "ModuleNotFoundError",
     "evalue": "No module named 'matplotlib'",
     "output_type": "error",
     "traceback": [
      "\u001b[0;31m---------------------------------------------------------------------------\u001b[0m",
      "\u001b[0;31mModuleNotFoundError\u001b[0m                       Traceback (most recent call last)",
      "\u001b[0;32m<ipython-input-1-e0e1492b7973>\u001b[0m in \u001b[0;36m<module>\u001b[0;34m\u001b[0m\n\u001b[1;32m      1\u001b[0m \u001b[0;32mimport\u001b[0m \u001b[0mnumpy\u001b[0m \u001b[0;32mas\u001b[0m \u001b[0mnp\u001b[0m\u001b[0;34m\u001b[0m\u001b[0;34m\u001b[0m\u001b[0m\n\u001b[0;32m----> 2\u001b[0;31m \u001b[0;32mimport\u001b[0m \u001b[0mmatplotlib\u001b[0m\u001b[0;34m.\u001b[0m\u001b[0mpyplot\u001b[0m \u001b[0;32mas\u001b[0m \u001b[0mplt\u001b[0m\u001b[0;34m\u001b[0m\u001b[0;34m\u001b[0m\u001b[0m\n\u001b[0m",
      "\u001b[0;31mModuleNotFoundError\u001b[0m: No module named 'matplotlib'"
     ]
    }
   ],
   "source": [
    "import numpy as np\n",
    "import matplotlib.pyplot as plt"
   ]
  },
  {
   "cell_type": "markdown",
   "metadata": {},
   "source": [
    "## 1. Toy Data Problem"
   ]
  },
  {
   "cell_type": "markdown",
   "metadata": {},
   "source": [
    "### Data From Your 100 Friends"
   ]
  },
  {
   "cell_type": "code",
   "execution_count": null,
   "metadata": {},
   "outputs": [],
   "source": [
    "socks=np.random.randint(1, 10, 100)\n",
    "pants=np.random.randint(1, 10, 100)\n",
    "other_impact=np.random.randn(100)\n",
    "cost=23.0*pants+5.0*socks+2.0*other_impact\n",
    "X=np.column_stack((socks, pants, other_impact, cost))"
   ]
  },
  {
   "cell_type": "markdown",
   "metadata": {},
   "source": [
    "### Visualization Cost v.s. Pants"
   ]
  },
  {
   "cell_type": "code",
   "execution_count": null,
   "metadata": {},
   "outputs": [],
   "source": [
    "plt.scatter(X[:,1], X[:,3])\n",
    "plt.title('Scatter plot')\n",
    "plt.xlabel('pants')\n",
    "plt.ylabel('cost')\n",
    "plt.show()"
   ]
  },
  {
   "cell_type": "markdown",
   "metadata": {},
   "source": [
    "### Visualization Cost v.s. Socks"
   ]
  },
  {
   "cell_type": "code",
   "execution_count": null,
   "metadata": {},
   "outputs": [],
   "source": [
    "plt.scatter(X[:,0], X[:,3])\n",
    "plt.title('Scatter plot')\n",
    "plt.xlabel('socks')\n",
    "plt.ylabel('cost')\n",
    "plt.show()"
   ]
  },
  {
   "cell_type": "markdown",
   "metadata": {},
   "source": [
    "## 2. Single Variable Linear Regression\n",
    "#### Model:  $y = \\beta_0 +\\beta_1 x$\n",
    "\n",
    "#### Model estimation:\n",
    "\\begin{equation}\n",
    "\\beta_1=\\frac{\\frac{1}{n}\\sum\\limits_{i=1}^{n}y^{i}x^{i}-\\bar{y}\\bar{x}}{{\\frac{1}{n}\\sum\\limits_{i=1}^{n}x^{i}x^{i}}-\\bar{x}\\bar{x}}=\\frac{Cov(X,Y)}{Var(X)}=\\rho_{XY}\\frac{\\sigma_X}{\\sigma_Y}\n",
    "\\end{equation}\n",
    "\\begin{equation}\n",
    "{\\beta_0}=(\\bar{y}-\\beta_1\\bar{x})\n",
    "\\end{equation}\n"
   ]
  },
  {
   "cell_type": "code",
   "execution_count": null,
   "metadata": {},
   "outputs": [],
   "source": [
    "Ycost=X[:, 3]  #use the 4th column i.e. cost as the target variable \n",
    "Xpants=X[:, 1] #use 2nd column i.e. number of pants as predictor"
   ]
  },
  {
   "cell_type": "code",
   "execution_count": null,
   "metadata": {},
   "outputs": [],
   "source": [
    "print(np.matmul(Xpants-np.mean(Xpants), Y.T-np.mean(Ycost))/100) #Biased estimation of Cov(X,Y)"
   ]
  },
  {
   "cell_type": "code",
   "execution_count": null,
   "metadata": {},
   "outputs": [],
   "source": [
    "print(np.cov(Xpants, Ycost, bias=True)[0][1]/(np.std(Xpants)*np.std(Ycost))) # set bias to be true to be consistent with the sklearn calculation"
   ]
  },
  {
   "cell_type": "markdown",
   "metadata": {},
   "source": [
    "#### Calculate the correlation coeffcient $\\rho_{XY}$"
   ]
  },
  {
   "cell_type": "code",
   "execution_count": null,
   "metadata": {},
   "outputs": [],
   "source": [
    "print (np.corrcoef(Xpants, Ycost)[0][1])"
   ]
  },
  {
   "cell_type": "markdown",
   "metadata": {},
   "source": [
    "#### Calculate the linear model coefficients \n",
    "\n",
    "$\\beta_1=\\rho_{XY}\\frac{\\sigma_X}{\\sigma_Y}$\n",
    "\n",
    "$\\beta_0=\\bar{y}-\\beta_1 \\bar{x}$"
   ]
  },
  {
   "cell_type": "code",
   "execution_count": null,
   "metadata": {},
   "outputs": [],
   "source": [
    "beta1=np.corrcoef(Xpants, Ycost)[0][1]*np.std(Ycost)/np.std(Xpants)\n",
    "\n",
    "print(\"beta1\", beta1)"
   ]
  },
  {
   "cell_type": "code",
   "execution_count": null,
   "metadata": {},
   "outputs": [],
   "source": [
    "beta0=np.mean(Ycost)-beta1*np.mean(Xpants)\n",
    "print('beta0', beta0)"
   ]
  },
  {
   "cell_type": "markdown",
   "metadata": {},
   "source": [
    "#### Use sklearn package function \n",
    "```class sklearn.linear_model.LinearRegression(fit_intercept=True, normalize=False, copy_X=True, n_jobs=None)```\n",
    "##### Memebers: coef_ ... et.c\n",
    "##### Methods: fit(self, X, y[, sample_weight]) ... etc.\n",
    "\n",
    "\n",
    "\n",
    "#### More Details https://scikit-learn.org/stable/modules/generated/sklearn.linear_model.LinearRegression.html"
   ]
  },
  {
   "cell_type": "code",
   "execution_count": null,
   "metadata": {},
   "outputs": [],
   "source": [
    "from sklearn.linear_model import LinearRegression"
   ]
  },
  {
   "cell_type": "code",
   "execution_count": null,
   "metadata": {},
   "outputs": [],
   "source": [
    "reg = LinearRegression() # Instantiate an object of class LinearRegression\n",
    "reg.fit(Xpants.reshape((100,1)), Ycost.reshape((100,1)))\n",
    "print ([reg.coef_, reg.intercept_])"
   ]
  },
  {
   "cell_type": "markdown",
   "metadata": {},
   "source": [
    "## 3. Multivariate Linear Regression\n",
    "\n",
    "#### Model:  $y = \\beta_0 +\\beta_1 x_1 + \\beta_2 x_2 +\\beta_3 x_3+....\\beta_m x_m$\n",
    "#### Model Estimation $\\beta=({X^T}{X})^{-1}{X^{T}}{y}$\n",
    "\n",
    "#### In our case $Cost=\\beta_0 + \\beta_1 socks+\\beta_2 pants $\n"
   ]
  },
  {
   "cell_type": "code",
   "execution_count": null,
   "metadata": {},
   "outputs": [],
   "source": [
    "Xpantsocks=X[:, [0, 1]]\n",
    "Ycost_colmat=Ycost.reshape(100,1)"
   ]
  },
  {
   "cell_type": "markdown",
   "metadata": {},
   "source": [
    "#### Fit a linear model with intercept"
   ]
  },
  {
   "cell_type": "code",
   "execution_count": null,
   "metadata": {},
   "outputs": [],
   "source": [
    "multireg = LinearRegression()\n",
    "multireg.fit(Xpantsocks, Ycost_colmat) #X[:,(0,1)] - use the first and second column as predictors\n",
    "# note the Ycost.reshape is to make the matrix match the dimention of Xpantsocks \n",
    "print ([multireg.coef_, multireg.intercept_])"
   ]
  },
  {
   "cell_type": "markdown",
   "metadata": {},
   "source": [
    "#### Fit a linear model without intercept"
   ]
  },
  {
   "cell_type": "code",
   "execution_count": null,
   "metadata": {},
   "outputs": [],
   "source": [
    "multireg = LinearRegression(fit_intercept=False)\n",
    "multireg.fit(Xpantsocks, Ycost_colmat) #X[:,(0,1)] - use the first and second column as predictors\n",
    "# note the Ycost.reshape is to make the matrix match the dimention of Xpantsocks \n",
    "print ([multireg.coef_, multireg.intercept_])"
   ]
  },
  {
   "cell_type": "markdown",
   "metadata": {},
   "source": [
    "#### Multivariate Linear Regression from Scratch: without intercept"
   ]
  },
  {
   "cell_type": "code",
   "execution_count": null,
   "metadata": {},
   "outputs": [],
   "source": [
    "#Calculate bete follow the estimation equation\n",
    "beta=np.matmul(np.matmul(np.linalg.inv(np.matmul(Xpantsocks.T, Xpantsocks)), Xpantsocks.T), Ycost_colmat)"
   ]
  },
  {
   "cell_type": "code",
   "execution_count": null,
   "metadata": {},
   "outputs": [],
   "source": [
    "print(beta) # note we are missing the beta0 coefficient, we need to add "
   ]
  },
  {
   "cell_type": "markdown",
   "metadata": {},
   "source": [
    "#### Multivariate Linear Regression from Scratch: with intercept\n",
    "#### Trick: add a column all of ones to the matrix Xpantsocks i.e. a matrix\n",
    "\\begin{equation}\n",
    "X_{nxm,1}=\\begin{bmatrix}x_{1,1} & x_{1,2} & \\dots & x_{1,n} &1   \\\\ a_{2,1} & a_{2,2} & \\dots & \\dots &1  \\\\      x_{3,1} & x_{3,2} & \\ddots & \\dots  &1\\\\      x_{n,1}  & \\vdots  & \\vdots & x_{n,m}   &1  \n",
    "\\end{bmatrix}  \n",
    "\\end{equation}\n",
    "The model results from this data set is \n",
    "\n",
    "$y=\\beta_0 x_0+\\beta_1 x_1+\\beta_2 x_2+ ....\\beta_3 x_3=\\beta_0 +\\beta_1 x_1+\\beta_2 x_2+ ....\\beta_3 x_3$\n",
    "because $x_0=1$"
   ]
  },
  {
   "cell_type": "code",
   "execution_count": null,
   "metadata": {},
   "outputs": [],
   "source": [
    "Xpantsocks_1=np.column_stack([Xpantsocks, np.ones([100, 1])]) #create the [X, 1] matrix"
   ]
  },
  {
   "cell_type": "code",
   "execution_count": null,
   "metadata": {},
   "outputs": [],
   "source": [
    "beta=np.matmul(np.matmul(np.linalg.inv(np.matmul(Xpantsocks_1.T, Xpantsocks_1)), Xpantsocks_1.T), Ycost_colmat)\n",
    "print(beta)"
   ]
  },
  {
   "cell_type": "markdown",
   "metadata": {},
   "source": [
    "## 4. Logistic Regression\n",
    "#### Likelihood \n",
    "\\begin{equation}\n",
    "\\ell=\\log(L)={\\sum_{i=1}^{n}y^i\\log(p_i)+(1-y^i)\\log(1-p_i)}\n",
    "\\end{equation}\n",
    "\n",
    "#### Parameter model\n",
    "\\begin{equation}\n",
    "p_i=\\frac{1}{1+\\exp\\left(-(\\beta_0+\\beta_1x_1^i+\\beta_2 x_2^i+...\\beta_m x_m^i)\\right)}\n",
    "\\end{equation}\n",
    "\n",
    "#### Newton-Raphson Method\n",
    "\n",
    "\\begin{equation}\n",
    "\\beta_{k+1}=\\beta_k-\\frac{\\ell'(\\beta_k)}{\\ell''(\\beta_k)}, \\text { until } |\\beta_{k+1}-\\beta_{k}|<\\delta\n",
    "\\end{equation}"
   ]
  },
  {
   "cell_type": "markdown",
   "metadata": {},
   "source": [
    "### Synthesized Data  "
   ]
  },
  {
   "cell_type": "code",
   "execution_count": 3,
   "metadata": {},
   "outputs": [],
   "source": [
    "X1 = 2*np.random.randn(5000, 1)\n",
    "X2 = 5*np.random.randn(5000, 1)\n",
    "X3 = np.random.randn(5000, 1)\n",
    "eta=0.5*X1+0.1*X2+1.56*X3-1\n",
    "X=np.column_stack([X1,X2, X3])\n",
    "p=1/(1+np.exp(-eta))\n",
    "y=np.random.binomial(1, p).reshape(5000,1)"
   ]
  },
  {
   "cell_type": "code",
   "execution_count": 4,
   "metadata": {},
   "outputs": [
    {
     "data": {
      "image/png": "[encoded data removed]",
      "text/plain": [
       "<Figure size 432x288 with 1 Axes>"
      ]
     },
     "metadata": {
      "needs_background": "light"
     },
     "output_type": "display_data"
    }
   ],
   "source": [
    "plt.scatter(X[:,1], y)\n",
    "plt.title('Scatter plot')\n",
    "plt.xlabel('X2')\n",
    "plt.ylabel('Label')\n",
    "plt.show()"
   ]
  },
  {
   "cell_type": "markdown",
   "metadata": {},
   "source": [
    "### Use sklearn package function \n",
    "```class sklearn.linear_model.LogisticRegression(penalty='l2', dual=False, tol=0.0001, C=1.0, fit_intercept=True, intercept_scaling=1, class_weight=None, random_state=None, solver='lbfgs', max_iter=100, multi_class='auto', verbose=0, warm_start=False, n_jobs=None, l1_ratio=None)```\n",
    "\n",
    "##### Memebers: coef_ ... et.c\n",
    "##### Methods: fit(self, X, y[, sample_weight]) ... etc.\n",
    "\n",
    "#### More Details https://scikit-learn.org/stable/modules/generated/sklearn.linear_model.LinearRegression.html"
   ]
  },
  {
   "cell_type": "code",
   "execution_count": 5,
   "metadata": {},
   "outputs": [],
   "source": [
    "from sklearn.linear_model import LogisticRegression\n",
    "lr=LogisticRegression(penalty='none', solver='newton-cg', fit_intercept=False)"
   ]
  },
  {
   "cell_type": "code",
   "execution_count": 7,
   "metadata": {},
   "outputs": [
    {
     "data": {
      "text/plain": [
       "LogisticRegression(C=1.0, class_weight=None, dual=False, fit_intercept=False,\n",
       "                   intercept_scaling=1, l1_ratio=None, max_iter=100,\n",
       "                   multi_class='auto', n_jobs=None, penalty='none',\n",
       "                   random_state=None, solver='newton-cg', tol=0.0001, verbose=0,\n",
       "                   warm_start=False)"
      ]
     },
     "execution_count": 7,
     "metadata": {},
     "output_type": "execute_result"
    }
   ],
   "source": [
    "lr.fit(X,y.reshape(y.size))"
   ]
  },
  {
   "cell_type": "code",
   "execution_count": 8,
   "metadata": {},
   "outputs": [
    {
     "name": "stdout",
     "output_type": "stream",
     "text": [
      "[array([[0.41366975, 0.07046864, 1.31422994]]), array([0.])]\n"
     ]
    }
   ],
   "source": [
    "print([lr.coef_, lr.intercept_])"
   ]
  },
  {
   "cell_type": "markdown",
   "metadata": {},
   "source": [
    "### Logistic Regression from Scratch"
   ]
  },
  {
   "cell_type": "markdown",
   "metadata": {},
   "source": [
    "#### Hessian Matrix:\n",
    "\\begin{align*}\n",
    "{{H}}={-X^TWX}, {W}=  \n",
    "\\begin{bmatrix}\n",
    "   {p_1 (1-p_1)} & & \\\\\n",
    "    & \\ddots & \\\\\n",
    "    & & {p_n (1-p_n)}\n",
    "  \\end{bmatrix}\n",
    "\\end{align*}"
   ]
  },
  {
   "cell_type": "markdown",
   "metadata": {},
   "source": [
    "#### Iteratively Re-Weighted Least Squares\n",
    "\\begin{align*}\n",
    "{\\vec{\\beta}^{(k+1)}} &\\leftarrow {\\vec{\\beta}^{(k)}+({X}^T{W}{X})^{-1}{X}^T({y}-{p})}\n",
    "\\end{align*}"
   ]
  },
  {
   "cell_type": "code",
   "execution_count": 9,
   "metadata": {},
   "outputs": [],
   "source": [
    "beta = np.array([0.2, 0.1, 0.1]).reshape(-1, 1) # Initialize beta"
   ]
  },
  {
   "cell_type": "code",
   "execution_count": 10,
   "metadata": {},
   "outputs": [
    {
     "name": "stdout",
     "output_type": "stream",
     "text": [
      "[[0.2]\n",
      " [0.1]\n",
      " [0.1]]\n"
     ]
    }
   ],
   "source": [
    "print(beta)"
   ]
  },
  {
   "cell_type": "markdown",
   "metadata": {},
   "source": [
    "#### Initialize the update value (set to be 1) for every iteration i.e.\n",
    "$\\Delta\\beta=({X}^T{W}{X})^{-1}{X}^T({y}-{p})$\n"
   ]
  },
  {
   "cell_type": "code",
   "execution_count": 11,
   "metadata": {},
   "outputs": [],
   "source": [
    "Deltabeta= np.array([0.1, 0.1, 0.1]).reshape(-1, 1)"
   ]
  },
  {
   "cell_type": "code",
   "execution_count": 12,
   "metadata": {},
   "outputs": [
    {
     "name": "stdout",
     "output_type": "stream",
     "text": [
      "[[0.41366975 0.07046864 1.31422994]]\n"
     ]
    }
   ],
   "source": [
    "while np.max(np.abs(Deltabeta))>1e-15:\n",
    "    p=1/(1+np.exp(-np.matmul(X, beta)))\n",
    "    W=np.diag(np.multiply(p,(1-p))[:,0])\n",
    "    XtY=np.matmul(X.T, (y-p))\n",
    "    XtWX=np.matmul(np.matmul(X.T, W), X)\n",
    "    Deltabeta=np.matmul(np.linalg.inv(XtWX), XtY)\n",
    "    beta=np.add(beta, Deltabeta)\n",
    "print(beta.T)"
   ]
  },
  {
   "cell_type": "markdown",
   "metadata": {},
   "source": [
    "#### Model Prediction"
   ]
  },
  {
   "cell_type": "markdown",
   "metadata": {},
   "source": [
    "##### Prediction use home-made logistic regression model"
   ]
  },
  {
   "cell_type": "code",
   "execution_count": 13,
   "metadata": {},
   "outputs": [
    {
     "data": {
      "text/plain": [
       "array([0.44314002])"
      ]
     },
     "execution_count": 13,
     "metadata": {},
     "output_type": "execute_result"
    }
   ],
   "source": [
    "1/(1+np.exp(-np.dot(beta.T, X[0])))"
   ]
  },
  {
   "cell_type": "markdown",
   "metadata": {},
   "source": [
    "##### Prediction use sklearn built-in logistic regression model"
   ]
  },
  {
   "cell_type": "code",
   "execution_count": 14,
   "metadata": {},
   "outputs": [
    {
     "data": {
      "text/plain": [
       "array([[0.55685998, 0.44314002]])"
      ]
     },
     "execution_count": 14,
     "metadata": {},
     "output_type": "execute_result"
    }
   ],
   "source": [
    "lr.predict_proba(X[0:1])"
   ]
  },
  {
   "cell_type": "code",
   "execution_count": 15,
   "metadata": {},
   "outputs": [
    {
     "data": {
      "text/plain": [
       "array([[0.55685998, 0.44314002],\n",
       "       [0.31766022, 0.68233978],\n",
       "       [0.84533305, 0.15466695],\n",
       "       [0.92242411, 0.07757589],\n",
       "       [0.44508755, 0.55491245],\n",
       "       [0.10161411, 0.89838589],\n",
       "       [0.74820946, 0.25179054],\n",
       "       [0.81449061, 0.18550939],\n",
       "       [0.844451  , 0.155549  ],\n",
       "       [0.20970116, 0.79029884]])"
      ]
     },
     "execution_count": 15,
     "metadata": {},
     "output_type": "execute_result"
    }
   ],
   "source": [
    "lr.predict_proba(X[0:10]) "
   ]
  },
  {
   "cell_type": "code",
   "execution_count": 16,
   "metadata": {},
   "outputs": [
    {
     "data": {
      "text/plain": [
       "array([0, 1, 0, 0, 1, 1, 0, 0, 0, 1])"
      ]
     },
     "execution_count": 16,
     "metadata": {},
     "output_type": "execute_result"
    }
   ],
   "source": [
    "lr.predict(X[0:10]) "
   ]
  },
  {
   "cell_type": "code",
   "execution_count": null,
   "metadata": {},
   "outputs": [],
   "source": []
  }
 ],
 "metadata": {
  "kernelspec": {
   "display_name": "Python 3",
   "language": "python",
   "name": "python3"
  },
  "language_info": {
   "codemirror_mode": {
    "name": "ipython",
    "version": 3
   },
   "file_extension": ".py",
   "mimetype": "text/x-python",
   "name": "python",
   "nbconvert_exporter": "python",
   "pygments_lexer": "ipython3",
   "version": "3.6.9"
  }
 },
 "nbformat": 4,
 "nbformat_minor": 2
}
