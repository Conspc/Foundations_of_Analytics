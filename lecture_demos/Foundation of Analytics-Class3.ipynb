{
 "cells": [
  {
   "cell_type": "code",
   "execution_count": 1,
   "metadata": {},
   "outputs": [],
   "source": [
    "import numpy as np\n",
    "from sklearn.linear_model import LinearRegression"
   ]
  },
  {
   "cell_type": "markdown",
   "metadata": {},
   "source": [
    "## Linear Regression"
   ]
  },
  {
   "cell_type": "code",
   "execution_count": 16,
   "metadata": {},
   "outputs": [],
   "source": [
    "X=2*np.random.randn(1, 5000)\n",
    "Y=.3*X+10+np.random.randn(1, 5000)\n",
    "trial_matrix=np.column_stack([X.T, Y.T])"
   ]
  },
  {
   "cell_type": "code",
   "execution_count": 17,
   "metadata": {},
   "outputs": [
    {
     "name": "stdout",
     "output_type": "stream",
     "text": [
      "[[ 2.23654929 -0.17936652  1.42323186 ... -3.03289477  2.35717192\n",
      "   0.54653689]]\n"
     ]
    }
   ],
   "source": [
    "print X"
   ]
  },
  {
   "cell_type": "code",
   "execution_count": 18,
   "metadata": {},
   "outputs": [
    {
     "data": {
      "text/plain": [
       "(1, 5000)"
      ]
     },
     "execution_count": 18,
     "metadata": {},
     "output_type": "execute_result"
    }
   ],
   "source": [
    "X.shape"
   ]
  },
  {
   "cell_type": "code",
   "execution_count": 19,
   "metadata": {},
   "outputs": [
    {
     "name": "stdout",
     "output_type": "stream",
     "text": [
      "0.2960081689707146\n"
     ]
    }
   ],
   "source": [
    "print np.cov(X, Y)[0][1]/np.cov(X)"
   ]
  },
  {
   "cell_type": "code",
   "execution_count": 20,
   "metadata": {},
   "outputs": [
    {
     "name": "stdout",
     "output_type": "stream",
     "text": [
      "0.2960081689707145\n"
     ]
    }
   ],
   "source": [
    "print np.corrcoef(X, Y)[0][1]*np.std(Y)/np.std(X)"
   ]
  },
  {
   "cell_type": "code",
   "execution_count": 21,
   "metadata": {},
   "outputs": [
    {
     "data": {
      "text/plain": [
       "(1, 5000)"
      ]
     },
     "execution_count": 21,
     "metadata": {},
     "output_type": "execute_result"
    }
   ],
   "source": [
    "X.shape"
   ]
  },
  {
   "cell_type": "code",
   "execution_count": 22,
   "metadata": {},
   "outputs": [
    {
     "name": "stdout",
     "output_type": "stream",
     "text": [
      "[array([[0.29600817]]), array([10.02781992])]\n"
     ]
    }
   ],
   "source": [
    "reg = LinearRegression().fit(X.T, Y.T)\n",
    "print [reg.coef_, reg.intercept_]"
   ]
  },
  {
   "cell_type": "markdown",
   "metadata": {},
   "source": [
    "## Logistic Regression"
   ]
  },
  {
   "cell_type": "code",
   "execution_count": 24,
   "metadata": {},
   "outputs": [],
   "source": [
    "X1 = 2*np.random.randn(1, 5000)\n",
    "X2 = 5*np.random.randn(1, 5000)\n",
    "X3 = np.random.randn(1, 5000)\n",
    "\n",
    "Y=3.9*X1+1.2*X2+4.56*X3+5+np.random.randn(1, 5000)\n",
    "\n",
    "X=np.column_stack([X1.T,X2.T, X3.T])"
   ]
  },
  {
   "cell_type": "code",
   "execution_count": 25,
   "metadata": {},
   "outputs": [
    {
     "name": "stdout",
     "output_type": "stream",
     "text": [
      "[[3.8528096 ]\n",
      " [1.21549679]\n",
      " [4.60116626]]\n",
      "[array([[3.89075888, 1.19940115, 4.57414724]]), array([4.99717684])]\n"
     ]
    }
   ],
   "source": [
    "reg=LinearRegression().fit(X, Y.T)\n",
    "\n",
    "print np.matmul(np.matmul(np.linalg.inv(np.matmul(X.T, X)), X.T), Y.T)\n",
    "print [reg.coef_, reg.intercept_]\n",
    "\n",
    "trial_matrix=np.column_stack([X1.T, X2.T, X3.T, Y.T])\n",
    "#[[3.95371373]\n",
    "# [1.20145993]"
   ]
  }
 ],
 "metadata": {
  "kernelspec": {
   "display_name": "Python 2",
   "language": "python",
   "name": "python2"
  },
  "language_info": {
   "codemirror_mode": {
    "name": "ipython",
    "version": 2
   },
   "file_extension": ".py",
   "mimetype": "text/x-python",
   "name": "python",
   "nbconvert_exporter": "python",
   "pygments_lexer": "ipython2",
   "version": "2.7.15rc1"
  }
 },
 "nbformat": 4,
 "nbformat_minor": 2
}
